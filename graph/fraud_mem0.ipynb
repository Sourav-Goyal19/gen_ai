{
 "cells": [
  {
   "cell_type": "code",
   "execution_count": 1,
   "id": "df25f959",
   "metadata": {},
   "outputs": [
    {
     "data": {
      "text/plain": [
       "True"
      ]
     },
     "execution_count": 1,
     "metadata": {},
     "output_type": "execute_result"
    }
   ],
   "source": [
    "import os\n",
    "import json\n",
    "from dotenv import load_dotenv\n",
    "\n",
    "load_dotenv()\n"
   ]
  },
  {
   "cell_type": "code",
   "execution_count": 3,
   "id": "d212b5d9",
   "metadata": {},
   "outputs": [],
   "source": [
    "from mem0 import Memory\n"
   ]
  },
  {
   "cell_type": "code",
   "execution_count": 4,
   "id": "83e7d09a",
   "metadata": {},
   "outputs": [],
   "source": [
    "config = {\n",
    "    \"version\": \"v1.1\",\n",
    "    \"llm\": {\n",
    "        \"provider\": \"gemini\",\n",
    "        \"config\": {\n",
    "            \"api_key\": os.getenv(\"GOOGLE_API_KEY\"),\n",
    "            \"model\": \"gemini-2.0-flash\",\n",
    "        }\n",
    "    },\n",
    "    \"embedder\": {\n",
    "        \"provider\": \"gemini\",\n",
    "        \"config\": {\n",
    "            \"model\": \"models/text-embedding-004\",\n",
    "            \"embedding_dims\": 768,\n",
    "            \"api_key\": os.getenv(\"GOOGLE_API_KEY\"),\n",
    "        }\n",
    "    },\n",
    "    \"graph_store\": {\n",
    "        \"provider\": \"neo4j\",\n",
    "        \"config\": {\n",
    "            \"url\": \"bolt://localhost:7687\",\n",
    "            \"username\": \"neo4j\",\n",
    "            \"password\": \"fraud_detection\"\n",
    "        }\n",
    "    },\n",
    "}\n"
   ]
  },
  {
   "cell_type": "code",
   "execution_count": 5,
   "id": "6ba41a19",
   "metadata": {},
   "outputs": [
    {
     "name": "stderr",
     "output_type": "stream",
     "text": [
      "d:\\Python\\gen_ai\\.venv\\Lib\\site-packages\\tqdm\\auto.py:21: TqdmWarning: IProgress not found. Please update jupyter and ipywidgets. See https://ipywidgets.readthedocs.io/en/stable/user_install.html\n",
      "  from .autonotebook import tqdm as notebook_tqdm\n"
     ]
    }
   ],
   "source": [
    "m = Memory.from_config(config);\n"
   ]
  },
  {
   "cell_type": "code",
   "execution_count": 6,
   "id": "30c655a3",
   "metadata": {},
   "outputs": [
    {
     "data": {
      "text/plain": [
       "{'results': [{'id': '4f307704-e721-4ac3-8c80-dce3caab7bc1',\n",
       "   'memory': \"Friend's name is John\",\n",
       "   'event': 'ADD'},\n",
       "  {'id': '3ce78799-cfcc-4323-9745-d291069070bd',\n",
       "   'memory': 'John has a dog named Tommy',\n",
       "   'event': 'ADD'}],\n",
       " 'relations': {'deleted_entities': [],\n",
       "  'added_entities': [[{'source': 'test123',\n",
       "     'relationship': 'friend',\n",
       "     'target': 'john'}],\n",
       "   [{'source': 'john', 'relationship': 'has', 'target': 'tommy'}]]}}"
      ]
     },
     "execution_count": 6,
     "metadata": {},
     "output_type": "execute_result"
    }
   ],
   "source": [
    "m.add(\"My friend name is john and john has a dog named tommy\", user_id=\"test123\")\n"
   ]
  }
 ],
 "metadata": {
  "kernelspec": {
   "display_name": ".venv",
   "language": "python",
   "name": "python3"
  },
  "language_info": {
   "codemirror_mode": {
    "name": "ipython",
    "version": 3
   },
   "file_extension": ".py",
   "mimetype": "text/x-python",
   "name": "python",
   "nbconvert_exporter": "python",
   "pygments_lexer": "ipython3",
   "version": "3.12.5"
  }
 },
 "nbformat": 4,
 "nbformat_minor": 5
}
