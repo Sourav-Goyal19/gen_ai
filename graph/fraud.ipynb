{
 "cells": [
  {
   "cell_type": "code",
   "execution_count": 1,
   "id": "13dcf0f1",
   "metadata": {},
   "outputs": [
    {
     "data": {
      "text/plain": [
       "True"
      ]
     },
     "execution_count": 1,
     "metadata": {},
     "output_type": "execute_result"
    }
   ],
   "source": [
    "import os\n",
    "import re\n",
    "import pandas as pd\n",
    "from typing import Optional\n",
    "from dotenv import load_dotenv\n",
    "from pydantic import BaseModel, Field\n",
    "\n",
    "load_dotenv()\n"
   ]
  },
  {
   "cell_type": "code",
   "execution_count": 2,
   "id": "b023f5c4",
   "metadata": {},
   "outputs": [],
   "source": [
    "from langchain_core.tools import tool\n",
    "from langchain_neo4j import Neo4jGraph\n",
    "from langchain_google_genai import ChatGoogleGenerativeAI\n",
    "from langchain_core.prompts import ChatPromptTemplate, MessagesPlaceholder\n",
    "from langchain_core.output_parsers import JsonOutputParser, PydanticOutputParser\n",
    "from langchain.output_parsers import OutputFixingParser\n"
   ]
  },
  {
   "cell_type": "code",
   "execution_count": 4,
   "id": "5b781a1e",
   "metadata": {},
   "outputs": [],
   "source": [
    "graph = Neo4jGraph(refresh_schema=False, url=\"bolt://localhost:7687\", username=\"neo4j\", password=\"fraud_detection\")\n"
   ]
  },
  {
   "cell_type": "code",
   "execution_count": 6,
   "id": "9c681dd9",
   "metadata": {},
   "outputs": [],
   "source": [
    "llm = ChatGoogleGenerativeAI(\n",
    "    api_key= os.getenv(\"GOOGLE_API_KEY\"),\n",
    "    model=\"gemini-1.5-flash\"\n",
    ")\n"
   ]
  },
  {
   "cell_type": "code",
   "execution_count": 8,
   "id": "b5e0d330",
   "metadata": {},
   "outputs": [],
   "source": [
    "class Response(BaseModel):\n",
    "    step: str = Field(description=\"Current step name\")\n",
    "    content:str = Field(description=\"A response of the current step.\", default=\"\")\n",
    "    tool_name: Optional[str] = Field(description=\"Name of the tool that has to call.\", default=None)\n",
    "    tool_args: Optional[str] = Field(description=\"Arguments or parameters for the tool.\", default=None)\n",
    "    tool_res: Optional[str] = None\n",
    "    \n",
    "parser = PydanticOutputParser(pydantic_object=Response)\n"
   ]
  },
  {
   "cell_type": "code",
   "execution_count": 10,
   "id": "34ffb372",
   "metadata": {},
   "outputs": [],
   "source": [
    "@tool\n",
    "def csv_details(csv_file: str) -> str:\n",
    "    \"\"\"Returns CSV file starting 5 rows with column names\"\"\"\n",
    "    data = pd.read_csv(f\"../datasets/{csv_file}\")\n",
    "    return data.head().to_csv(index=False)\n",
    "\n"
   ]
  },
  {
   "cell_type": "code",
   "execution_count": 11,
   "id": "dfafe42b",
   "metadata": {},
   "outputs": [
    {
     "name": "stdout",
     "output_type": "stream",
     "text": [
      "person,age,company,city\n",
      "Alice,28,NeoTech,New York\n",
      "Bob,32,CyberCorp,San Francisco\n",
      "Charlie,28,NeoTech,New York\n",
      "Dave,45,HealthPlus,Chicago\n",
      "Eve,28,CyberCorp,San Francisco\n",
      "\n"
     ]
    }
   ],
   "source": [
    "r = await csv_details.ainvoke(\"test.csv\")\n",
    "print(r)\n"
   ]
  },
  {
   "cell_type": "code",
   "execution_count": 15,
   "id": "3e1cbcf5",
   "metadata": {},
   "outputs": [],
   "source": [
    "@tool\n",
    "async def cql_executor(cql: str) -> str:\n",
    "    \"\"\"Executes Cypher query on Neo4j and returns results or error message.\"\"\"\n",
    "    \n",
    "    try:\n",
    "        graph.query(f\"\"\"{cql}\"\"\")\n",
    "        return f\"✅ Sucessfully Executed\";\n",
    "    except Exception as e:\n",
    "        return f\"❌ FAILED: {str(e)}\";\n",
    "\n"
   ]
  },
  {
   "cell_type": "code",
   "execution_count": 19,
   "id": "5690426f",
   "metadata": {},
   "outputs": [],
   "source": [
    "# r = await cql_executor.ainvoke(\"MERGE (p:Person {name: 'Sourav'}) RETURN p;\")\n"
   ]
  },
  {
   "cell_type": "code",
   "execution_count": 20,
   "id": "3e1317ac",
   "metadata": {},
   "outputs": [],
   "source": [
    "tools_list = [csv_details, cql_executor]\n"
   ]
  },
  {
   "cell_type": "code",
   "execution_count": 21,
   "id": "878daa5e",
   "metadata": {},
   "outputs": [
    {
     "name": "stdout",
     "output_type": "stream",
     "text": [
      "{'csv_details': {'description': 'Returns CSV file starting 5 rows with column names', 'parameters': {'csv_file': {'title': 'Csv File', 'type': 'string'}}, 'fn': StructuredTool(name='csv_details', description='Returns CSV file starting 5 rows with column names', args_schema=<class 'langchain_core.utils.pydantic.csv_details'>, func=<function csv_details at 0x000001D637B62A20>)}, 'cql_executor': {'description': 'Executes Cypher query on Neo4j and returns results or error message.', 'parameters': {'cql': {'title': 'Cql', 'type': 'string'}}, 'fn': StructuredTool(name='cql_executor', description='Executes Cypher query on Neo4j and returns results or error message.', args_schema=<class 'langchain_core.utils.pydantic.cql_executor'>, coroutine=<function cql_executor at 0x000001D637BBCC20>)}}\n"
     ]
    }
   ],
   "source": [
    "tools = {}\n",
    "for tl in tools_list:\n",
    "    tools[tl.name] = {\n",
    "        \"description\": tl.description,\n",
    "        \"parameters\": tl.args,\n",
    "        \"fn\": tl\n",
    "    }\n",
    "print(tools)\n"
   ]
  },
  {
   "cell_type": "code",
   "execution_count": 22,
   "id": "59c2bdfc",
   "metadata": {},
   "outputs": [],
   "source": [
    "def escape_braces(obj):\n",
    "    string_repr = str(obj)\n",
    "    escaped = string_repr.replace('{', '{{').replace('}', '}}')\n",
    "    return escaped\n"
   ]
  },
  {
   "cell_type": "code",
   "execution_count": 23,
   "id": "b5e7d523",
   "metadata": {},
   "outputs": [],
   "source": [
    "tools_definition = escape_braces(tools)\n",
    "# tools_definition\n"
   ]
  },
  {
   "cell_type": "code",
   "execution_count": 24,
   "id": "895e6c5f",
   "metadata": {},
   "outputs": [],
   "source": [
    "prompt = ChatPromptTemplate.from_messages([\n",
    "    (\"system\", \"\"\"\n",
    "        You are an expert graph database engineer. You are expert in writing Cypher Query Language(CQL).\n",
    "        \n",
    "        #Instructions\n",
    "        You takes user data, understand their data, and then writes cypher query language to insert that data in a graph database.\n",
    "        You properly categorize data into entities and then start creating relationship between them.\n",
    "        You works in a flow that, think -> research -> entities -> relationships -> cql -> observe -> output.\n",
    "        You use your tools according to situations when needed.\n",
    "        You are allowed to use your tool anytime in-between the flow. \n",
    "        \n",
    "        #Rules\n",
    "        You perform only one step at a time.\n",
    "        You execute only one step of a flow at a time.\n",
    "        You can use your tool anytime in between the flow. \n",
    "        \n",
    "        #Format Instructions\n",
    "        {format_instructions}\n",
    "        \n",
    "        Here is your tools list:\n",
    "        {tools}\n",
    "        \n",
    "        #Example\n",
    "        - Input - Store the given csv file data in the graph database.\n",
    "                File = people_company_city.csv\n",
    "        - Output: {{ 'step': 'think', 'content': 'Okay, user want to store the given file data in a graph database. To store that data I have to collect information about that and understand that. To get the information about that csv file, I should use my tool.' }}\n",
    "        - Output - {{ 'step': 'tool', 'content': '', 'tool_name': 'csv_details', 'tool_args': 'people_company_city.csv'}}\n",
    "        - Output - {{ 'step': 'tool_res', 'content': 'person,age,company,city\\\\r\\\\nAlice,28,NeoTech,New York\\\\r\\\\nBob,32,CyberCorp,San Francisco\\\\r\\\\nCharlie,28,NeoTech,New York\\\\r\\\\nDave,45,HealthPlus,Chicago\\\\r\\\\nEve,28,CyberCorp,San Francisco\\\\r\\\\n'}}\n",
    "        - Output:  {{ 'step': 'research', 'content': 'I can see that the csv is about the people who works in different companies in different cities.' }}\n",
    "        - Output: {{ 'step': 'entities', 'content': 'Now, I have to find entities. I can see from my research that there are total 4 entities, i.e.,  Person, Age, Company and City.' }}\n",
    "        - Output: {{ 'step': 'relationships', 'content': 'Now, I have to make relationships between entities. Since, I have already found the entities and I also have the starting data of the CSV from my research, so now I can easily make the relationships between them. \n",
    "        Relationships:\n",
    "         Person - [:is_of] -> Age\n",
    "         Person - [:works_in] -> Company\n",
    "         Person - [:lives_in] -> City\n",
    "         Company - [:located_in] -> City' }} \n",
    "        - Output: {{ 'step': 'cql', 'content': 'Now, I have to write cypher query language to store the csv into the graph db. Since, I have already found the entites and the relationships between them, now I can easily write the cql for them.\n",
    "        CQL:\n",
    "         LOAD CSV WITH HEADERS\n",
    "         FROM \"file:///people_company_city.csv\" AS row\n",
    " \n",
    "         MERGE (p:Person {{name: row.person}})\n",
    "         SET p.age = toInteger(row.age)\n",
    " \n",
    "         MERGE (co:Company {{name: row.company}})\n",
    "         MERGE (ci:City {{name: row.city}})\n",
    " \n",
    "         MERGE (p)-[:WORKS_AT]->(co)\n",
    "         MERGE (p)-[:LIVES_IN]->(ci)\n",
    "         MERGE (co)-[:LOCATED_IN]->(ci);\n",
    "        I should use my tool to execute this cql. \n",
    "        ' }}\n",
    "        - Output - {{ 'step': 'tool', 'content': '', 'tool_name': 'cql_executor', 'tool_args': 'LOAD CSV WITH HEADERS\n",
    "         FROM \"file:///people_company_city.csv\" AS row\n",
    " \n",
    "         MERGE (p:Person {{name: row.person}})\n",
    "         SET p.age = toInteger(row.age)\n",
    " \n",
    "         MERGE (co:Company {{name: row.company}})\n",
    "         MERGE (ci:City {{name: row.city}})\n",
    " \n",
    "         MERGE (p)-[:WORKS_AT]->(co)\n",
    "         MERGE (p)-[:LIVES_IN]->(ci)\n",
    "         MERGE (co)-[:LOCATED_IN]->(ci);' }}\n",
    "        - Output - {{ 'step': 'tool_res', 'content': '✅ Executed successfully.'}} \n",
    "        - Output: {{ 'step': 'observe', 'content': 'Now, it is looking that cql has been written and executed successfully according to the tool response. So now I am ready to give the final output to the user.' }}\n",
    "        - Output: {{ 'step': 'result', 'content': 'Your people_company_city.csv file has successfully stored to the graph database.' }}\n",
    "        \n",
    "        **IMPORTANT NOTE** - Do only 1 step at a time of flow as shown in example.\n",
    "    \"\"\"),\n",
    "    MessagesPlaceholder(\"history\"),\n",
    "    (\"human\", \"{query}\"),\n",
    "])\n"
   ]
  },
  {
   "cell_type": "code",
   "execution_count": 25,
   "id": "3bb0af90",
   "metadata": {},
   "outputs": [],
   "source": [
    "history = []\n"
   ]
  },
  {
   "cell_type": "code",
   "execution_count": 26,
   "id": "9cb89e3d",
   "metadata": {},
   "outputs": [],
   "source": [
    "new_parser = OutputFixingParser.from_llm(llm=llm, parser=JsonOutputParser())\n"
   ]
  },
  {
   "cell_type": "code",
   "execution_count": 27,
   "id": "048b2537",
   "metadata": {},
   "outputs": [],
   "source": [
    "chain = prompt | llm | new_parser\n"
   ]
  },
  {
   "cell_type": "code",
   "execution_count": 29,
   "id": "a55d203f",
   "metadata": {},
   "outputs": [
    {
     "name": "stdout",
     "output_type": "stream",
     "text": [
      "{'step': 'think', 'content': \"The user wants to store data from the synthetic_bank_transactions.csv file into a graph database.  I need to understand the data's structure and relationships to design an appropriate Cypher query.  To do this, I will first use a tool to examine the CSV file's contents.\"}\n",
      "****************************************************************************************************\n",
      "{'step': 'tool', 'content': '', 'tool_name': 'csv_details', 'tool_args': 'synthetic_bank_transactions.csv', 'tool_res': None}\n",
      "****************************************************************************************************\n",
      "{'step': 'tool_res', 'content': 'transaction_id,timestamp,amount,currency,sender_account_id,receiver_account_id,sender_customer_id,receiver_customer_id,transaction_type,sender_country,receiver_country\\r\\n1,2025-06-04T08:32:11,89290.85,INR,ACC1005,ACC1079,CUST024,CUST028,payment,China,India\\r\\n2,2025-06-05T20:54:25,53829.7,INR,ACC1093,ACC1043,CUST029,CUST007,transfer,India,India\\r\\n3,2025-06-05T14:54:32,23855.51,INR,ACC1098,ACC1016,CUST026,CUST031,payment,India,India\\r\\n4,2025-06-04T22:51:56,39973.17,INR,ACC1031,ACC1027,CUST007,CUST017,payment,India,India\\r\\n5,2025-06-06T05:57:49,1208.21,INR,ACC1001,ACC1054,CUST007,CUST009,payment,India,India\\r\\n'}\n",
      "****************************************************************************************************\n",
      "{'step': 'research', 'content': 'The CSV file contains data about bank transactions. Key entities appear to be Transaction, Account, Customer, and Country. Relationships will likely include: Transaction -[sends]-> Account (sender), Transaction -[receives]-> Account (receiver), Account -[owned_by]-> Customer, and Account -[located_in]-> Country.'}\n",
      "****************************************************************************************************\n",
      "{'step': 'entities', 'content': 'Transaction, Account, Customer, Country'}\n",
      "****************************************************************************************************\n",
      "{'step': 'relationships', 'content': 'Transaction-[sent_from]->Account,\\nTransaction-[received_by]->Account,\\nAccount-[owned_by]->Customer,\\nAccount-[located_in]->Country'}\n",
      "****************************************************************************************************\n",
      "{'step': 'cql', 'content': \"```cypher\\nLOAD CSV WITH HEADERS FROM 'file:///synthetic_bank_transactions.csv' AS row\\n\\nMERGE (t:Transaction {transaction_id: toInteger(row.transaction_id)})\\nSET t.timestamp = datetime(row.timestamp), t.amount = toFloat(row.amount), t.currency = row.currency, t.transaction_type = row.transaction_type\\n\\nMERGE (s:Account {account_id: row.sender_account_id})\\nMERGE (r:Account {account_id: row.receiver_account_id})\\n\\nMERGE (sc:Customer {customer_id: row.sender_customer_id})\\nMERGE (rc:Customer {customer_id: row.receiver_customer_id})\\n\\nMERGE (s_country:Country {country_code: row.sender_country})\\nMERGE (r_country:Country {country_code: row.receiver_country})\\n\\nMERGE (t)-[:SENT_FROM]->(s)\\nMERGE (t)-[:RECEIVED_BY]->(r)\\nMERGE (s)-[:OWNED_BY]->(sc)\\nMERGE (r)-[:OWNED_BY]->(rc)\\nMERGE (s)-[:LOCATED_IN]->(s_country)\\nMERGE (r)-[:LOCATED_IN]->(r_country);\\n```\"}\n",
      "****************************************************************************************************\n",
      "{'step': 'tool', 'content': '', 'tool_name': 'cql_executor', 'tool_args': \"LOAD CSV WITH HEADERS FROM 'file:///synthetic_bank_transactions.csv' AS row\\n\\nMERGE (t:Transaction {transaction_id: toInteger(row.transaction_id)})\\nSET t.timestamp = datetime(row.timestamp), t.amount = toFloat(row.amount), t.currency = row.currency, t.transaction_type = row.transaction_type\\n\\nMERGE (s:Account {account_id: row.sender_account_id})\\nMERGE (r:Account {account_id: row.receiver_account_id})\\n\\nMERGE (sc:Customer {customer_id: row.sender_customer_id})\\nMERGE (rc:Customer {customer_id: row.receiver_customer_id})\\n\\nMERGE (s_country:Country {country_code: row.sender_country})\\nMERGE (r_country:Country {country_code: row.receiver_country})\\n\\nMERGE (t)-[:SENT_FROM]->(s)\\nMERGE (t)-[:RECEIVED_BY]->(r)\\nMERGE (s)-[:OWNED_BY]->(sc)\\nMERGE (r)-[:OWNED_BY]->(rc)\\nMERGE (s)-[:LOCATED_IN]->(s_country)\\nMERGE (r)-[:LOCATED_IN]->(r_country);\", 'tool_res': None}\n",
      "****************************************************************************************************\n",
      "{'step': 'tool_res', 'content': '✅ Sucessfully Executed'}\n",
      "****************************************************************************************************\n",
      "{'step': 'observe', 'content': 'The Cypher query executed successfully. The data from synthetic_bank_transactions.csv has been loaded into the graph database.'}\n",
      "****************************************************************************************************\n",
      "{'step': 'result', 'content': 'The data from synthetic_bank_transactions.csv has been successfully loaded into the graph database.'}\n",
      "****************************************************************************************************\n"
     ]
    }
   ],
   "source": [
    "while True:\n",
    "    results = chain.invoke(input={\n",
    "        \"history\": history,\n",
    "        \"query\": \"synthetic_bank_transactions.csv\",\n",
    "        \"tools\": tools_definition,\n",
    "        \"format_instructions\": parser.get_format_instructions()\n",
    "    })\n",
    "\n",
    "    print(results)\n",
    "    print(\"*\"*100);\n",
    "    \n",
    "    if results == None:\n",
    "        break;\n",
    "    \n",
    "    if results.get(\"step\") == \"result\":\n",
    "        break;\n",
    "    \n",
    "    history.append((\"ai\", escape_braces(results)));\n",
    "    \n",
    "    if results.get(\"step\") == \"tool\":\n",
    "        tool_name = results.get(\"tool_name\")\n",
    "        tool_args = results.get(\"tool_args\")\n",
    "        if tool_name in tools:\n",
    "            tool_res = await tools.get(tool_name).get(\"fn\").ainvoke(tool_args)\n",
    "            tool_res = {\"step\": \"tool_res\", \"content\": tool_res}\n",
    "            print(tool_res);\n",
    "            print(\"*\"*100);\n",
    "            history.append((\"ai\", escape_braces(tool_res)))\n",
    "\n"
   ]
  },
  {
   "cell_type": "code",
   "execution_count": null,
   "id": "c37e7a5e",
   "metadata": {},
   "outputs": [],
   "source": [
    "history.pop()\n"
   ]
  },
  {
   "cell_type": "code",
   "execution_count": null,
   "id": "cc4e593f",
   "metadata": {},
   "outputs": [],
   "source": [
    "history\n"
   ]
  }
 ],
 "metadata": {
  "kernelspec": {
   "display_name": ".venv",
   "language": "python",
   "name": "python3"
  },
  "language_info": {
   "codemirror_mode": {
    "name": "ipython",
    "version": 3
   },
   "file_extension": ".py",
   "mimetype": "text/x-python",
   "name": "python",
   "nbconvert_exporter": "python",
   "pygments_lexer": "ipython3",
   "version": "3.12.5"
  }
 },
 "nbformat": 4,
 "nbformat_minor": 5
}
