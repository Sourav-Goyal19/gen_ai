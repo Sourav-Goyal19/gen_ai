{
 "cells": [
  {
   "cell_type": "code",
   "execution_count": null,
   "id": "c4879e48",
   "metadata": {},
   "outputs": [
    {
     "data": {
      "text/plain": [
       "True"
      ]
     },
     "execution_count": 11,
     "metadata": {},
     "output_type": "execute_result"
    }
   ],
   "source": [
    "import os\n",
    "from typing import Optional\n",
    "from dotenv import load_dotenv\n",
    "from pydantic import BaseModel, Field\n",
    "\n",
    "load_dotenv()\n"
   ]
  },
  {
   "cell_type": "code",
   "execution_count": null,
   "id": "3c8950cc",
   "metadata": {},
   "outputs": [],
   "source": [
    "from langchain_core.tools import tool\n",
    "from langchain_neo4j import Neo4jGraph\n",
    "from langchain.output_parsers import OutputFixingParser\n",
    "from langchain_google_genai import ChatGoogleGenerativeAI\n",
    "from langchain_core.prompts import ChatPromptTemplate, MessagesPlaceholder\n",
    "from langchain_core.output_parsers import JsonOutputParser, PydanticOutputParser\n"
   ]
  },
  {
   "cell_type": "code",
   "execution_count": 5,
   "id": "5e7161b7",
   "metadata": {},
   "outputs": [],
   "source": [
    "graph = Neo4jGraph(refresh_schema=False, url=\"bolt://localhost:7687\", username=\"neo4j\", password=\"fraud_detection\")\n"
   ]
  },
  {
   "cell_type": "code",
   "execution_count": null,
   "id": "a0c9c039",
   "metadata": {},
   "outputs": [
    {
     "name": "stdout",
     "output_type": "stream",
     "text": [
      "[{'label': 'Transaction'}, {'label': 'Account'}, {'label': 'Customer'}, {'label': 'Country'}]\n"
     ]
    }
   ],
   "source": [
    "r = graph.query(\"CALL db.labels()\");\n",
    "print(r);\n"
   ]
  },
  {
   "cell_type": "code",
   "execution_count": 19,
   "id": "27210b0d",
   "metadata": {},
   "outputs": [
    {
     "name": "stdout",
     "output_type": "stream",
     "text": [
      "[{'relationshipType': 'OWNED_BY'}, {'relationshipType': 'SENT_FROM'}, {'relationshipType': 'RECEIVED_BY'}, {'relationshipType': 'LOCATED_IN'}]\n"
     ]
    }
   ],
   "source": [
    "r = graph.query(\"CALL db.relationshipTypes()\");\n",
    "print(r);\n"
   ]
  },
  {
   "cell_type": "code",
   "execution_count": 20,
   "id": "bddca31e",
   "metadata": {},
   "outputs": [
    {
     "name": "stdout",
     "output_type": "stream",
     "text": [
      "[{'nodes': [{'name': 'Account', 'indexes': [], 'constraints': []}, {'name': 'Transaction', 'indexes': [], 'constraints': []}, {'name': 'Customer', 'indexes': [], 'constraints': []}, {'name': 'Country', 'indexes': [], 'constraints': []}], 'relationships': [({'name': 'Account', 'indexes': [], 'constraints': []}, 'OWNED_BY', {'name': 'Customer', 'indexes': [], 'constraints': []}), ({'name': 'Account', 'indexes': [], 'constraints': []}, 'LOCATED_IN', {'name': 'Country', 'indexes': [], 'constraints': []}), ({'name': 'Transaction', 'indexes': [], 'constraints': []}, 'SENT_FROM', {'name': 'Account', 'indexes': [], 'constraints': []}), ({'name': 'Transaction', 'indexes': [], 'constraints': []}, 'RECEIVED_BY', {'name': 'Account', 'indexes': [], 'constraints': []})]}]\n"
     ]
    }
   ],
   "source": [
    "r = graph.query(\"CALL db.schema.visualization()\");\n",
    "print(r);\n"
   ]
  },
  {
   "cell_type": "code",
   "execution_count": 3,
   "id": "5248ba5d",
   "metadata": {},
   "outputs": [],
   "source": [
    "llm = ChatGoogleGenerativeAI(\n",
    "    api_key=os.getenv(\"GOOGLE_API_KEY\"),\n",
    "    model=\"gemini-1.5-flash\",\n",
    ")\n"
   ]
  },
  {
   "cell_type": "code",
   "execution_count": 10,
   "id": "9fa34406",
   "metadata": {},
   "outputs": [],
   "source": [
    "@tool\n",
    "async def cql_executor(cql: str)->str:\n",
    "    \"\"\"Takes CQL query as a parameter and Returns CQL execution results\"\"\"\n",
    "    try:\n",
    "        cql_result = graph.query(f\"\"\"{cql}\"\"\")\n",
    "        return f\"Query Results: {cql_result}\"\n",
    "    except Exception as e:\n",
    "        return f\"❌ Failed execution. Reason {str(e)}\"\n"
   ]
  },
  {
   "cell_type": "code",
   "execution_count": null,
   "id": "5464de1e",
   "metadata": {},
   "outputs": [],
   "source": [
    "tools_list = [cql_executor]\n"
   ]
  },
  {
   "cell_type": "code",
   "execution_count": 31,
   "id": "40147608",
   "metadata": {},
   "outputs": [
    {
     "name": "stdout",
     "output_type": "stream",
     "text": [
      "{'cql_executor': {'description': 'Takes CQL query as a parameter and Returns CQL execution results', 'parameters': {'cql': {'title': 'Cql', 'type': 'string'}}, 'fn': StructuredTool(name='cql_executor', description='Takes CQL query as a parameter and Returns CQL execution results', args_schema=<class 'langchain_core.utils.pydantic.cql_executor'>, coroutine=<function cql_executor at 0x0000029FCD6B2160>)}}\n"
     ]
    }
   ],
   "source": [
    "tools = {}\n",
    "for tl in tools_list:\n",
    "    tools[tl.name] = {\n",
    "        \"description\": tl.description,\n",
    "        \"parameters\": tl.args,\n",
    "        \"fn\": tl\n",
    "    }\n",
    "print(tools)\n"
   ]
  },
  {
   "cell_type": "code",
   "execution_count": 32,
   "id": "780c4667",
   "metadata": {},
   "outputs": [],
   "source": [
    "def escape_braces(obj):\n",
    "    string_repr = str(obj)\n",
    "    escaped = string_repr.replace('{', '{{').replace('}', '}}')\n",
    "    return escaped\n"
   ]
  },
  {
   "cell_type": "code",
   "execution_count": null,
   "id": "ba95a191",
   "metadata": {},
   "outputs": [],
   "source": [
    "tools_definition = escape_braces(tools)\n",
    "# tools_definition\n"
   ]
  },
  {
   "cell_type": "code",
   "execution_count": 35,
   "id": "38a6903f",
   "metadata": {},
   "outputs": [],
   "source": [
    "class Response(BaseModel):\n",
    "    step: str = Field(description=\"Represents the current step of a flow\")\n",
    "    content: str = Field(description=\"Represents the content according to the step. It can be empty as well based on step.\", default=\"\")\n",
    "    tool_name: Optional[str] = Field(description=\"Represents the tool name that will be used.\"),\n",
    "    tool_args: Optional[str] = Field(description=\"Represents the arguments that will be passed to the tool according to its parameters.\"),\n",
    "\n",
    "parser = PydanticOutputParser(pydantic_object=Response)\n"
   ]
  },
  {
   "cell_type": "code",
   "execution_count": null,
   "id": "068fb291",
   "metadata": {},
   "outputs": [],
   "source": [
    "prompt = ChatPromptTemplate.from_messages([\n",
    "    (\"system\", \"\"\"\n",
    "        You are a Fraud Detection Expert whose work is find the fraud transactions from the day to day transaction.\n",
    "        \n",
    "        # Context\n",
    "        You works like Honest Income Tax officer who wants to maintain the economy of its country.\n",
    "        You works in a modern online way. You have your graph database that stores the transaction details.\n",
    "        You are expert in writing cypher query language.\n",
    "        You use Cypher Query Language(CQL) to interact with your graph database.\n",
    "        Now your task is to use cql queries in a way that can help you to detect the vulnerable/fraud transactions.\n",
    "        For e.g. = Detect when money goes from A → B → C → A\n",
    "        \n",
    "        # Instructions\n",
    "        You works in a flow think -> plan -> action -> observe -> result\n",
    "        You first think about the given data, then you plan how to make clever cql to find vulnerabilities, then you take action according to your plan, after completing your action you observe that, and then finally give the result according to your observation.\n",
    "        You can do again planning if your observation doesn't show some satisfactory output, then again action after planning, and then again observation. i.e., plan -> action -> observe -> (plan(again, if needed) -> action(again, if needed)) | result.\n",
    "        If there are no vulnerabilites according to your observation(s), then you can say in result that there are no fraud transaction yet.\n",
    "        \n",
    "        # Tools\n",
    "        You use your tools whenever needed. Here is your tools list:\n",
    "        {tools}\n",
    "        \n",
    "        # Rules\n",
    "        You take only one step at a time.\n",
    "        You perform only one step at a time of a flow.\n",
    "        Your flow must always end at 'result' step.\n",
    "        You can use your tool in-between any step of a flow.\n",
    "        \n",
    "        # Output Format\n",
    "        Here are your output format instructions:\n",
    "        {format_instructions}\n",
    "        \n",
    "        # Example\n",
    "        - Input: Start to find fraud transactions from your database.\n",
    "        - Output: {{ 'step': 'think', 'content': 'Ok, now I have to find fraud detections from me the stored transactions. So, let's first gather some information about the stored data like what entities are there, what are the relationships between them. To get this information, I will use CQL, i.e. 'CALL db.schema.visualization();'. Now I have to execute this, to execute this I will use my tool cql_executor.' }}\n",
    "        - Output: {{ 'step': 'tool', 'content': '', 'tool_name': 'cql_executor', 'tool_args': 'CALL db.schema.visualization();' }}\n",
    "        - Output: {{ 'step': 'tool_res', 'content': '[{{\\\\n  'nodes': [\\\\n    {{'id': 0, 'labels': ['Account']}},\\\\n    {{'id': 1, 'labels': ['Transaction']}}\\\\n  ],\\\\n  'relationships': [\\\\n    {{\\\\n      'id': 0,\\\\n      'type': 'SENT',\\\\n      'startNode': 0,\\\\n      'endNode': 1\\\\n    }},\\\\n    {{\\\\n      'id': 1,\\\\n      'type': 'RECEIVED',\\\\n      'startNode': 0,\\\\n      'endNode': 1\\\\n    }}\\\\n  ]\\\\n}}]' }}\n",
    "        - Output: {{ 'step': 'plan', 'content': 'Now as I can see, there are two entites in the db Account and the transaction, and there are two relationships between them sent and the recieved one. Ok, so now I know the entites and relationships between them, I will find a way to find fraudlent transactions, so first let's try to find transactions that were transferring money to themselves by using some other accounts. }}\n",
    "        - Output: {{ 'step': 'action', 'content': '' }}\n",
    "    \"\"\"),\n",
    "    MessagesPlaceholder(\"history\"),\n",
    "])\n"
   ]
  },
  {
   "cell_type": "code",
   "execution_count": 37,
   "id": "56b54623",
   "metadata": {},
   "outputs": [],
   "source": [
    "new_parser = OutputFixingParser.from_llm(llm=llm, parser=JsonOutputParser())\n"
   ]
  },
  {
   "cell_type": "code",
   "execution_count": 38,
   "id": "dcf559e0",
   "metadata": {},
   "outputs": [],
   "source": [
    "chain = prompt | llm | new_parser\n"
   ]
  },
  {
   "cell_type": "code",
   "execution_count": 39,
   "id": "dedc6bd7",
   "metadata": {},
   "outputs": [],
   "source": [
    "history = []\n"
   ]
  },
  {
   "cell_type": "code",
   "execution_count": null,
   "id": "8dba630c",
   "metadata": {},
   "outputs": [],
   "source": [
    "for i in range(0,2):\n",
    "    results = chain.invoke(input={\n",
    "        \"history\": history,\n",
    "        \"tools\": tools_definition,\n",
    "        \"format_instructions\": parser.get_format_instructions()\n",
    "    })\n",
    "\n",
    "    print(results)\n",
    "    print(\"*\"*100);\n",
    "    \n",
    "    if results == None:\n",
    "        break;\n",
    "    \n",
    "    if results.get(\"step\") == \"result\":\n",
    "        break;\n",
    "    \n",
    "    history.append((\"ai\", escape_braces(results)));\n",
    "    \n",
    "    if results.get(\"step\") == \"tool\":\n",
    "        tool_name = results.get(\"tool_name\")\n",
    "        tool_args = results.get(\"tool_args\")\n",
    "        if tool_name in tools:\n",
    "            tool_res = await tools.get(tool_name).get(\"fn\").ainvoke(tool_args)\n",
    "            tool_res = {\"step\": \"tool_res\", \"content\": tool_res}\n",
    "            print(tool_res);\n",
    "            print(\"*\"*100);\n",
    "            history.append((\"ai\", escape_braces(tool_res)))\n",
    "\n"
   ]
  },
  {
   "cell_type": "code",
   "execution_count": null,
   "id": "abfbdd8a",
   "metadata": {},
   "outputs": [],
   "source": []
  }
 ],
 "metadata": {
  "kernelspec": {
   "display_name": ".venv (3.12.5)",
   "language": "python",
   "name": "python3"
  },
  "language_info": {
   "codemirror_mode": {
    "name": "ipython",
    "version": 3
   },
   "file_extension": ".py",
   "mimetype": "text/x-python",
   "name": "python",
   "nbconvert_exporter": "python",
   "pygments_lexer": "ipython3",
   "version": "3.12.5"
  }
 },
 "nbformat": 4,
 "nbformat_minor": 5
}
