{
 "cells": [
  {
   "cell_type": "code",
   "execution_count": 1,
   "id": "38318055",
   "metadata": {},
   "outputs": [
    {
     "data": {
      "text/plain": [
       "True"
      ]
     },
     "execution_count": 1,
     "metadata": {},
     "output_type": "execute_result"
    }
   ],
   "source": [
    "import os\n",
    "import json\n",
    "from dotenv import load_dotenv\n",
    "\n",
    "load_dotenv()\n"
   ]
  },
  {
   "cell_type": "code",
   "execution_count": 2,
   "id": "fcb31c41",
   "metadata": {},
   "outputs": [],
   "source": [
    "from langchain_neo4j import Neo4jGraph, GraphCypherQAChain\n",
    "from langchain_google_genai import ChatGoogleGenerativeAI\n",
    "from langchain_community.document_loaders.csv_loader import CSVLoader\n",
    "from langchain_core.prompts import ChatPromptTemplate\n",
    "from langchain_core.output_parsers import JsonOutputParser, StrOutputParser\n",
    "from langchain_core.messages import AIMessage, SystemMessage, HumanMessage\n"
   ]
  },
  {
   "cell_type": "code",
   "execution_count": null,
   "id": "642279f6",
   "metadata": {},
   "outputs": [],
   "source": [
    "graph = Neo4jGraph(refresh_schema=False, url=\"bolt://localhost:7687\", username=\"neo4j\", password=\"fraud_detection\") #docker\n"
   ]
  },
  {
   "cell_type": "code",
   "execution_count": 4,
   "id": "f0eab401",
   "metadata": {},
   "outputs": [],
   "source": [
    "llm = ChatGoogleGenerativeAI(\n",
    "    api_key=os.getenv(\"GOOGLE_API_KEY\"),\n",
    "    model=\"gemini-2.0-flash\"\n",
    ")\n",
    "\n",
    "# llm = ChatGroq(\n",
    "#     model=\"llama3-8b-8192\",\n",
    "#     api_key=os.getenv(\"GROQ_API_KEY\")\n",
    "# )\n",
    "# llm = ChatCohere(\n",
    "#     api_key=os.getenv(\"COHERE_API_KEY\")\n",
    "# )\n"
   ]
  },
  {
   "cell_type": "code",
   "execution_count": 5,
   "id": "f1adda9c",
   "metadata": {},
   "outputs": [
    {
     "data": {
      "text/plain": [
       "Document(metadata={'source': '../datasets/synthetic_bank_transactions.csv', 'row': 0}, page_content='transaction_id: 1\\ntimestamp: 2025-06-04T08:32:11\\namount: 89290.85\\ncurrency: INR\\nsender_account_id: ACC1005\\nreceiver_account_id: ACC1079\\nsender_customer_id: CUST024\\nreceiver_customer_id: CUST028\\ntransaction_type: payment\\nsender_country: China\\nreceiver_country: India')"
      ]
     },
     "execution_count": 5,
     "metadata": {},
     "output_type": "execute_result"
    }
   ],
   "source": [
    "loader = CSVLoader(\"../datasets/synthetic_bank_transactions.csv\")\n",
    "\n",
    "data = loader.load()\n",
    "data[0]\n"
   ]
  },
  {
   "cell_type": "code",
   "execution_count": 6,
   "id": "44e8c905",
   "metadata": {},
   "outputs": [],
   "source": [
    "def chunk_data(data, chunk_size=10):\n",
    "    for i in range(0, len(data), chunk_size):\n",
    "        yield data[i:i + chunk_size]\n"
   ]
  },
  {
   "cell_type": "code",
   "execution_count": 7,
   "id": "1dac82fe",
   "metadata": {},
   "outputs": [],
   "source": [
    "batches = list(chunk_data(data, 50))\n"
   ]
  },
  {
   "cell_type": "code",
   "execution_count": 8,
   "id": "7a385cb1",
   "metadata": {},
   "outputs": [
    {
     "name": "stdout",
     "output_type": "stream",
     "text": [
      "page_content='transaction_id: 1\n",
      "timestamp: 2025-06-04T08:32:11\n",
      "amount: 89290.85\n",
      "currency: INR\n",
      "sender_account_id: ACC1005\n",
      "receiver_account_id: ACC1079\n",
      "sender_customer_id: CUST024\n",
      "receiver_customer_id: CUST028\n",
      "transaction_type: payment\n",
      "sender_country: China\n",
      "receiver_country: India' metadata={'source': '../datasets/synthetic_bank_transactions.csv', 'row': 0}\n"
     ]
    }
   ],
   "source": [
    "print(batches[0][0])\n"
   ]
  },
  {
   "cell_type": "code",
   "execution_count": 3,
   "id": "31dbe68b",
   "metadata": {},
   "outputs": [],
   "source": [
    "def graph_query(cql: str):\n",
    "    try:\n",
    "        graph.query(cql);\n",
    "        return \"✅ SUCCESS\"\n",
    "    except Exception as e:\n",
    "        print(e);\n",
    "        return \"❌ FAILED\"\n"
   ]
  },
  {
   "cell_type": "code",
   "execution_count": 4,
   "id": "adfcd755",
   "metadata": {},
   "outputs": [],
   "source": [
    "def run_command(command):\n",
    "    print(\"🔦 Tool called:\", command)\n",
    "    exit_code = os.system(command)\n",
    "    if exit_code == 0:\n",
    "        return \"✅ Success\"\n",
    "    else:\n",
    "        return f\"❌ Failure with exit code {exit_code}\"\n"
   ]
  },
  {
   "cell_type": "code",
   "execution_count": 5,
   "id": "1732ab78",
   "metadata": {},
   "outputs": [],
   "source": [
    "def escape_braces(strings):\n",
    "    return [s.replace('{', '{{').replace('}', '}}') for s in strings]\n"
   ]
  },
  {
   "cell_type": "code",
   "execution_count": 6,
   "id": "1277b31e",
   "metadata": {},
   "outputs": [],
   "source": [
    "def escape_brace(s)->str:\n",
    "    return s.replace('{', '{{').replace('}', '}}')\n"
   ]
  },
  {
   "cell_type": "code",
   "execution_count": 7,
   "id": "ae86c5f9",
   "metadata": {},
   "outputs": [],
   "source": [
    "tools = {\n",
    "    \"graph_query\":{\n",
    "        \"parameter\": \"The Cypher Query in docstring format\",\n",
    "        \"description\": \"Takes cypher query and run that for creating the nodes and their relationships in neo4j graph database. Return either 'Success' or 'Failed' based on execution.\",\n",
    "        \"fn\": graph_query\n",
    "    },\n",
    "    \"run_command\": {\n",
    "        \"parameter\": \"Command in string format\",\n",
    "        \"description\": \"Takes the command as a parameter, executes the command and return either the success or (failure with error message).\",\n",
    "        \"fn\" : run_command,\n",
    "    },\n",
    "}\n"
   ]
  },
  {
   "cell_type": "code",
   "execution_count": 8,
   "id": "7608b1f1",
   "metadata": {},
   "outputs": [],
   "source": [
    "tools_list = []\n",
    "for key, value in tools.items():\n",
    "    str = f\"\"\"\n",
    "        {key} - {{\n",
    "            \"parameter\": {value[\"parameter\"]},\n",
    "            \"description\": {value[\"description\"]},\n",
    "            \"fn\": {value[\"fn\"]},\n",
    "        }}\n",
    "    \"\"\"\n",
    "    tools_list.append(str);\n",
    "    \n",
    "tools_list = escape_braces(tools_list);\n"
   ]
  },
  {
   "cell_type": "code",
   "execution_count": 9,
   "id": "adf06605",
   "metadata": {},
   "outputs": [],
   "source": [
    "messages = [\n",
    "    (\"system\", \"\"\"\n",
    "      You are a Cypher Query Language expert who writes CQL for graph databases.\n",
    "\n",
    "      You properly extract entities (nodes) by reading the input data and understanding the context. Then, you create relationships between those entities based on the inferred meaning and structure of the data.\n",
    "\n",
    "      You follow the process below, step by step:\n",
    "      think → understand → entities → relationships → action → tool (optional) → tool_response (optional) → (again action if needed) → result\n",
    "      \n",
    "      ### Tools\n",
    "      Here is your tools:\n",
    "      {tools_list}\n",
    "\n",
    "      ### Rules\n",
    "      - Do not assume relationships or entities that are not directly or logically inferred from the input.\n",
    "      - Use your tools effectively whenever needed.\n",
    "      - You perform only one step at a time.\n",
    "      - Always respond in JSON format only.\n",
    "      - Don't use ``` in your response.\n",
    "      \n",
    "      Output Format -\n",
    "      {{ \n",
    "         \"step\": \"<step_taken>\",\n",
    "         \"content\": \"<content>\"\n",
    "      }}\n",
    "      If you are at tool step, then use this format, so that I can execute that and provide you its response -\n",
    "      {{\n",
    "         \"step\": \"tool\",\n",
    "         \"name\": \"<tool_name\",\n",
    "         \"params\": \"<tool_parameters>\",\n",
    "      }}\n",
    "\n",
    "      ### Example\n",
    "      Input: \"Sophie visits a cozy café called 'The Reading Nook' in Paris. She orders a cappuccino and reads 'Pride and Prejudice' by Jane Austen. The book is part of the 'Classic Literature' genre. The café is owned by a man named Thomas, who is friends with Sophie. Sophie loves books by Jane Austen and visits this café often.\"\n",
    "\n",
    "      Output: {{\"step\": \"think\", \"content\": \"Okay, I got a story from the user, now I have to understand it carefully.\"}}\n",
    "\n",
    "      Output: {{ \"step\": \"understand\", \"content\": \"This story describes Sophie visiting a cozy café named 'The Reading Nook' in Paris. She orders a cappuccino and reads 'Pride and Prejudice' by Jane Austen. The book is in the 'Classic Literature' genre. The café is owned by Thomas, who is Sophie's friend. Sophie enjoys books by Jane Austen and often visits this café.\" }}\n",
    "\n",
    "      Output: {{ \"step\": \"entities\", \"content\": \"Entities - Entities found in the story:\n",
    "      - Person: Sophie, Thomas\n",
    "      - Café: The Reading Nook\n",
    "      - City: Paris\n",
    "      - Book: Pride and Prejudice\n",
    "      - Author: Jane Austen\n",
    "      - Genre: Classic Literature\n",
    "      - Drink: Cappuccino\" }}\n",
    "\n",
    "      Output: {{ \"step\": \"relationships\", \"content\": \"Relationships based on the entities:\n",
    "      - Sophie VISITED The Reading Nook\n",
    "      - The Reading Nook IS_IN Paris\n",
    "      - Sophie READ Pride and Prejudice\n",
    "      - Pride and Prejudice WAS_WRITTEN_BY Jane Austen\n",
    "      - Pride and Prejudice BELONGS_TO_GENRE Classic Literature\n",
    "      - Sophie ORDERED Cappuccino\n",
    "      - Thomas OWNS The Reading Nook\n",
    "      - Sophie IS_FRIENDS_WITH Thomas\n",
    "      - Sophie LIKES_AUTHOR Jane Austen\" }}\n",
    "\n",
    "      Output: {{ \"step\": \"action\",  \"content\": \"Now that I have all entities and relationships, I can write the Cypher queries:\n",
    "\n",
    "      CREATE (p1:Person {{name: 'Sophie'}})\n",
    "      CREATE (p2:Person {{name: 'Thomas'}})\n",
    "      CREATE (c1:Cafe {{name: 'The Reading Nook'}})\n",
    "      CREATE (city1:City {{name: 'Paris'}})\n",
    "      CREATE (b1:Book {{title: 'Pride and Prejudice'}})\n",
    "      CREATE (a1:Author {{name: 'Jane Austen'}})\n",
    "      CREATE (g1:Genre {{name: 'Classic Literature'}})\n",
    "      CREATE (d1:Drink {{name: 'Cappuccino'}})\n",
    "      CREATE (p1)-[:VISITED]->(c1)\n",
    "      CREATE (c1)-[:IS_IN]->(city1)\n",
    "      CREATE (p1)-[:READ]->(b1)\n",
    "      CREATE (b1)-[:WAS_WRITTEN_BY]->(a1)\n",
    "      CREATE (b1)-[:BELONGS_TO_GENRE]->(g1)\n",
    "      CREATE (p1)-[:ORDERED]->(d1)\n",
    "      CREATE (p2)-[:OWNS]->(c1)\n",
    "      CREATE (p1)-[:IS_FRIENDS_WITH]->(p2)\n",
    "      CREATE (p1)-[:LIKES_AUTHOR]->(a1) \"\" }}\n",
    "\n",
    "      Output: {{ \"step\": \"tool\", \"name\": \"graph_query\", \"params\": \"CREATE (p1:Person {{name: 'Sophie'}})\n",
    "      CREATE (p2:Person {{name: 'Thomas'}})\n",
    "      CREATE (c1:Cafe {{name: 'The Reading Nook'}})\n",
    "      CREATE (city1:City {{name: 'Paris'}})\n",
    "      CREATE (b1:Book {{title: 'Pride and Prejudice'}})\n",
    "      CREATE (a1:Author {{name: 'Jane Austen'}})\n",
    "      CREATE (g1:Genre {{name: 'Classic Literature'}})\n",
    "      CREATE (d1:Drink {{name: 'Cappuccino'}})\n",
    "      CREATE (p1)-[:VISITED]->(c1)\n",
    "      CREATE (c1)-[:IS_IN]->(city1)\n",
    "      CREATE (p1)-[:READ]->(b1)\n",
    "      CREATE (b1)-[:WAS_WRITTEN_BY]->(a1)\n",
    "      CREATE (b1)-[:BELONGS_TO_GENRE]->(g1)\n",
    "      CREATE (p1)-[:ORDERED]->(d1)\n",
    "      CREATE (p2)-[:OWNS]->(c1)\n",
    "      CREATE (p1)-[:IS_FRIENDS_WITH]->(p2)\n",
    "      CREATE (p1)-[:LIKES_AUTHOR]->(a1)\" }}\n",
    "\n",
    "      Output: {{ \"step\":\"tool_response\", \"content\": \"Success\" }}\n",
    "\n",
    "      Output: {{ \"step\":\"action\", \"content\": \"The tool executed successfully, which means all Cypher queries were applied.\" }}\n",
    "\n",
    "      Output: {{ \"step\":\"result\", \"content\": \"All entities and relationships have been successfully created and stored in your graph database 🎉.\" }}\n",
    "   \"\"\"),\n",
    "   (\"human\", \"\"\"Generate and store entities and relationships for this:\n",
    "      <data>\n",
    "      {dataset}\n",
    "      </data>\n",
    "   \"\"\"),\n",
    "]\n"
   ]
  },
  {
   "cell_type": "code",
   "execution_count": 16,
   "id": "a6364abc",
   "metadata": {},
   "outputs": [],
   "source": [
    "cql_generator_prompt = ChatPromptTemplate.from_messages(messages)\n"
   ]
  },
  {
   "cell_type": "code",
   "execution_count": 17,
   "id": "6ab52b28",
   "metadata": {},
   "outputs": [],
   "source": [
    "cql_chain = cql_generator_prompt | llm | JsonOutputParser()\n"
   ]
  },
  {
   "cell_type": "code",
   "execution_count": 12,
   "id": "5ac925be",
   "metadata": {},
   "outputs": [
    {
     "name": "stdout",
     "output_type": "stream",
     "text": [
      "<class 'str'> <class 'type'>\n"
     ]
    }
   ],
   "source": [
    "print(str, type(str))\n"
   ]
  },
  {
   "cell_type": "code",
   "execution_count": 11,
   "id": "ba61ac9d",
   "metadata": {},
   "outputs": [],
   "source": [
    "del str\n"
   ]
  },
  {
   "cell_type": "code",
   "execution_count": null,
   "id": "4be6e5be",
   "metadata": {},
   "outputs": [
    {
     "name": "stdout",
     "output_type": "stream",
     "text": [
      "<class 'str'> <class 'type'>\n"
     ]
    }
   ],
   "source": [
    "print(str, type(str))\n"
   ]
  },
  {
   "cell_type": "code",
   "execution_count": 25,
   "id": "1e3f9491",
   "metadata": {},
   "outputs": [
    {
     "ename": "OutputParserException",
     "evalue": "Invalid json output: Each document represents a transaction, and I need to iterate through them.\nFor troubleshooting, visit: https://python.langchain.com/docs/troubleshooting/errors/OUTPUT_PARSING_FAILURE ",
     "output_type": "error",
     "traceback": [
      "\u001b[31m---------------------------------------------------------------------------\u001b[39m",
      "\u001b[31mJSONDecodeError\u001b[39m                           Traceback (most recent call last)",
      "\u001b[36mFile \u001b[39m\u001b[32md:\\Python\\gen_ai\\.venv\\Lib\\site-packages\\langchain_core\\output_parsers\\json.py:88\u001b[39m, in \u001b[36mJsonOutputParser.parse_result\u001b[39m\u001b[34m(self, result, partial)\u001b[39m\n\u001b[32m     87\u001b[39m \u001b[38;5;28;01mtry\u001b[39;00m:\n\u001b[32m---> \u001b[39m\u001b[32m88\u001b[39m     \u001b[38;5;28;01mreturn\u001b[39;00m \u001b[43mparse_json_markdown\u001b[49m\u001b[43m(\u001b[49m\u001b[43mtext\u001b[49m\u001b[43m)\u001b[49m\n\u001b[32m     89\u001b[39m \u001b[38;5;28;01mexcept\u001b[39;00m JSONDecodeError \u001b[38;5;28;01mas\u001b[39;00m e:\n",
      "\u001b[36mFile \u001b[39m\u001b[32md:\\Python\\gen_ai\\.venv\\Lib\\site-packages\\langchain_core\\utils\\json.py:150\u001b[39m, in \u001b[36mparse_json_markdown\u001b[39m\u001b[34m(json_string, parser)\u001b[39m\n\u001b[32m    149\u001b[39m     json_str = json_string \u001b[38;5;28;01mif\u001b[39;00m match \u001b[38;5;129;01mis\u001b[39;00m \u001b[38;5;28;01mNone\u001b[39;00m \u001b[38;5;28;01melse\u001b[39;00m match.group(\u001b[32m2\u001b[39m)\n\u001b[32m--> \u001b[39m\u001b[32m150\u001b[39m \u001b[38;5;28;01mreturn\u001b[39;00m \u001b[43m_parse_json\u001b[49m\u001b[43m(\u001b[49m\u001b[43mjson_str\u001b[49m\u001b[43m,\u001b[49m\u001b[43m \u001b[49m\u001b[43mparser\u001b[49m\u001b[43m=\u001b[49m\u001b[43mparser\u001b[49m\u001b[43m)\u001b[49m\n",
      "\u001b[36mFile \u001b[39m\u001b[32md:\\Python\\gen_ai\\.venv\\Lib\\site-packages\\langchain_core\\utils\\json.py:166\u001b[39m, in \u001b[36m_parse_json\u001b[39m\u001b[34m(json_str, parser)\u001b[39m\n\u001b[32m    165\u001b[39m \u001b[38;5;66;03m# Parse the JSON string into a Python dictionary\u001b[39;00m\n\u001b[32m--> \u001b[39m\u001b[32m166\u001b[39m \u001b[38;5;28;01mreturn\u001b[39;00m \u001b[43mparser\u001b[49m\u001b[43m(\u001b[49m\u001b[43mjson_str\u001b[49m\u001b[43m)\u001b[49m\n",
      "\u001b[36mFile \u001b[39m\u001b[32md:\\Python\\gen_ai\\.venv\\Lib\\site-packages\\langchain_core\\utils\\json.py:123\u001b[39m, in \u001b[36mparse_partial_json\u001b[39m\u001b[34m(s, strict)\u001b[39m\n\u001b[32m    120\u001b[39m \u001b[38;5;66;03m# If we got here, we ran out of characters to remove\u001b[39;00m\n\u001b[32m    121\u001b[39m \u001b[38;5;66;03m# and still couldn't parse the string as JSON, so return the parse error\u001b[39;00m\n\u001b[32m    122\u001b[39m \u001b[38;5;66;03m# for the original string.\u001b[39;00m\n\u001b[32m--> \u001b[39m\u001b[32m123\u001b[39m \u001b[38;5;28;01mreturn\u001b[39;00m \u001b[43mjson\u001b[49m\u001b[43m.\u001b[49m\u001b[43mloads\u001b[49m\u001b[43m(\u001b[49m\u001b[43ms\u001b[49m\u001b[43m,\u001b[49m\u001b[43m \u001b[49m\u001b[43mstrict\u001b[49m\u001b[43m=\u001b[49m\u001b[43mstrict\u001b[49m\u001b[43m)\u001b[49m\n",
      "\u001b[36mFile \u001b[39m\u001b[32mC:\\Python312\\Lib\\json\\__init__.py:359\u001b[39m, in \u001b[36mloads\u001b[39m\u001b[34m(s, cls, object_hook, parse_float, parse_int, parse_constant, object_pairs_hook, **kw)\u001b[39m\n\u001b[32m    358\u001b[39m     kw[\u001b[33m'\u001b[39m\u001b[33mparse_constant\u001b[39m\u001b[33m'\u001b[39m] = parse_constant\n\u001b[32m--> \u001b[39m\u001b[32m359\u001b[39m \u001b[38;5;28;01mreturn\u001b[39;00m \u001b[38;5;28;43mcls\u001b[39;49m\u001b[43m(\u001b[49m\u001b[43m*\u001b[49m\u001b[43m*\u001b[49m\u001b[43mkw\u001b[49m\u001b[43m)\u001b[49m\u001b[43m.\u001b[49m\u001b[43mdecode\u001b[49m\u001b[43m(\u001b[49m\u001b[43ms\u001b[49m\u001b[43m)\u001b[49m\n",
      "\u001b[36mFile \u001b[39m\u001b[32mC:\\Python312\\Lib\\json\\decoder.py:337\u001b[39m, in \u001b[36mJSONDecoder.decode\u001b[39m\u001b[34m(self, s, _w)\u001b[39m\n\u001b[32m    333\u001b[39m \u001b[38;5;250m\u001b[39m\u001b[33;03m\"\"\"Return the Python representation of ``s`` (a ``str`` instance\u001b[39;00m\n\u001b[32m    334\u001b[39m \u001b[33;03mcontaining a JSON document).\u001b[39;00m\n\u001b[32m    335\u001b[39m \n\u001b[32m    336\u001b[39m \u001b[33;03m\"\"\"\u001b[39;00m\n\u001b[32m--> \u001b[39m\u001b[32m337\u001b[39m obj, end = \u001b[38;5;28;43mself\u001b[39;49m\u001b[43m.\u001b[49m\u001b[43mraw_decode\u001b[49m\u001b[43m(\u001b[49m\u001b[43ms\u001b[49m\u001b[43m,\u001b[49m\u001b[43m \u001b[49m\u001b[43midx\u001b[49m\u001b[43m=\u001b[49m\u001b[43m_w\u001b[49m\u001b[43m(\u001b[49m\u001b[43ms\u001b[49m\u001b[43m,\u001b[49m\u001b[43m \u001b[49m\u001b[32;43m0\u001b[39;49m\u001b[43m)\u001b[49m\u001b[43m.\u001b[49m\u001b[43mend\u001b[49m\u001b[43m(\u001b[49m\u001b[43m)\u001b[49m\u001b[43m)\u001b[49m\n\u001b[32m    338\u001b[39m end = _w(s, end).end()\n",
      "\u001b[36mFile \u001b[39m\u001b[32mC:\\Python312\\Lib\\json\\decoder.py:355\u001b[39m, in \u001b[36mJSONDecoder.raw_decode\u001b[39m\u001b[34m(self, s, idx)\u001b[39m\n\u001b[32m    354\u001b[39m \u001b[38;5;28;01mexcept\u001b[39;00m \u001b[38;5;167;01mStopIteration\u001b[39;00m \u001b[38;5;28;01mas\u001b[39;00m err:\n\u001b[32m--> \u001b[39m\u001b[32m355\u001b[39m     \u001b[38;5;28;01mraise\u001b[39;00m JSONDecodeError(\u001b[33m\"\u001b[39m\u001b[33mExpecting value\u001b[39m\u001b[33m\"\u001b[39m, s, err.value) \u001b[38;5;28;01mfrom\u001b[39;00m\u001b[38;5;250m \u001b[39m\u001b[38;5;28;01mNone\u001b[39;00m\n\u001b[32m    356\u001b[39m \u001b[38;5;28;01mreturn\u001b[39;00m obj, end\n",
      "\u001b[31mJSONDecodeError\u001b[39m: Expecting value: line 1 column 1 (char 0)",
      "\nThe above exception was the direct cause of the following exception:\n",
      "\u001b[31mOutputParserException\u001b[39m                     Traceback (most recent call last)",
      "\u001b[36mCell\u001b[39m\u001b[36m \u001b[39m\u001b[32mIn[25]\u001b[39m\u001b[32m, line 3\u001b[39m\n\u001b[32m      1\u001b[39m \u001b[38;5;28;01mfor\u001b[39;00m i \u001b[38;5;129;01min\u001b[39;00m \u001b[38;5;28mrange\u001b[39m(\u001b[32m1\u001b[39m):\n\u001b[32m      2\u001b[39m     \u001b[38;5;66;03m# try:\u001b[39;00m\n\u001b[32m----> \u001b[39m\u001b[32m3\u001b[39m         res = \u001b[43mcql_chain\u001b[49m\u001b[43m.\u001b[49m\u001b[43minvoke\u001b[49m\u001b[43m(\u001b[49m\u001b[38;5;28;43minput\u001b[39;49m\u001b[43m=\u001b[49m\u001b[43m{\u001b[49m\n\u001b[32m      4\u001b[39m \u001b[43m            \u001b[49m\u001b[33;43m\"\u001b[39;49m\u001b[33;43mtools_list\u001b[39;49m\u001b[33;43m\"\u001b[39;49m\u001b[43m:\u001b[49m\u001b[43m \u001b[49m\u001b[43mtools_list\u001b[49m\u001b[43m,\u001b[49m\n\u001b[32m      5\u001b[39m \u001b[43m            \u001b[49m\u001b[33;43m\"\u001b[39;49m\u001b[33;43mdataset\u001b[39;49m\u001b[33;43m\"\u001b[39;49m\u001b[43m:\u001b[49m\u001b[43m \u001b[49m\u001b[43mdata\u001b[49m\u001b[43m[\u001b[49m\u001b[43m:\u001b[49m\u001b[32;43m50\u001b[39;49m\u001b[43m]\u001b[49m\u001b[43m,\u001b[49m\n\u001b[32m      6\u001b[39m \u001b[43m        \u001b[49m\u001b[43m}\u001b[49m\u001b[43m)\u001b[49m\n\u001b[32m      7\u001b[39m         \u001b[38;5;28mprint\u001b[39m(res);\n\u001b[32m      8\u001b[39m         \u001b[38;5;66;03m# res = json.loads(res);\u001b[39;00m\n",
      "\u001b[36mFile \u001b[39m\u001b[32md:\\Python\\gen_ai\\.venv\\Lib\\site-packages\\langchain_core\\runnables\\base.py:3047\u001b[39m, in \u001b[36mRunnableSequence.invoke\u001b[39m\u001b[34m(self, input, config, **kwargs)\u001b[39m\n\u001b[32m   3045\u001b[39m                 input_ = context.run(step.invoke, input_, config, **kwargs)\n\u001b[32m   3046\u001b[39m             \u001b[38;5;28;01melse\u001b[39;00m:\n\u001b[32m-> \u001b[39m\u001b[32m3047\u001b[39m                 input_ = \u001b[43mcontext\u001b[49m\u001b[43m.\u001b[49m\u001b[43mrun\u001b[49m\u001b[43m(\u001b[49m\u001b[43mstep\u001b[49m\u001b[43m.\u001b[49m\u001b[43minvoke\u001b[49m\u001b[43m,\u001b[49m\u001b[43m \u001b[49m\u001b[43minput_\u001b[49m\u001b[43m,\u001b[49m\u001b[43m \u001b[49m\u001b[43mconfig\u001b[49m\u001b[43m)\u001b[49m\n\u001b[32m   3048\u001b[39m \u001b[38;5;66;03m# finish the root run\u001b[39;00m\n\u001b[32m   3049\u001b[39m \u001b[38;5;28;01mexcept\u001b[39;00m \u001b[38;5;167;01mBaseException\u001b[39;00m \u001b[38;5;28;01mas\u001b[39;00m e:\n",
      "\u001b[36mFile \u001b[39m\u001b[32md:\\Python\\gen_ai\\.venv\\Lib\\site-packages\\langchain_core\\output_parsers\\base.py:196\u001b[39m, in \u001b[36mBaseOutputParser.invoke\u001b[39m\u001b[34m(self, input, config, **kwargs)\u001b[39m\n\u001b[32m    188\u001b[39m \u001b[38;5;129m@override\u001b[39m\n\u001b[32m    189\u001b[39m \u001b[38;5;28;01mdef\u001b[39;00m\u001b[38;5;250m \u001b[39m\u001b[34minvoke\u001b[39m(\n\u001b[32m    190\u001b[39m     \u001b[38;5;28mself\u001b[39m,\n\u001b[32m   (...)\u001b[39m\u001b[32m    193\u001b[39m     **kwargs: Any,\n\u001b[32m    194\u001b[39m ) -> T:\n\u001b[32m    195\u001b[39m     \u001b[38;5;28;01mif\u001b[39;00m \u001b[38;5;28misinstance\u001b[39m(\u001b[38;5;28minput\u001b[39m, BaseMessage):\n\u001b[32m--> \u001b[39m\u001b[32m196\u001b[39m         \u001b[38;5;28;01mreturn\u001b[39;00m \u001b[38;5;28;43mself\u001b[39;49m\u001b[43m.\u001b[49m\u001b[43m_call_with_config\u001b[49m\u001b[43m(\u001b[49m\n\u001b[32m    197\u001b[39m \u001b[43m            \u001b[49m\u001b[38;5;28;43;01mlambda\u001b[39;49;00m\u001b[43m \u001b[49m\u001b[43minner_input\u001b[49m\u001b[43m:\u001b[49m\u001b[43m \u001b[49m\u001b[38;5;28;43mself\u001b[39;49m\u001b[43m.\u001b[49m\u001b[43mparse_result\u001b[49m\u001b[43m(\u001b[49m\n\u001b[32m    198\u001b[39m \u001b[43m                \u001b[49m\u001b[43m[\u001b[49m\u001b[43mChatGeneration\u001b[49m\u001b[43m(\u001b[49m\u001b[43mmessage\u001b[49m\u001b[43m=\u001b[49m\u001b[43minner_input\u001b[49m\u001b[43m)\u001b[49m\u001b[43m]\u001b[49m\n\u001b[32m    199\u001b[39m \u001b[43m            \u001b[49m\u001b[43m)\u001b[49m\u001b[43m,\u001b[49m\n\u001b[32m    200\u001b[39m \u001b[43m            \u001b[49m\u001b[38;5;28;43minput\u001b[39;49m\u001b[43m,\u001b[49m\n\u001b[32m    201\u001b[39m \u001b[43m            \u001b[49m\u001b[43mconfig\u001b[49m\u001b[43m,\u001b[49m\n\u001b[32m    202\u001b[39m \u001b[43m            \u001b[49m\u001b[43mrun_type\u001b[49m\u001b[43m=\u001b[49m\u001b[33;43m\"\u001b[39;49m\u001b[33;43mparser\u001b[39;49m\u001b[33;43m\"\u001b[39;49m\u001b[43m,\u001b[49m\n\u001b[32m    203\u001b[39m \u001b[43m        \u001b[49m\u001b[43m)\u001b[49m\n\u001b[32m    204\u001b[39m     \u001b[38;5;28;01mreturn\u001b[39;00m \u001b[38;5;28mself\u001b[39m._call_with_config(\n\u001b[32m    205\u001b[39m         \u001b[38;5;28;01mlambda\u001b[39;00m inner_input: \u001b[38;5;28mself\u001b[39m.parse_result([Generation(text=inner_input)]),\n\u001b[32m    206\u001b[39m         \u001b[38;5;28minput\u001b[39m,\n\u001b[32m    207\u001b[39m         config,\n\u001b[32m    208\u001b[39m         run_type=\u001b[33m\"\u001b[39m\u001b[33mparser\u001b[39m\u001b[33m\"\u001b[39m,\n\u001b[32m    209\u001b[39m     )\n",
      "\u001b[36mFile \u001b[39m\u001b[32md:\\Python\\gen_ai\\.venv\\Lib\\site-packages\\langchain_core\\runnables\\base.py:1940\u001b[39m, in \u001b[36mRunnable._call_with_config\u001b[39m\u001b[34m(self, func, input_, config, run_type, serialized, **kwargs)\u001b[39m\n\u001b[32m   1936\u001b[39m     child_config = patch_config(config, callbacks=run_manager.get_child())\n\u001b[32m   1937\u001b[39m     \u001b[38;5;28;01mwith\u001b[39;00m set_config_context(child_config) \u001b[38;5;28;01mas\u001b[39;00m context:\n\u001b[32m   1938\u001b[39m         output = cast(\n\u001b[32m   1939\u001b[39m             \u001b[33m\"\u001b[39m\u001b[33mOutput\u001b[39m\u001b[33m\"\u001b[39m,\n\u001b[32m-> \u001b[39m\u001b[32m1940\u001b[39m             \u001b[43mcontext\u001b[49m\u001b[43m.\u001b[49m\u001b[43mrun\u001b[49m\u001b[43m(\u001b[49m\n\u001b[32m   1941\u001b[39m \u001b[43m                \u001b[49m\u001b[43mcall_func_with_variable_args\u001b[49m\u001b[43m,\u001b[49m\u001b[43m  \u001b[49m\u001b[38;5;66;43;03m# type: ignore[arg-type]\u001b[39;49;00m\n\u001b[32m   1942\u001b[39m \u001b[43m                \u001b[49m\u001b[43mfunc\u001b[49m\u001b[43m,\u001b[49m\n\u001b[32m   1943\u001b[39m \u001b[43m                \u001b[49m\u001b[43minput_\u001b[49m\u001b[43m,\u001b[49m\n\u001b[32m   1944\u001b[39m \u001b[43m                \u001b[49m\u001b[43mconfig\u001b[49m\u001b[43m,\u001b[49m\n\u001b[32m   1945\u001b[39m \u001b[43m                \u001b[49m\u001b[43mrun_manager\u001b[49m\u001b[43m,\u001b[49m\n\u001b[32m   1946\u001b[39m \u001b[43m                \u001b[49m\u001b[43m*\u001b[49m\u001b[43m*\u001b[49m\u001b[43mkwargs\u001b[49m\u001b[43m,\u001b[49m\n\u001b[32m   1947\u001b[39m \u001b[43m            \u001b[49m\u001b[43m)\u001b[49m,\n\u001b[32m   1948\u001b[39m         )\n\u001b[32m   1949\u001b[39m \u001b[38;5;28;01mexcept\u001b[39;00m \u001b[38;5;167;01mBaseException\u001b[39;00m \u001b[38;5;28;01mas\u001b[39;00m e:\n\u001b[32m   1950\u001b[39m     run_manager.on_chain_error(e)\n",
      "\u001b[36mFile \u001b[39m\u001b[32md:\\Python\\gen_ai\\.venv\\Lib\\site-packages\\langchain_core\\runnables\\config.py:428\u001b[39m, in \u001b[36mcall_func_with_variable_args\u001b[39m\u001b[34m(func, input, config, run_manager, **kwargs)\u001b[39m\n\u001b[32m    426\u001b[39m \u001b[38;5;28;01mif\u001b[39;00m run_manager \u001b[38;5;129;01mis\u001b[39;00m \u001b[38;5;129;01mnot\u001b[39;00m \u001b[38;5;28;01mNone\u001b[39;00m \u001b[38;5;129;01mand\u001b[39;00m accepts_run_manager(func):\n\u001b[32m    427\u001b[39m     kwargs[\u001b[33m\"\u001b[39m\u001b[33mrun_manager\u001b[39m\u001b[33m\"\u001b[39m] = run_manager\n\u001b[32m--> \u001b[39m\u001b[32m428\u001b[39m \u001b[38;5;28;01mreturn\u001b[39;00m \u001b[43mfunc\u001b[49m\u001b[43m(\u001b[49m\u001b[38;5;28;43minput\u001b[39;49m\u001b[43m,\u001b[49m\u001b[43m \u001b[49m\u001b[43m*\u001b[49m\u001b[43m*\u001b[49m\u001b[43mkwargs\u001b[49m\u001b[43m)\u001b[49m\n",
      "\u001b[36mFile \u001b[39m\u001b[32md:\\Python\\gen_ai\\.venv\\Lib\\site-packages\\langchain_core\\output_parsers\\base.py:197\u001b[39m, in \u001b[36mBaseOutputParser.invoke.<locals>.<lambda>\u001b[39m\u001b[34m(inner_input)\u001b[39m\n\u001b[32m    188\u001b[39m \u001b[38;5;129m@override\u001b[39m\n\u001b[32m    189\u001b[39m \u001b[38;5;28;01mdef\u001b[39;00m\u001b[38;5;250m \u001b[39m\u001b[34minvoke\u001b[39m(\n\u001b[32m    190\u001b[39m     \u001b[38;5;28mself\u001b[39m,\n\u001b[32m   (...)\u001b[39m\u001b[32m    193\u001b[39m     **kwargs: Any,\n\u001b[32m    194\u001b[39m ) -> T:\n\u001b[32m    195\u001b[39m     \u001b[38;5;28;01mif\u001b[39;00m \u001b[38;5;28misinstance\u001b[39m(\u001b[38;5;28minput\u001b[39m, BaseMessage):\n\u001b[32m    196\u001b[39m         \u001b[38;5;28;01mreturn\u001b[39;00m \u001b[38;5;28mself\u001b[39m._call_with_config(\n\u001b[32m--> \u001b[39m\u001b[32m197\u001b[39m             \u001b[38;5;28;01mlambda\u001b[39;00m inner_input: \u001b[38;5;28;43mself\u001b[39;49m\u001b[43m.\u001b[49m\u001b[43mparse_result\u001b[49m\u001b[43m(\u001b[49m\n\u001b[32m    198\u001b[39m \u001b[43m                \u001b[49m\u001b[43m[\u001b[49m\u001b[43mChatGeneration\u001b[49m\u001b[43m(\u001b[49m\u001b[43mmessage\u001b[49m\u001b[43m=\u001b[49m\u001b[43minner_input\u001b[49m\u001b[43m)\u001b[49m\u001b[43m]\u001b[49m\n\u001b[32m    199\u001b[39m \u001b[43m            \u001b[49m\u001b[43m)\u001b[49m,\n\u001b[32m    200\u001b[39m             \u001b[38;5;28minput\u001b[39m,\n\u001b[32m    201\u001b[39m             config,\n\u001b[32m    202\u001b[39m             run_type=\u001b[33m\"\u001b[39m\u001b[33mparser\u001b[39m\u001b[33m\"\u001b[39m,\n\u001b[32m    203\u001b[39m         )\n\u001b[32m    204\u001b[39m     \u001b[38;5;28;01mreturn\u001b[39;00m \u001b[38;5;28mself\u001b[39m._call_with_config(\n\u001b[32m    205\u001b[39m         \u001b[38;5;28;01mlambda\u001b[39;00m inner_input: \u001b[38;5;28mself\u001b[39m.parse_result([Generation(text=inner_input)]),\n\u001b[32m    206\u001b[39m         \u001b[38;5;28minput\u001b[39m,\n\u001b[32m    207\u001b[39m         config,\n\u001b[32m    208\u001b[39m         run_type=\u001b[33m\"\u001b[39m\u001b[33mparser\u001b[39m\u001b[33m\"\u001b[39m,\n\u001b[32m    209\u001b[39m     )\n",
      "\u001b[36mFile \u001b[39m\u001b[32md:\\Python\\gen_ai\\.venv\\Lib\\site-packages\\langchain_core\\output_parsers\\json.py:91\u001b[39m, in \u001b[36mJsonOutputParser.parse_result\u001b[39m\u001b[34m(self, result, partial)\u001b[39m\n\u001b[32m     89\u001b[39m \u001b[38;5;28;01mexcept\u001b[39;00m JSONDecodeError \u001b[38;5;28;01mas\u001b[39;00m e:\n\u001b[32m     90\u001b[39m     msg = \u001b[33mf\u001b[39m\u001b[33m\"\u001b[39m\u001b[33mInvalid json output: \u001b[39m\u001b[38;5;132;01m{\u001b[39;00mtext\u001b[38;5;132;01m}\u001b[39;00m\u001b[33m\"\u001b[39m\n\u001b[32m---> \u001b[39m\u001b[32m91\u001b[39m     \u001b[38;5;28;01mraise\u001b[39;00m OutputParserException(msg, llm_output=text) \u001b[38;5;28;01mfrom\u001b[39;00m\u001b[38;5;250m \u001b[39m\u001b[34;01me\u001b[39;00m\n",
      "\u001b[31mOutputParserException\u001b[39m: Invalid json output: Each document represents a transaction, and I need to iterate through them.\nFor troubleshooting, visit: https://python.langchain.com/docs/troubleshooting/errors/OUTPUT_PARSING_FAILURE "
     ]
    }
   ],
   "source": [
    "for i in range(1):\n",
    "    # try:\n",
    "        res = cql_chain.invoke(input={\n",
    "            \"tools_list\": tools_list,\n",
    "            \"dataset\": data[:50],\n",
    "        })\n",
    "        print(res);\n",
    "        # res = json.loads(res);\n",
    "        if res.get(\"step\") == \"result\":\n",
    "            break\n",
    "        \n",
    "        if res.get(\"step\") == \"tool\":\n",
    "            tool_fn = res.get(\"name\"),\n",
    "            tool_params = res.get(\"params\")\n",
    "            tool_res = tools.get(tool_fn).get(\"fn\")(tool_params);\n",
    "            \n",
    "            messages.append(AIMessage(content=json.dumps({\n",
    "                \"step\": \"tool_response\",\n",
    "                \"content\": tool_res\n",
    "            })))\n",
    "            continue;\n",
    "        \n",
    "        res = escape_brace(f\"{res.get(\"step\")}-{res.get(\"content\")}\")\n",
    "        # print(res)\n",
    "        cql_generator_prompt.append((\"ai\", f\"{res}\"));\n",
    "        # if not isinstance(res, str):\n",
    "        #     res = json.dumps(res)\n",
    "\n",
    "        # escaped_res = escape_brace(res)\n",
    "        # cql_generator_prompt.append((\"ai\", res))\n",
    "\n",
    "        print(len(cql_generator_prompt));\n",
    "    # except Exception as e:\n",
    "    #     print(e);\n",
    "    #     break;\n"
   ]
  },
  {
   "cell_type": "code",
   "execution_count": 28,
   "id": "27837c68",
   "metadata": {},
   "outputs": [
    {
     "data": {
      "text/plain": [
       "3"
      ]
     },
     "execution_count": 28,
     "metadata": {},
     "output_type": "execute_result"
    }
   ],
   "source": [
    "len(cql_generator_prompt)\n"
   ]
  },
  {
   "cell_type": "code",
   "execution_count": 24,
   "id": "d0b2a4ba",
   "metadata": {},
   "outputs": [
    {
     "data": {
      "text/plain": [
       "ChatPromptValue(messages=[SystemMessage(content='\\n      You are a Cypher Query Language expert who writes CQL for graph databases.\\n\\n      You properly extract entities (nodes) by reading the input data and understanding the context. Then, you create relationships between those entities based on the inferred meaning and structure of the data.\\n\\n      You follow the process below, step by step:\\n      think → understand → entities → relationships → action → tool (optional) → tool_response (optional) → (again action if needed) → result\\n\\n      ### Tools\\n      Here is your tools:\\n      [\\'\\\\n        graph_query - {{\\\\n            \"parameter\": The Cypher Query in docstring format,\\\\n            \"description\": Takes cypher query and run that for creating the nodes and their relationships in neo4j graph database. Return either \\\\\\'Success\\\\\\' or \\\\\\'Failed\\\\\\' based on execution.,\\\\n            \"fn\": <function graph_query at 0x000001872D987920>,\\\\n        }}\\\\n    \\', \\'\\\\n        run_command - {{\\\\n            \"parameter\": Command in string format,\\\\n            \"description\": Takes the command as a parameter, executes the command and return either the success or (failure with error message).,\\\\n            \"fn\": <function run_command at 0x000001873CD0C4A0>,\\\\n        }}\\\\n    \\']\\n\\n      ### Rules\\n      - Do not assume relationships or entities that are not directly or logically inferred from the input.\\n      - Use your tools effectively whenever needed.\\n      - You perform only one step at a time.\\n      - Always respond in JSON format only.\\n      - Don\\'t use ``` in your response.\\n\\n      Output Format -\\n      { \\n         \"step\": \"<step_taken>\",\\n         \"content\": \"<content>\"\\n      }\\n      If you are at tool step, then use this format, so that I can execute that and provide you its response -\\n      {\\n         \"step\": \"tool\",\\n         \"name\": \"<tool_name\",\\n         \"params\": \"<tool_parameters>\",\\n      }\\n\\n      ### Example\\n      Input: \"Sophie visits a cozy café called \\'The Reading Nook\\' in Paris. She orders a cappuccino and reads \\'Pride and Prejudice\\' by Jane Austen. The book is part of the \\'Classic Literature\\' genre. The café is owned by a man named Thomas, who is friends with Sophie. Sophie loves books by Jane Austen and visits this café often.\"\\n\\n      Output: {\"step\": \"think\", \"content\": \"Okay, I got a story from the user, now I have to understand it carefully.\"}\\n\\n      Output: { \"step\": \"understand\", \"content\": \"This story describes Sophie visiting a cozy café named \\'The Reading Nook\\' in Paris. She orders a cappuccino and reads \\'Pride and Prejudice\\' by Jane Austen. The book is in the \\'Classic Literature\\' genre. The café is owned by Thomas, who is Sophie\\'s friend. Sophie enjoys books by Jane Austen and often visits this café.\" }\\n\\n      Output: { \"step\": \"entities\", \"content\": \"Entities - Entities found in the story:\\n      - Person: Sophie, Thomas\\n      - Café: The Reading Nook\\n      - City: Paris\\n      - Book: Pride and Prejudice\\n      - Author: Jane Austen\\n      - Genre: Classic Literature\\n      - Drink: Cappuccino\" }\\n\\n      Output: { \"step\": \"relationships\", \"content\": \"Relationships based on the entities:\\n      - Sophie VISITED The Reading Nook\\n      - The Reading Nook IS_IN Paris\\n      - Sophie READ Pride and Prejudice\\n      - Pride and Prejudice WAS_WRITTEN_BY Jane Austen\\n      - Pride and Prejudice BELONGS_TO_GENRE Classic Literature\\n      - Sophie ORDERED Cappuccino\\n      - Thomas OWNS The Reading Nook\\n      - Sophie IS_FRIENDS_WITH Thomas\\n      - Sophie LIKES_AUTHOR Jane Austen\" }\\n\\n      Output: { \"step\": \"action\",  \"content\": \"Now that I have all entities and relationships, I can write the Cypher queries:\\n\\n      CREATE (p1:Person {name: \\'Sophie\\'})\\n      CREATE (p2:Person {name: \\'Thomas\\'})\\n      CREATE (c1:Cafe {name: \\'The Reading Nook\\'})\\n      CREATE (city1:City {name: \\'Paris\\'})\\n      CREATE (b1:Book {title: \\'Pride and Prejudice\\'})\\n      CREATE (a1:Author {name: \\'Jane Austen\\'})\\n      CREATE (g1:Genre {name: \\'Classic Literature\\'})\\n      CREATE (d1:Drink {name: \\'Cappuccino\\'})\\n      CREATE (p1)-[:VISITED]->(c1)\\n      CREATE (c1)-[:IS_IN]->(city1)\\n      CREATE (p1)-[:READ]->(b1)\\n      CREATE (b1)-[:WAS_WRITTEN_BY]->(a1)\\n      CREATE (b1)-[:BELONGS_TO_GENRE]->(g1)\\n      CREATE (p1)-[:ORDERED]->(d1)\\n      CREATE (p2)-[:OWNS]->(c1)\\n      CREATE (p1)-[:IS_FRIENDS_WITH]->(p2)\\n      CREATE (p1)-[:LIKES_AUTHOR]->(a1) \"\" }\\n\\n      Output: { \"step\": \"tool\", \"name\": \"graph_query\", \"params\": \"CREATE (p1:Person {name: \\'Sophie\\'})\\n      CREATE (p2:Person {name: \\'Thomas\\'})\\n      CREATE (c1:Cafe {name: \\'The Reading Nook\\'})\\n      CREATE (city1:City {name: \\'Paris\\'})\\n      CREATE (b1:Book {title: \\'Pride and Prejudice\\'})\\n      CREATE (a1:Author {name: \\'Jane Austen\\'})\\n      CREATE (g1:Genre {name: \\'Classic Literature\\'})\\n      CREATE (d1:Drink {name: \\'Cappuccino\\'})\\n      CREATE (p1)-[:VISITED]->(c1)\\n      CREATE (c1)-[:IS_IN]->(city1)\\n      CREATE (p1)-[:READ]->(b1)\\n      CREATE (b1)-[:WAS_WRITTEN_BY]->(a1)\\n      CREATE (b1)-[:BELONGS_TO_GENRE]->(g1)\\n      CREATE (p1)-[:ORDERED]->(d1)\\n      CREATE (p2)-[:OWNS]->(c1)\\n      CREATE (p1)-[:IS_FRIENDS_WITH]->(p2)\\n      CREATE (p1)-[:LIKES_AUTHOR]->(a1)\" }\\n\\n      Output: { \"step\":\"tool_response\", \"content\": \"Success\" }\\n\\n      Output: { \"step\":\"action\", \"content\": \"The tool executed successfully, which means all Cypher queries were applied.\" }\\n\\n      Output: { \"step\":\"result\", \"content\": \"All entities and relationships have been successfully created and stored in your graph database 🎉.\" }\\n   ', additional_kwargs={}, response_metadata={}), HumanMessage(content=\"Generate and store entities and relationships for this:\\n      <data>\\n      page_content='transaction_id: 1\\ntimestamp: 2025-06-04T08:32:11\\namount: 89290.85\\ncurrency: INR\\nsender_account_id: ACC1005\\nreceiver_account_id: ACC1079\\nsender_customer_id: CUST024\\nreceiver_customer_id: CUST028\\ntransaction_type: payment\\nsender_country: China\\nreceiver_country: India' metadata={'source': '../datasets/synthetic_bank_transactions.csv', 'row': 0}\\n      </data>\\n   \", additional_kwargs={}, response_metadata={}), AIMessage(content=\"Okay, I have a list of bank transactions. I need to extract entities like transaction, timestamp, amount, currency, accounts, customers, transaction type, and country. Then, I'll create relationships between them, such as who sent money to whom, what type of transaction it was, and the countries involved.\", additional_kwargs={}, response_metadata={}), AIMessage(content='I need to carefully read the data to extract the entities and their relationships.', additional_kwargs={}, response_metadata={})])"
      ]
     },
     "execution_count": 24,
     "metadata": {},
     "output_type": "execute_result"
    }
   ],
   "source": [
    "cql_generator_prompt.invoke(input={\n",
    "            \"tools_list\": tools_list,\n",
    "            \"dataset\": data[0],\n",
    "        })\n"
   ]
  },
  {
   "cell_type": "code",
   "execution_count": null,
   "id": "e013d04e",
   "metadata": {},
   "outputs": [],
   "source": [
    "graph_query(res.get(\"content\"))\n"
   ]
  }
 ],
 "metadata": {
  "kernelspec": {
   "display_name": ".venv",
   "language": "python",
   "name": "python3"
  },
  "language_info": {
   "codemirror_mode": {
    "name": "ipython",
    "version": 3
   },
   "file_extension": ".py",
   "mimetype": "text/x-python",
   "name": "python",
   "nbconvert_exporter": "python",
   "pygments_lexer": "ipython3",
   "version": "3.12.5"
  }
 },
 "nbformat": 4,
 "nbformat_minor": 5
}
