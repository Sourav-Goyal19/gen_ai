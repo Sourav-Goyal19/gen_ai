{
 "cells": [
  {
   "cell_type": "code",
   "execution_count": null,
   "id": "c010470b",
   "metadata": {},
   "outputs": [],
   "source": [
    "import os\n",
    "from dotenv import load_dotenv\n",
    "from pathlib import Path\n",
    "\n",
    "load_dotenv();\n"
   ]
  },
  {
   "cell_type": "code",
   "execution_count": 28,
   "id": "af490fce",
   "metadata": {},
   "outputs": [],
   "source": [
    "from langchain_text_splitters import RecursiveCharacterTextSplitter\n",
    "from langchain_google_genai import ChatGoogleGenerativeAI\n",
    "from langchain_cohere import CohereEmbeddings\n",
    "from langchain_community.document_loaders import PyPDFLoader\n",
    "from langchain_core.prompts import ChatPromptTemplate\n",
    "from langchain_qdrant import QdrantVectorStore\n",
    "from langchain_core.output_parsers import StrOutputParser\n"
   ]
  },
  {
   "cell_type": "code",
   "execution_count": 5,
   "id": "d7d7cef0",
   "metadata": {},
   "outputs": [
    {
     "name": "stderr",
     "output_type": "stream",
     "text": [
      "Ignoring wrong pointing object 268 0 (offset 0)\n",
      "Ignoring wrong pointing object 309 0 (offset 0)\n"
     ]
    }
   ],
   "source": [
    "pdf_path = Path(os.getcwd()).parent / \"documents\" / \"doc_nodejs.pdf\"\n",
    "loader = PyPDFLoader(file_path=str(pdf_path))\n",
    "docs = loader.load()\n"
   ]
  },
  {
   "cell_type": "code",
   "execution_count": null,
   "id": "21ad6671",
   "metadata": {},
   "outputs": [
    {
     "name": "stdout",
     "output_type": "stream",
     "text": [
      "page_content='A PDF Reference for        The Complete Node.js Dev Course                Version 3.0' metadata={'producer': 'macOS Version 10.14.1 (Build 18B75) Quartz PDFContext', 'creator': 'Acrobat PDFMaker 17 for Word', 'creationdate': \"D:20190227140340Z00'00'\", 'author': 'Andrew Mead', 'moddate': \"D:20190227140340Z00'00'\", 'source': 'd:\\\\Python\\\\gen_ai\\\\documents\\\\doc_nodejs.pdf', 'total_pages': 125, 'page': 0, 'page_label': '1'}\n"
     ]
    }
   ],
   "source": [
    "print((docs[0]))\n"
   ]
  },
  {
   "cell_type": "code",
   "execution_count": null,
   "id": "d35b403c",
   "metadata": {},
   "outputs": [
    {
     "name": "stdout",
     "output_type": "stream",
     "text": [
      "333\n"
     ]
    }
   ],
   "source": [
    "splitter = RecursiveCharacterTextSplitter(chunk_size=800, chunk_overlap=200)\n",
    "splitted_docs = splitter.split_documents(documents=docs)\n",
    "print(len(splitted_docs))\n"
   ]
  },
  {
   "cell_type": "code",
   "execution_count": null,
   "id": "72a6c955",
   "metadata": {},
   "outputs": [
    {
     "name": "stdout",
     "output_type": "stream",
     "text": [
      "page_content='A PDF Reference for        The Complete Node.js Dev Course                Version 3.0' metadata={'producer': 'macOS Version 10.14.1 (Build 18B75) Quartz PDFContext', 'creator': 'Acrobat PDFMaker 17 for Word', 'creationdate': \"D:20190227140340Z00'00'\", 'author': 'Andrew Mead', 'moddate': \"D:20190227140340Z00'00'\", 'source': 'd:\\\\Python\\\\gen_ai\\\\documents\\\\doc_nodejs.pdf', 'total_pages': 125, 'page': 0, 'page_label': '1'}\n"
     ]
    }
   ],
   "source": [
    "print(splitted_docs[0])\n"
   ]
  },
  {
   "cell_type": "code",
   "execution_count": null,
   "id": "9651e222",
   "metadata": {},
   "outputs": [],
   "source": [
    "embedder = CohereEmbeddings(cohere_api_key=os.getenv(\"COHERE_API_KEY\"), model=\"embed-english-v3.0\")\n"
   ]
  },
  {
   "cell_type": "code",
   "execution_count": null,
   "id": "2407248e",
   "metadata": {},
   "outputs": [],
   "source": [
    "embedder.embed_query(\"Hey there\")\n"
   ]
  },
  {
   "cell_type": "code",
   "execution_count": null,
   "id": "d7eb4681",
   "metadata": {},
   "outputs": [],
   "source": [
    "vector_store = QdrantVectorStore.from_documents(\n",
    "    documents=[],\n",
    "    embedding=embedder, \n",
    "    url=\"http://localhost:6333\",\n",
    "    collection_name=\"qdrant_langchain_rag\"\n",
    ")\n"
   ]
  },
  {
   "cell_type": "code",
   "execution_count": null,
   "id": "eaa769ea",
   "metadata": {},
   "outputs": [],
   "source": [
    "vector_store.add_documents(documents=splitted_docs)\n"
   ]
  },
  {
   "cell_type": "code",
   "execution_count": null,
   "id": "b5775958",
   "metadata": {},
   "outputs": [],
   "source": [
    "retriever = QdrantVectorStore.from_existing_collection(\n",
    "    collection_name=\"qdrant_langchain_rag\",\n",
    "    url=\"http://localhost:6333\",\n",
    "    embedding=embedder\n",
    ")\n"
   ]
  },
  {
   "cell_type": "code",
   "execution_count": null,
   "id": "cc75ec63",
   "metadata": {},
   "outputs": [],
   "source": [
    "llm = ChatGoogleGenerativeAI(\n",
    "    api_key=os.getenv(\"GOOGLE_API_KEY\"),\n",
    "    model=\"gemini-1.5-flash\"\n",
    ")\n"
   ]
  },
  {
   "cell_type": "code",
   "execution_count": null,
   "id": "e4d5d4bb",
   "metadata": {},
   "outputs": [],
   "source": [
    "query = input(\">>>>>>\")\n"
   ]
  },
  {
   "cell_type": "code",
   "execution_count": null,
   "id": "fb88cb2c",
   "metadata": {},
   "outputs": [],
   "source": [
    "result = retriever.similarity_search(query)\n",
    "content = []\n",
    "for doc in result:\n",
    "    content.append(doc.page_content)\n",
    "\n",
    "print(content)\n"
   ]
  },
  {
   "cell_type": "code",
   "execution_count": null,
   "id": "b1063b24",
   "metadata": {},
   "outputs": [],
   "source": [
    "prompt = ChatPromptTemplate.from_messages([\n",
    "    (\"system\", \"\"\"You are a helpful assistant who respond to the query only from the given context.\n",
    "     \n",
    "     <context>\n",
    "     {context}\n",
    "     </context>\n",
    "     \n",
    "     \"\"\"),\n",
    "    (\"human\", \"{query}\")\n",
    "])\n"
   ]
  },
  {
   "cell_type": "code",
   "execution_count": null,
   "id": "9343cc7f",
   "metadata": {},
   "outputs": [],
   "source": [
    "chain = prompt | llm | StrOutputParser()\n"
   ]
  },
  {
   "cell_type": "code",
   "execution_count": null,
   "id": "046627d4",
   "metadata": {},
   "outputs": [
    {
     "name": "stdout",
     "output_type": "stream",
     "text": [
      "Based on the provided text, the `fs` module is a built-in Node.js module that provides functions for manipulating the file system.  The example shows its use with `writeFileSync` to write data to a file.\n"
     ]
    }
   ],
   "source": [
    "output = chain.invoke(input={\n",
    "    \"query\": query,\n",
    "    \"context\": content\n",
    "})\n",
    "print(output)\n"
   ]
  },
  {
   "cell_type": "code",
   "execution_count": null,
   "id": "d384708b",
   "metadata": {},
   "outputs": [],
   "source": []
  }
 ],
 "metadata": {
  "kernelspec": {
   "display_name": ".venv",
   "language": "python",
   "name": "python3"
  },
  "language_info": {
   "codemirror_mode": {
    "name": "ipython",
    "version": 3
   },
   "file_extension": ".py",
   "mimetype": "text/x-python",
   "name": "python",
   "nbconvert_exporter": "python",
   "pygments_lexer": "ipython3",
   "version": "3.12.5"
  }
 },
 "nbformat": 4,
 "nbformat_minor": 5
}
