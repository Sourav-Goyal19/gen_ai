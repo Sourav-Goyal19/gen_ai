{
 "cells": [
  {
   "cell_type": "code",
   "execution_count": null,
   "id": "c010470b",
   "metadata": {},
   "outputs": [],
   "source": [
    "import os\n",
    "from dotenv import load_dotenv\n",
    "from pathlib import Path\n",
    "\n",
    "load_dotenv();\n"
   ]
  },
  {
   "cell_type": "code",
   "execution_count": 14,
   "id": "af490fce",
   "metadata": {},
   "outputs": [],
   "source": [
    "from langchain_text_splitters import RecursiveCharacterTextSplitter\n",
    "from langchain_google_genai import ChatGoogleGenerativeAI\n",
    "from langchain_cohere import CohereEmbeddings\n",
    "from langchain_community.document_loaders import PyPDFLoader\n",
    "from langchain_core.prompts import ChatPromptTemplate\n",
    "from langchain_qdrant import QdrantVectorStore\n",
    "from langchain_core.output_parsers import StrOutputParser, JsonOutputParser\n"
   ]
  },
  {
   "cell_type": "code",
   "execution_count": 3,
   "id": "d7d7cef0",
   "metadata": {},
   "outputs": [
    {
     "name": "stderr",
     "output_type": "stream",
     "text": [
      "Ignoring wrong pointing object 268 0 (offset 0)\n",
      "Ignoring wrong pointing object 309 0 (offset 0)\n"
     ]
    }
   ],
   "source": [
    "pdf_path = Path(os.getcwd()).parent / \"documents\" / \"doc_nodejs.pdf\"\n",
    "loader = PyPDFLoader(file_path=str(pdf_path))\n",
    "docs = loader.load()\n"
   ]
  },
  {
   "cell_type": "code",
   "execution_count": 4,
   "id": "21ad6671",
   "metadata": {},
   "outputs": [
    {
     "name": "stdout",
     "output_type": "stream",
     "text": [
      "page_content='A PDF Reference for        The Complete Node.js Dev Course                Version 3.0' metadata={'producer': 'macOS Version 10.14.1 (Build 18B75) Quartz PDFContext', 'creator': 'Acrobat PDFMaker 17 for Word', 'creationdate': \"D:20190227140340Z00'00'\", 'author': 'Andrew Mead', 'moddate': \"D:20190227140340Z00'00'\", 'source': 'd:\\\\Python\\\\gen_ai\\\\documents\\\\doc_nodejs.pdf', 'total_pages': 125, 'page': 0, 'page_label': '1'}\n"
     ]
    }
   ],
   "source": [
    "print((docs[0]))\n"
   ]
  },
  {
   "cell_type": "code",
   "execution_count": null,
   "id": "d35b403c",
   "metadata": {},
   "outputs": [
    {
     "name": "stdout",
     "output_type": "stream",
     "text": [
      "333\n"
     ]
    }
   ],
   "source": [
    "splitter = RecursiveCharacterTextSplitter(chunk_size=800, chunk_overlap=200)\n",
    "splitted_docs = splitter.split_documents(documents=docs)\n",
    "print(len(splitted_docs))\n"
   ]
  },
  {
   "cell_type": "code",
   "execution_count": null,
   "id": "72a6c955",
   "metadata": {},
   "outputs": [
    {
     "name": "stdout",
     "output_type": "stream",
     "text": [
      "page_content='A PDF Reference for        The Complete Node.js Dev Course                Version 3.0' metadata={'producer': 'macOS Version 10.14.1 (Build 18B75) Quartz PDFContext', 'creator': 'Acrobat PDFMaker 17 for Word', 'creationdate': \"D:20190227140340Z00'00'\", 'author': 'Andrew Mead', 'moddate': \"D:20190227140340Z00'00'\", 'source': 'd:\\\\Python\\\\gen_ai\\\\documents\\\\doc_nodejs.pdf', 'total_pages': 125, 'page': 0, 'page_label': '1'}\n"
     ]
    }
   ],
   "source": [
    "print(splitted_docs[0])\n"
   ]
  },
  {
   "cell_type": "code",
   "execution_count": 4,
   "id": "9651e222",
   "metadata": {},
   "outputs": [],
   "source": [
    "embedder = CohereEmbeddings(cohere_api_key=os.getenv(\"COHERE_API_KEY\"), model=\"embed-english-v3.0\")\n"
   ]
  },
  {
   "cell_type": "code",
   "execution_count": null,
   "id": "2407248e",
   "metadata": {},
   "outputs": [],
   "source": [
    "embedder.embed_query(\"Hey there\")\n"
   ]
  },
  {
   "cell_type": "code",
   "execution_count": null,
   "id": "d7eb4681",
   "metadata": {},
   "outputs": [],
   "source": [
    "vector_store = QdrantVectorStore.from_documents(\n",
    "    documents=[],\n",
    "    embedding=embedder, \n",
    "    url=\"http://localhost:6333\",\n",
    "    collection_name=\"qdrant_basic_rag\"\n",
    ")\n"
   ]
  },
  {
   "cell_type": "code",
   "execution_count": null,
   "id": "eaa769ea",
   "metadata": {},
   "outputs": [],
   "source": [
    "vector_store.add_documents(documents=splitted_docs)\n"
   ]
  },
  {
   "cell_type": "code",
   "execution_count": 6,
   "id": "b5775958",
   "metadata": {},
   "outputs": [],
   "source": [
    "retriever = QdrantVectorStore.from_existing_collection(\n",
    "    collection_name=\"qdrant_basic_rag\",\n",
    "    url=\"http://localhost:6333\",\n",
    "    embedding=embedder\n",
    ")\n"
   ]
  },
  {
   "cell_type": "code",
   "execution_count": 7,
   "id": "cc75ec63",
   "metadata": {},
   "outputs": [],
   "source": [
    "llm = ChatGoogleGenerativeAI(\n",
    "    api_key=os.getenv(\"GOOGLE_API_KEY\"),\n",
    "    model=\"gemini-1.5-flash\"\n",
    ")\n"
   ]
  },
  {
   "cell_type": "code",
   "execution_count": 45,
   "id": "65a633d6",
   "metadata": {},
   "outputs": [],
   "source": [
    "content_writer_prompt = ChatPromptTemplate.from_messages([\n",
    "    (\"system\", \"\"\"\n",
    "    You are an expert content writer for LLMs.\n",
    "\n",
    "    Goal:\n",
    "    Your task is to write detailed, structured content that helps the LLM respond accurately to a user's query using the provided context.\n",
    "\n",
    "    Instructions:\n",
    "    - Write informative and explanatory content tailored to the user's query based on the given context.\n",
    "    - Group the content by **relevant page ranges**. For example:\n",
    "    - Pages 2-4 will be grouped together.\n",
    "    - Pages 9-12 will be grouped together.\n",
    "    - Ensure each content block is clear, complete, and helps answer the query.\n",
    "\n",
    "    Rules:\n",
    "    - The output must be in valid **JSON** format.\n",
    "    - Each content block should have an \"id\" based on the **starting page number** of that block.  \n",
    "    (e.g., if content is from pages 3-5, then id = 3)\n",
    "\n",
    "    Output Format:\n",
    "    {{\n",
    "        \"query\": \"user query here\",\n",
    "        \"output\": [\n",
    "            {{\n",
    "                \"id\": <starting_page_number>,\n",
    "                \"content\": \"Relevant content here\"\n",
    "            }},\n",
    "            ...\n",
    "        ]\n",
    "    }}\n",
    "\n",
    "    Example:\n",
    "    Input Query: What is the fs module?\n",
    "    Given Context:\n",
    "    Page 2: The fs module in Node.js is used to interact with the file system. It allows reading, writing, and deleting files.\n",
    "    Page 3: It supports both synchronous and asynchronous file operations. Common methods include fs.readFile and fs.writeFile.\n",
    "    Page 7: The path module is often used with fs to resolve directory paths.\n",
    "    Page 8: This helps ensure cross-platform compatibility for file and folder paths.\n",
    "    Output:\n",
    "    {{\n",
    "    \"query\": \"What is the fs module?\",\n",
    "    \"output\": [\n",
    "        {{\n",
    "            \"id\": 2,\n",
    "            \"content\": \"The fs (File System) module in Node.js provides an API for interacting with the file system. It supports both synchronous and asynchronous methods for reading, writing, appending, and deleting files. Common methods include fs.readFile, fs.writeFile, and fs.unlink. These functions are critical in server-side applications where file manipulation is necessary.\"\n",
    "        }},\n",
    "        {{\n",
    "            \"id\": 7,\n",
    "            \"content\": \"The path module is commonly used alongside the fs module to handle and resolve file paths in a consistent, cross-platform way. It ensures that directory structures and file locations work correctly across different operating systems, which enhances the reliability of file operations performed using fs.\"\n",
    "        }}]\n",
    "    }}\n",
    "\n",
    "    Now, here is your context:\n",
    "    <context>\n",
    "    {context}\n",
    "    </context>\n",
    "\"\"\"),\n",
    "    (\"human\", \"{query}\")\n",
    "])\n"
   ]
  },
  {
   "cell_type": "code",
   "execution_count": 54,
   "id": "21a1f8e6",
   "metadata": {},
   "outputs": [],
   "source": [
    "def write_content(query: str):\n",
    "    if len(query) <= 0:\n",
    "        return \"Invalid query\"\n",
    "    content_writer_chain = content_writer_prompt | llm | JsonOutputParser();\n",
    "    context = retriever.similarity_search(query)\n",
    "    results = content_writer_chain.invoke(input={\n",
    "        \"query\": query,\n",
    "        \"context\": context\n",
    "    })\n",
    "    # results = json.dumps(results);\n",
    "    if \"output\" in results:\n",
    "        return results;\n",
    "    return {\"query\": query, \"output\": \"Something went wrong\"}\n"
   ]
  },
  {
   "cell_type": "code",
   "execution_count": 55,
   "id": "d3cbfa7f",
   "metadata": {},
   "outputs": [],
   "source": [
    "# answer = write_content(\"What is bcryptjs?\")\n",
    "# print(answer)\n"
   ]
  },
  {
   "cell_type": "code",
   "execution_count": 56,
   "id": "3dc549d7",
   "metadata": {},
   "outputs": [],
   "source": [
    "query_generator_prompt = ChatPromptTemplate.from_messages([\n",
    "    (\"system\", \"\"\"\n",
    "        You are an expert query generator for LLMs and search engines.\n",
    "\n",
    "        Goal:\n",
    "        Your task is to generate **alternative but equivalent queries** based on a given user query. These should capture the **same intent** but use different phrasings or keywords. This helps in improving retrieval quality from vector databases or semantic search systems.\n",
    "\n",
    "        Instructions:\n",
    "        - Write **up to 4 alternative queries** that tackle the same problem the user wants to solve.\n",
    "        - Use **semantically rich keywords** that are helpful for retrieving relevant documents from a vector database.\n",
    "        - Keep the alternate queries **short and focused**, avoiding unnecessary words.\n",
    "        - Ensure all alternate queries preserve the **original intent**.\n",
    "\n",
    "        Rules:\n",
    "        - Output must be in **valid JSON** format.\n",
    "        - Avoid generating queries that are too vague or overly broad.\n",
    "        - Do not repeat the original query verbatim.\n",
    "\n",
    "        Output Format:\n",
    "        {{\n",
    "            \"query\": \"<original_query>\",\n",
    "            \"output\": [\n",
    "                \"alternate_query_1\",\n",
    "                \"alternate_query_2\",\n",
    "                \"alternate_query_3\",\n",
    "                \"alternate_query_4\"\n",
    "            ]\n",
    "        }}\n",
    "\n",
    "        Example:\n",
    "        Input Query: What is the fs module?\n",
    "        Output:\n",
    "        {{\n",
    "            \"query\": \"What is the fs module?\",\n",
    "            \"output\": [\n",
    "                \"Node.js file system module explanation\",\n",
    "                \"how to use fs module in Node.js\",\n",
    "                \"fs module functions for file handling\",\n",
    "                \"Node.js read and write files with fs\"\n",
    "            ]\n",
    "        }}\n",
    "    \"\"\"),\n",
    "    (\"human\", \"{query}\")\n",
    "])\n"
   ]
  },
  {
   "cell_type": "code",
   "execution_count": 57,
   "id": "f78dd6bd",
   "metadata": {},
   "outputs": [],
   "source": [
    "def query_generator(query:str):\n",
    "    if len(query) <= 0:\n",
    "        return \"Invalid query\"\n",
    "    query_generator_chain = query_generator_prompt | llm | JsonOutputParser();\n",
    "    results = query_generator_chain.invoke(input={\n",
    "        \"query\": query\n",
    "    })\n",
    "    if \"output\" in results:\n",
    "        return results;\n",
    "    return {\"query\": query, \"output\": \"Something went wrong\"}\n"
   ]
  },
  {
   "cell_type": "code",
   "execution_count": 58,
   "id": "65595c51",
   "metadata": {},
   "outputs": [],
   "source": [
    "# queries = query_generator(\"What is bcrypt?\")\n",
    "# queries\n"
   ]
  },
  {
   "cell_type": "code",
   "execution_count": 83,
   "id": "8abe8132",
   "metadata": {},
   "outputs": [],
   "source": [
    "def content_generator(query):\n",
    "    if len(query) <= 0:\n",
    "        return \"Invalid query\"\n",
    "    query_generate_output = query_generator(query);\n",
    "    queries = query_generate_output.get(\"output\");\n",
    "    print(queries)\n",
    "    content = []\n",
    "    for qry in queries:\n",
    "        write_content_output = write_content(qry)\n",
    "        content.append(write_content_output.get(\"output\"))\n",
    "    # print(content)\n",
    "    return content;\n"
   ]
  },
  {
   "cell_type": "code",
   "execution_count": 84,
   "id": "14381e54",
   "metadata": {},
   "outputs": [],
   "source": [
    "# context = content_generator(\"What is bcrypt?\")\n",
    "# context\n"
   ]
  },
  {
   "cell_type": "code",
   "execution_count": 95,
   "id": "9cc46f3e",
   "metadata": {},
   "outputs": [],
   "source": [
    "query_resolver_prompt = ChatPromptTemplate.from_messages([\n",
    "    (\"system\", \"\"\"\n",
    "    You are an experienced and knowledgeable teacher dedicated to providing the best educational experience for your students.\n",
    "\n",
    "    ### Instructions:\n",
    "    - Answer the student's query **thoroughly** based on your expertise and knowledge.\n",
    "    - If you do **not** have the answer, respond with a polite message such as:\n",
    "    *\"I'm sorry, but I don't have the information to answer that question right now. Is there something else you would like to know?\"*\n",
    "    - Ensure your answer is **comprehensive, clear**, and exceeds student expectations in detail.\n",
    "    - Never refer to your knowledge base directly in your response (e.g., avoid saying \"based on my knowledge...\").\n",
    "    - Always maintain a respectful, engaging, and informative tone.\n",
    "    - Utilize your full expertise to provide the most complete answer possible.\n",
    "\n",
    "    ### Rules:\n",
    "    - Output must be in **valid JSON** format.\n",
    "    - Never include content outside of your expertise.\n",
    "    - Never mention your knowledge base directly.\n",
    "    - The answer must be as **detailed and informative as possible**, avoiding short or summarized responses.\n",
    "\n",
    "    ---\n",
    "\n",
    "    ### Output Format:\n",
    "    {{\n",
    "        \"query\": \"<student_query>\",\n",
    "        \"output\": \"<your_detailed_answer>\"\n",
    "    }}\n",
    "\n",
    "    Now, here is your expertise:\n",
    "    <expertise>\n",
    "    {context}\n",
    "    </expertise>\n",
    "\"\"\"),\n",
    "    (\"human\", \"{query}\")\n",
    "])\n"
   ]
  },
  {
   "cell_type": "code",
   "execution_count": 96,
   "id": "e4d5d4bb",
   "metadata": {},
   "outputs": [],
   "source": [
    "def query_resolver(query:str):\n",
    "    context = content_generator(query);\n",
    "    if type(context) != list:\n",
    "        print(\"came here\")\n",
    "        context = retriever.similarity_search(query)\n",
    "    query_resolver_chain = query_resolver_prompt | llm | JsonOutputParser();\n",
    "    results = query_resolver_chain.invoke(input={\n",
    "        \"query\": query,\n",
    "        \"context\": context\n",
    "    })\n",
    "    if \"output\" in results:\n",
    "        return results;\n",
    "    return {\"query\": query, \"output\": \"Something went wrong\"}\n"
   ]
  },
  {
   "cell_type": "code",
   "execution_count": 97,
   "id": "3b8871e3",
   "metadata": {},
   "outputs": [
    {
     "name": "stdout",
     "output_type": "stream",
     "text": [
      "['bcrypt.js library explanation', 'Node.js password hashing with bcrypt', 'bcrypt password hashing algorithm', 'secure password storage using bcryptjs']\n",
      "{'query': 'what is bcryptjs?', 'output': \"Bcryptjs is a popular JavaScript library that implements the bcrypt algorithm, a robust and widely-used method for password hashing.  It's crucial for securely storing user passwords in applications to protect against unauthorized access even if a database breach occurs.  Instead of storing passwords in plain text, which is extremely vulnerable, bcryptjs transforms them into unique, one-way hashes. This means that even if someone gains access to the database containing these hashes, they cannot easily retrieve the original passwords.\\n\\nHere's a breakdown of its key features and functionality:\\n\\n**Core Functionality:**\\n\\n* **Password Hashing (`bcrypt.hash`):** This is the primary function. It takes a plain text password and a 'salt round' (or 'work factor') as input.  The salt round determines the computational cost of hashing; higher values (generally 8 or higher are recommended for security) increase the time it takes to compute the hash, making brute-force attacks more difficult.  The function returns a unique, salted hash representing the password. This hash is what you store in your database, not the original password.\\n* **Password Verification (`bcrypt.compare`):** This function compares a given plain text password against a stored bcrypt hash. It generates a hash from the provided password using the same salt embedded in the stored hash and then compares it to the stored hash. If they match, it returns `true`, indicating a successful authentication; otherwise, it returns `false`.\\n\\n**Security Implications:**\\n\\nBcrypt's strength lies in its use of a computationally intensive, one-way function.  This means it's practically impossible to reverse the hash to obtain the original password.  The use of salting adds another layer of security, making it extremely difficult for attackers to crack passwords even if they have access to multiple bcrypt hashes.  The salt, a random value, is incorporated into the hashing process, ensuring that the same password produces different hashes each time it's hashed, even with the same salt round.  This prevents pre-computed rainbow table attacks.\\n\\n**Integration with other technologies:**\\n\\nBcryptjs is often used in conjunction with other technologies and frameworks to create secure user authentication systems. For example:\\n\\n* **Mongoose (MongoDB ODM):** Mongoose middleware can be used to automatically hash passwords before saving user data to the database, ensuring that all passwords are consistently and securely handled.\\n* **Express.js (Node.js web framework):** Bcryptjs integrates seamlessly with Express.js to handle user authentication in web applications.  It is commonly used within custom middleware or route handlers to verify user login credentials.\\n\\n**Example Usage:**\\n\\nLet's say you have a user's password 'MySecurePassword!'.\\n\\n1. **Hashing:**\\n   ```javascript\\n   const bcrypt = require('bcryptjs');\\n   const saltRounds = 10; // Recommended value\\n   bcrypt.hash('MySecurePassword!', saltRounds, function(err, hash) {\\n       // Store hash in your password DB.\\n   });\\n   ```\\n\\n2. **Verification:**\\n   ```javascript\\n   bcrypt.compare('MySecurePassword!', hash, function(err, res) {\\n       if (res) { console.log('Passwords match!'); } else { console.log('Passwords do not match.'); }\\n   });\\n   ```\\n\\nIn summary, bcryptjs is an essential tool for any application that handles user passwords, providing a robust and secure way to store and verify passwords, mitigating significant security risks associated with storing passwords in plain text.\"}\n"
     ]
    }
   ],
   "source": [
    "query = input(\">>>>\");\n",
    "results = query_resolver(query)\n",
    "print(results);\n"
   ]
  },
  {
   "cell_type": "code",
   "execution_count": null,
   "id": "21200bc9",
   "metadata": {},
   "outputs": [],
   "source": []
  },
  {
   "cell_type": "code",
   "execution_count": null,
   "id": "f297b69f",
   "metadata": {},
   "outputs": [],
   "source": []
  }
 ],
 "metadata": {
  "kernelspec": {
   "display_name": ".venv",
   "language": "python",
   "name": "python3"
  },
  "language_info": {
   "codemirror_mode": {
    "name": "ipython",
    "version": 3
   },
   "file_extension": ".py",
   "mimetype": "text/x-python",
   "name": "python",
   "nbconvert_exporter": "python",
   "pygments_lexer": "ipython3",
   "version": "3.12.5"
  }
 },
 "nbformat": 4,
 "nbformat_minor": 5
}
