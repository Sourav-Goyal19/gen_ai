{
 "cells": [
  {
   "cell_type": "code",
   "execution_count": 1,
   "id": "c010470b",
   "metadata": {},
   "outputs": [],
   "source": [
    "import os\n",
    "from dotenv import load_dotenv\n",
    "from pathlib import Path\n",
    "\n",
    "load_dotenv();\n"
   ]
  },
  {
   "cell_type": "code",
   "execution_count": 2,
   "id": "af490fce",
   "metadata": {},
   "outputs": [],
   "source": [
    "from langchain_text_splitters import RecursiveCharacterTextSplitter\n",
    "from langchain_google_genai import ChatGoogleGenerativeAI\n",
    "from langchain_cohere import CohereEmbeddings\n",
    "from langchain_community.document_loaders import PyPDFLoader\n",
    "from langchain_core.prompts import ChatPromptTemplate\n",
    "from langchain_qdrant import QdrantVectorStore\n",
    "from langchain_core.output_parsers import StrOutputParser, JsonOutputParser\n"
   ]
  },
  {
   "cell_type": "code",
   "execution_count": 3,
   "id": "d7d7cef0",
   "metadata": {},
   "outputs": [
    {
     "name": "stderr",
     "output_type": "stream",
     "text": [
      "Ignoring wrong pointing object 268 0 (offset 0)\n",
      "Ignoring wrong pointing object 309 0 (offset 0)\n"
     ]
    }
   ],
   "source": [
    "pdf_path = Path(os.getcwd()).parent / \"documents\" / \"doc_nodejs.pdf\"\n",
    "loader = PyPDFLoader(file_path=str(pdf_path))\n",
    "docs = loader.load()\n"
   ]
  },
  {
   "cell_type": "code",
   "execution_count": 4,
   "id": "21ad6671",
   "metadata": {},
   "outputs": [
    {
     "name": "stdout",
     "output_type": "stream",
     "text": [
      "page_content='A PDF Reference for        The Complete Node.js Dev Course                Version 3.0' metadata={'producer': 'macOS Version 10.14.1 (Build 18B75) Quartz PDFContext', 'creator': 'Acrobat PDFMaker 17 for Word', 'creationdate': \"D:20190227140340Z00'00'\", 'author': 'Andrew Mead', 'moddate': \"D:20190227140340Z00'00'\", 'source': 'd:\\\\Python\\\\gen_ai\\\\documents\\\\doc_nodejs.pdf', 'total_pages': 125, 'page': 0, 'page_label': '1'}\n"
     ]
    }
   ],
   "source": [
    "print((docs[0]))\n"
   ]
  },
  {
   "cell_type": "code",
   "execution_count": null,
   "id": "d35b403c",
   "metadata": {},
   "outputs": [
    {
     "name": "stdout",
     "output_type": "stream",
     "text": [
      "333\n"
     ]
    }
   ],
   "source": [
    "splitter = RecursiveCharacterTextSplitter(chunk_size=800, chunk_overlap=200)\n",
    "splitted_docs = splitter.split_documents(documents=docs)\n",
    "print(len(splitted_docs))\n"
   ]
  },
  {
   "cell_type": "code",
   "execution_count": null,
   "id": "72a6c955",
   "metadata": {},
   "outputs": [
    {
     "name": "stdout",
     "output_type": "stream",
     "text": [
      "page_content='A PDF Reference for        The Complete Node.js Dev Course                Version 3.0' metadata={'producer': 'macOS Version 10.14.1 (Build 18B75) Quartz PDFContext', 'creator': 'Acrobat PDFMaker 17 for Word', 'creationdate': \"D:20190227140340Z00'00'\", 'author': 'Andrew Mead', 'moddate': \"D:20190227140340Z00'00'\", 'source': 'd:\\\\Python\\\\gen_ai\\\\documents\\\\doc_nodejs.pdf', 'total_pages': 125, 'page': 0, 'page_label': '1'}\n"
     ]
    }
   ],
   "source": [
    "print(splitted_docs[0])\n"
   ]
  },
  {
   "cell_type": "code",
   "execution_count": 3,
   "id": "9651e222",
   "metadata": {},
   "outputs": [],
   "source": [
    "embedder = CohereEmbeddings(cohere_api_key=os.getenv(\"COHERE_API_KEY\"), model=\"embed-english-v3.0\")\n"
   ]
  },
  {
   "cell_type": "code",
   "execution_count": null,
   "id": "2407248e",
   "metadata": {},
   "outputs": [],
   "source": [
    "embedder.embed_query(\"Hey there\")\n"
   ]
  },
  {
   "cell_type": "code",
   "execution_count": null,
   "id": "d7eb4681",
   "metadata": {},
   "outputs": [],
   "source": [
    "vector_store = QdrantVectorStore.from_documents(\n",
    "    documents=[],\n",
    "    embedding=embedder, \n",
    "    url=\"http://localhost:6333\",\n",
    "    collection_name=\"qdrant_basic_rag\"\n",
    ")\n"
   ]
  },
  {
   "cell_type": "code",
   "execution_count": null,
   "id": "eaa769ea",
   "metadata": {},
   "outputs": [],
   "source": [
    "vector_store.add_documents(documents=splitted_docs)\n"
   ]
  },
  {
   "cell_type": "code",
   "execution_count": 4,
   "id": "b5775958",
   "metadata": {},
   "outputs": [],
   "source": [
    "retriever = QdrantVectorStore.from_existing_collection(\n",
    "    collection_name=\"qdrant_basic_rag\",\n",
    "    url=\"http://localhost:6333\",\n",
    "    embedding=embedder\n",
    ")\n"
   ]
  },
  {
   "cell_type": "code",
   "execution_count": 5,
   "id": "cc75ec63",
   "metadata": {},
   "outputs": [],
   "source": [
    "llm = ChatGoogleGenerativeAI(\n",
    "    api_key=os.getenv(\"GOOGLE_API_KEY\"),\n",
    "    model=\"gemini-1.5-flash\"\n",
    ")\n"
   ]
  },
  {
   "cell_type": "code",
   "execution_count": 6,
   "id": "65a633d6",
   "metadata": {},
   "outputs": [],
   "source": [
    "content_writer_prompt = ChatPromptTemplate.from_messages([\n",
    "    (\"system\", \"\"\"\n",
    "    You are an expert content writer for LLMs.\n",
    "\n",
    "    Goal:\n",
    "    Your task is to write detailed, structured content that helps the LLM respond accurately to a user's query using the provided context.\n",
    "\n",
    "    Instructions:\n",
    "    - Write informative and explanatory content tailored to the user's query based on the given context.\n",
    "    - Group the content by **relevant page ranges**. For example:\n",
    "    - Pages 2-4 will be grouped together.\n",
    "    - Pages 9-12 will be grouped together.\n",
    "    - Ensure each content block is clear, complete, and helps answer the query.\n",
    "\n",
    "    Rules:\n",
    "    - The output must be in valid **JSON** format.\n",
    "    - Each content block should have an \"id\" based on the **starting page number** of that block.  \n",
    "    (e.g., if content is from pages 3-5, then id = 3)\n",
    "\n",
    "    Output Format:\n",
    "    {{\n",
    "        \"query\": \"user query here\",\n",
    "        \"output\": [\n",
    "            {{\n",
    "                \"id\": <starting_page_number>,\n",
    "                \"content\": \"Relevant content here\"\n",
    "            }},\n",
    "            ...\n",
    "        ]\n",
    "    }}\n",
    "\n",
    "    Example:\n",
    "    Input Query: What is the fs module?\n",
    "    Given Context:\n",
    "    Page 2: The fs module in Node.js is used to interact with the file system. It allows reading, writing, and deleting files.\n",
    "    Page 3: It supports both synchronous and asynchronous file operations. Common methods include fs.readFile and fs.writeFile.\n",
    "    Page 7: The path module is often used with fs to resolve directory paths.\n",
    "    Page 8: This helps ensure cross-platform compatibility for file and folder paths.\n",
    "    Output:\n",
    "    {{\n",
    "    \"query\": \"What is the fs module?\",\n",
    "    \"output\": [\n",
    "        {{\n",
    "            \"id\": 2,\n",
    "            \"content\": \"The fs (File System) module in Node.js provides an API for interacting with the file system. It supports both synchronous and asynchronous methods for reading, writing, appending, and deleting files. Common methods include fs.readFile, fs.writeFile, and fs.unlink. These functions are critical in server-side applications where file manipulation is necessary.\"\n",
    "        }},\n",
    "        {{\n",
    "            \"id\": 7,\n",
    "            \"content\": \"The path module is commonly used alongside the fs module to handle and resolve file paths in a consistent, cross-platform way. It ensures that directory structures and file locations work correctly across different operating systems, which enhances the reliability of file operations performed using fs.\"\n",
    "        }}]\n",
    "    }}\n",
    "\n",
    "    Now, here is your context:\n",
    "    <context>\n",
    "    {context}\n",
    "    </context>\n",
    "\"\"\"),\n",
    "    (\"human\", \"{query}\")\n",
    "])\n"
   ]
  },
  {
   "cell_type": "code",
   "execution_count": 7,
   "id": "21a1f8e6",
   "metadata": {},
   "outputs": [],
   "source": [
    "def write_content(query: str):\n",
    "    if len(query) <= 0:\n",
    "        return \"Invalid query\"\n",
    "    content_writer_chain = content_writer_prompt | llm | JsonOutputParser();\n",
    "    context = retriever.similarity_search(query)\n",
    "    results = content_writer_chain.invoke(input={\n",
    "        \"query\": query,\n",
    "        \"context\": context\n",
    "    })\n",
    "    # results = json.dumps(results);\n",
    "    if \"output\" in results:\n",
    "        return results;\n",
    "    return {\"query\": query, \"output\": \"Something went wrong\"}\n"
   ]
  },
  {
   "cell_type": "code",
   "execution_count": 55,
   "id": "d3cbfa7f",
   "metadata": {},
   "outputs": [],
   "source": [
    "# answer = write_content(\"What is bcryptjs?\")\n",
    "# print(answer)\n"
   ]
  },
  {
   "cell_type": "code",
   "execution_count": 8,
   "id": "3dc549d7",
   "metadata": {},
   "outputs": [],
   "source": [
    "query_generator_prompt = ChatPromptTemplate.from_messages([\n",
    "    (\"system\", \"\"\"\n",
    "        You are an expert query generator for LLMs and search engines.\n",
    "\n",
    "        Goal:\n",
    "        Your task is to generate **alternative but equivalent queries** based on a given user query. These should capture the **same intent** but use different phrasings or keywords. This helps in improving retrieval quality from vector databases or semantic search systems.\n",
    "\n",
    "        Instructions:\n",
    "        - Write **up to 4 alternative queries** that tackle the same problem the user wants to solve.\n",
    "        - Use **semantically rich keywords** that are helpful for retrieving relevant documents from a vector database.\n",
    "        - Keep the alternate queries **short and focused**, avoiding unnecessary words.\n",
    "        - Ensure all alternate queries preserve the **original intent**.\n",
    "\n",
    "        Rules:\n",
    "        - Output must be in **valid JSON** format.\n",
    "        - Avoid generating queries that are too vague or overly broad.\n",
    "        - Do not repeat the original query verbatim.\n",
    "\n",
    "        Output Format:\n",
    "        {{\n",
    "            \"query\": \"<original_query>\",\n",
    "            \"output\": [\n",
    "                \"alternate_query_1\",\n",
    "                \"alternate_query_2\",\n",
    "                \"alternate_query_3\",\n",
    "                \"alternate_query_4\"\n",
    "            ]\n",
    "        }}\n",
    "\n",
    "        Example:\n",
    "        Input Query: What is the fs module?\n",
    "        Output:\n",
    "        {{\n",
    "            \"query\": \"What is the fs module?\",\n",
    "            \"output\": [\n",
    "                \"Node.js file system module explanation\",\n",
    "                \"how to use fs module in Node.js\",\n",
    "                \"fs module functions for file handling\",\n",
    "                \"Node.js read and write files with fs\"\n",
    "            ]\n",
    "        }}\n",
    "    \"\"\"),\n",
    "    (\"human\", \"{query}\")\n",
    "])\n"
   ]
  },
  {
   "cell_type": "code",
   "execution_count": 9,
   "id": "f78dd6bd",
   "metadata": {},
   "outputs": [],
   "source": [
    "def query_generator(query:str):\n",
    "    if len(query) <= 0:\n",
    "        return \"Invalid query\"\n",
    "    query_generator_chain = query_generator_prompt | llm | JsonOutputParser();\n",
    "    results = query_generator_chain.invoke(input={\n",
    "        \"query\": query\n",
    "    })\n",
    "    if \"output\" in results:\n",
    "        return results;\n",
    "    return {\"query\": query, \"output\": \"Something went wrong\"}\n"
   ]
  },
  {
   "cell_type": "code",
   "execution_count": 58,
   "id": "65595c51",
   "metadata": {},
   "outputs": [],
   "source": [
    "# queries = query_generator(\"What is bcrypt?\")\n",
    "# queries\n"
   ]
  },
  {
   "cell_type": "code",
   "execution_count": 10,
   "id": "8abe8132",
   "metadata": {},
   "outputs": [],
   "source": [
    "def content_generator(query):\n",
    "    if len(query) <= 0:\n",
    "        return \"Invalid query\"\n",
    "    query_generate_output = query_generator(query);\n",
    "    queries = query_generate_output.get(\"output\");\n",
    "    print(queries)\n",
    "    content = []\n",
    "    for qry in queries:\n",
    "        write_content_output = write_content(qry)\n",
    "        content.append(write_content_output.get(\"output\"))\n",
    "    # print(content)\n",
    "    return content;\n"
   ]
  },
  {
   "cell_type": "code",
   "execution_count": 84,
   "id": "14381e54",
   "metadata": {},
   "outputs": [],
   "source": [
    "# context = content_generator(\"What is bcrypt?\")\n",
    "# context\n"
   ]
  },
  {
   "cell_type": "code",
   "execution_count": 11,
   "id": "9cc46f3e",
   "metadata": {},
   "outputs": [],
   "source": [
    "query_resolver_prompt = ChatPromptTemplate.from_messages([\n",
    "    (\"system\", \"\"\"\n",
    "    You are an experienced and knowledgeable teacher dedicated to providing the best educational experience for your students.\n",
    "\n",
    "    ### Instructions:\n",
    "    - Answer the student's query **thoroughly** based on your expertise and knowledge.\n",
    "    - If you do **not** have the answer, respond with a polite message such as:\n",
    "    *\"I'm sorry, but I don't have the information to answer that question right now. Is there something else you would like to know?\"*\n",
    "    - Ensure your answer is **comprehensive, clear**, and exceeds student expectations in detail.\n",
    "    - Never refer to your knowledge base directly in your response (e.g., avoid saying \"based on my knowledge...\").\n",
    "    - Always maintain a respectful, engaging, and informative tone.\n",
    "    - Utilize your full expertise to provide the most complete answer possible.\n",
    "\n",
    "    ### Rules:\n",
    "    - Output must be in **valid JSON** format.\n",
    "    - Never include content outside of your expertise.\n",
    "    - Never mention your knowledge base directly.\n",
    "    - The answer must be as **detailed and informative as possible**, avoiding short or summarized responses.\n",
    "\n",
    "    ---\n",
    "\n",
    "    ### Output Format:\n",
    "    {{\n",
    "        \"query\": \"<student_query>\",\n",
    "        \"output\": \"<your_detailed_answer>\"\n",
    "    }}\n",
    "\n",
    "    Now, here is your expertise:\n",
    "    <expertise>\n",
    "    {context}\n",
    "    </expertise>\n",
    "\"\"\"),\n",
    "    (\"human\", \"{query}\")\n",
    "])\n"
   ]
  },
  {
   "cell_type": "code",
   "execution_count": 12,
   "id": "e4d5d4bb",
   "metadata": {},
   "outputs": [],
   "source": [
    "def query_resolver(query:str):\n",
    "    context = content_generator(query);\n",
    "    if type(context) != list:\n",
    "        print(\"came here\")\n",
    "        context = retriever.similarity_search(query)\n",
    "    query_resolver_chain = query_resolver_prompt | llm | JsonOutputParser();\n",
    "    results = query_resolver_chain.invoke(input={\n",
    "        \"query\": query,\n",
    "        \"context\": context\n",
    "    })\n",
    "    if \"output\" in results:\n",
    "        return results;\n",
    "    return {\"query\": query, \"output\": \"Something went wrong\"}\n"
   ]
  },
  {
   "cell_type": "code",
   "execution_count": 13,
   "id": "3b8871e3",
   "metadata": {},
   "outputs": [
    {
     "name": "stdout",
     "output_type": "stream",
     "text": [
      "['Mongoose ODM explanation', 'MongoDB Object Modeling with Mongoose', 'Mongoose features and usage', 'How to use Mongoose in Node.js']\n",
      "{'query': 'what is mongoose?', 'output': \"Mongoose is a powerful Object Data Modeling (ODM) library specifically designed for MongoDB and Node.js.  It acts as an intermediary, simplifying the interaction between your Node.js application and a MongoDB database.  Instead of writing raw MongoDB queries, which can be complex and error-prone, Mongoose allows you to work with data in a more structured and object-oriented way.  This makes database interactions cleaner, more readable, and easier to maintain.\\n\\nHere's a breakdown of its key features and functionalities:\\n\\n**1. Data Modeling with Schemas:** At the heart of Mongoose lies the concept of schemas.  A schema defines the structure of your data, specifying the data types for each field (e.g., String, Number, Date, Boolean, etc.), and also allows you to incorporate validation rules and default values.  This structured approach ensures data integrity and consistency.  Think of a schema as a blueprint for your data.\\n\\n**2. Simplified Database Interactions:** Mongoose provides a user-friendly API for common database operations such as creating, reading, updating, and deleting documents.  These operations are abstracted away from the underlying MongoDB driver, making them significantly easier to use.  Instead of writing complex queries, you can use Mongoose methods that are more intuitive and closer to object-oriented programming paradigms.\\n\\n**3. Data Validation and Sanitization:** Mongoose has built-in support for data validation.  Within your schema, you can specify rules to ensure that data conforms to certain constraints.  For example, you can make a field required, specify a minimum or maximum length, enforce a specific data type, or use custom validation functions.  Sanitization features help clean up user input before it's stored in the database, preventing issues caused by malformed or unexpected data.\\n\\n**4. Query Building:** While Mongoose simplifies database interactions, it doesn't completely abstract away the power of MongoDB queries.  It provides methods for building sophisticated queries, allowing you to leverage the full capabilities of MongoDB's query language when needed.  This balance provides both ease of use and flexibility.\\n\\n**5. Middleware and Plugins:** Mongoose supports middleware and plugins, which enable you to extend its functionality to meet your specific needs.  Middleware allows you to intercept and modify database operations before they are executed, while plugins add new features and capabilities to Mongoose itself. This extensibility is a key advantage for building complex applications.\\n\\n**6. Connection Management:** Mongoose provides functions to easily connect to your MongoDB database.  You specify the connection string (which includes the database URL and other connection details), and Mongoose handles the connection process.  It also provides mechanisms for managing connections, such as handling disconnections and reconnections.\\n\\n**7. Asynchronous Operations:** Mongoose operations are asynchronous by nature, leveraging promises or async/await to handle database interactions efficiently without blocking the main thread of your application. This ensures responsiveness and prevents performance bottlenecks.\\n\\n**In summary:** Mongoose is an invaluable tool for Node.js developers working with MongoDB. It simplifies database interactions, improves code readability, enhances data integrity, and provides a flexible and extensible framework for managing data in your applications.  The object-oriented approach makes it significantly easier to learn and use compared to the native MongoDB driver, particularly for developers accustomed to object-oriented programming concepts.\"}\n"
     ]
    }
   ],
   "source": [
    "query = input(\">>>>\");\n",
    "results = query_resolver(query)\n",
    "print(results);\n"
   ]
  },
  {
   "cell_type": "code",
   "execution_count": null,
   "id": "21200bc9",
   "metadata": {},
   "outputs": [],
   "source": []
  },
  {
   "cell_type": "code",
   "execution_count": null,
   "id": "f297b69f",
   "metadata": {},
   "outputs": [],
   "source": []
  }
 ],
 "metadata": {
  "kernelspec": {
   "display_name": ".venv",
   "language": "python",
   "name": "python3"
  },
  "language_info": {
   "codemirror_mode": {
    "name": "ipython",
    "version": 3
   },
   "file_extension": ".py",
   "mimetype": "text/x-python",
   "name": "python",
   "nbconvert_exporter": "python",
   "pygments_lexer": "ipython3",
   "version": "3.12.5"
  }
 },
 "nbformat": 4,
 "nbformat_minor": 5
}
