{
 "cells": [
  {
   "cell_type": "code",
   "execution_count": 1,
   "id": "96018bc4",
   "metadata": {},
   "outputs": [
    {
     "data": {
      "text/plain": [
       "True"
      ]
     },
     "execution_count": 1,
     "metadata": {},
     "output_type": "execute_result"
    }
   ],
   "source": [
    "import os\n",
    "from dotenv import load_dotenv\n",
    "from typing import TypedDict, Annotated, Optional\n",
    "from pydantic import BaseModel, EmailStr, Field\n",
    "\n",
    "load_dotenv()\n"
   ]
  },
  {
   "cell_type": "code",
   "execution_count": 3,
   "id": "07d3d929",
   "metadata": {},
   "outputs": [],
   "source": [
    "from langchain_google_genai import ChatGoogleGenerativeAI\n"
   ]
  },
  {
   "cell_type": "code",
   "execution_count": 4,
   "id": "0a132a4d",
   "metadata": {},
   "outputs": [],
   "source": [
    "model = ChatGoogleGenerativeAI(\n",
    "    model=\"gemini-1.5-flash\",\n",
    "    api_key=os.getenv(\"GOOGLE_API_KEY\")\n",
    ")\n"
   ]
  },
  {
   "cell_type": "code",
   "execution_count": 29,
   "id": "c5c214b2",
   "metadata": {},
   "outputs": [],
   "source": [
    "class Movie(TypedDict):\n",
    "    summary: Annotated[str, \"A summary of a movie script. Summary must be of 50 to 100 words.\"]\n",
    "    actors: Annotated[list[str], \"A list of actors name that played some role in a movie. Names should be an actor 'character' name with that whose played in that movie.\"]\n"
   ]
  },
  {
   "cell_type": "code",
   "execution_count": 11,
   "id": "23ecb31c",
   "metadata": {},
   "outputs": [],
   "source": [
    "class Movie(BaseModel):\n",
    "    summary: str = Field(description=\"A summary of a movie script. Summary must be of 50 to 100 words.\")\n",
    "    actors: list[str] = Field(description=\"A list of actors name that played some role in a movie. Names should be an actor 'character' name with that whose played in that movie.\")\n"
   ]
  },
  {
   "cell_type": "code",
   "execution_count": 12,
   "id": "cd3ead44",
   "metadata": {},
   "outputs": [],
   "source": [
    "structured_model = model.with_structured_output(Movie)\n"
   ]
  },
  {
   "cell_type": "code",
   "execution_count": 13,
   "id": "f28a77bd",
   "metadata": {},
   "outputs": [
    {
     "name": "stdout",
     "output_type": "stream",
     "text": [
      "summary='\"Chatur Ramalingam, a successful vice-president of a US-based company, reminds his old college rivals Farhan Qureshi and Raju Rastogi about a bet he made with their classmate and Chatur\\'s nemesis, Ranchhoddas \"Rancho\" Shamaldas Chanchad, ten years ago. Chatur has returned to India to conclude a business deal with Phunsukh Wangdu, a famous entrepreneur. The three go to Shimla to find Rancho, reminiscing about their time at the Imperial College of Engineering (ICE) in Delhi. Rancho was passionate about learning in college and often clashed with the strict college director, Dr. Viru Sahastrabuddhe (\"Virus\"). When a student named Joy Lobo is denied graduation by Virus for not submitting a project, Rancho tries to help finish his project for him, but finds out that Joy has committed suicide by hanging. Rancho confronts Virus about the intense pressure on students, but Virus dismisses him. Afterwards, Rancho meets Farhan and Raju\\'s families. Farhan\\'s father is very strict with his son\\'s education, pushing him to pursue engineering and brushing off his true passion for wildlife photography. Raju\\'s family is struggling through poverty, so he is studying to become an engineer. That night, Rancho, Farhan, and Raju crash a wedding party, not knowing it is for Virus\\'s daughter Mona. Mona\\'s younger sister, Pia, is initially upset with Rancho but starts liking him after he exposes her money-minded fiancé, Suhas. Pia ultimately breaks up with Suhas. Virus warns Farhan and Raju about associating with Rancho, forcing a concerned Raju to move in with Chatur, a competitive student who relies on rote learning, eats pills that cause noiseless flatulence and distributes porn magazines on the night before an exam. To convince Raju that Chatur is a bad influence, Rancho and Farhan prank the latter by altering his Hindi speech for a Teachers\\' Day events with vulgar modifications, which entertains the audience but leads to his humiliation at the hands of Virus. Furious with this, a drunk Chatur confronts and challenges Rancho to see who is more successful in ten years. Before their final exams, Pia confront\\'s Rancho about changing Chatur\\'s speech, and they both learn that Raju\\'s father has a heart attack. Rancho and Pia help save him by bringing him to the hospital. The trio give their exams, only to learn that Rancho has topped. During a class photo, Virus bets Rancho that neither Farhan nor Raju will get a job after graduation. Rancho tells his friends why they struggle: Farhan\\'s passion is photography, not engineering, and Raju fears his future. Farhan and Raju promise to confront their issues if Rancho confesses his feelings for Pia. They drunkenly break into Virus\\'s house, and Farhan and Raju urinate on his letterbox. Virus notices Raju at his doorstep and threatens to expel him unless he betrays Rancho. Not wanting to disappoint his family or to betray Rancho, Raju attempts suicide but survives and is paralyzed and near catatonic for months, leading Virus to revoke the expulsion. After Raju recovers, he succeeds in the interview and gets a job, and Farhan convinces his father to let him become a photographer, who finally gives his blessing to Farhan.\"' actors=['\"Chatur Ramalingam\"', '\"Farhan Qureshi\"', '\"Raju Rastogi\"', '\"Ranchoddas \"Rancho\" Shamaldas Chanchad\"', '\"Joy Lobo\"', '\"Viru Sahastrabuddhe\"', '\"Mona\"', '\"Pia\"', '\"Suhas\"', '\"Phunsukh Wangdu\"']\n"
     ]
    }
   ],
   "source": [
    "result = structured_model.invoke(input=\"\"\"Chatur Ramalingam, a successful vice-president of a US-based company, reminds his old college rivals Farhan Qureshi and Raju Rastogi about a bet he made with their classmate and Chatur's nemesis, Ranchhoddas \"Rancho\" Shamaldas Chanchad, ten years ago. Chatur has returned to India to conclude a business deal with Phunsukh Wangdu, a famous entrepreneur. The three go to Shimla to find Rancho, reminiscing about their time at the Imperial College of Engineering (ICE) in Delhi.\n",
    "\n",
    "Rancho was passionate about learning in college and often clashed with the strict college director, Dr. Viru Sahastrabuddhe (\"Virus\"). When a student named Joy Lobo is denied graduation by Virus for not submitting a project, Rancho tries to help finish his project for him, but finds out that Joy has committed suicide by hanging. Rancho confronts Virus about the intense pressure on students, but Virus dismisses him. Afterwards, Rancho meets Farhan and Raju's families. Farhan's father is very strict with his son's education, pushing him to pursue engineering and brushing off his true passion for wildlife photography. Raju's family is struggling through poverty, so he is studying to become an engineer.\n",
    "\n",
    "That night, Rancho, Farhan, and Raju crash a wedding party, not knowing it is for Virus's daughter Mona. Mona's younger sister, Pia, is initially upset with Rancho but starts liking him after he exposes her money-minded fiancé, Suhas. Pia ultimately breaks up with Suhas. Virus warns Farhan and Raju about associating with Rancho, forcing a concerned Raju to move in with Chatur, a competitive student who relies on rote learning, eats pills that cause noiseless flatulence and distributes porn magazines on the night before an exam. To convince Raju that Chatur is a bad influence, Rancho and Farhan prank the latter by altering his Hindi speech for a Teachers' Day events with vulgar modifications, which entertains the audience but leads to his humiliation at the hands of Virus. Furious with this, a drunk Chatur confronts and challenges Rancho to see who is more successful in ten years.\n",
    "\n",
    "Before their final exams, Pia confront's Rancho about changing Chatur's speech, and they both learn that Raju's father has a heart attack. Rancho and Pia help save him by bringing him to the hospital. The trio give their exams, only to learn that Rancho has topped. During a class photo, Virus bets Rancho that neither Farhan nor Raju will get a job after graduation. Rancho tells his friends why they struggle: Farhan's passion is photography, not engineering, and Raju fears his future. Farhan and Raju promise to confront their issues if Rancho confesses his feelings for Pia. They drunkenly break into Virus's house, and Farhan and Raju urinate on his letterbox. Virus notices Raju at his doorstep and threatens to expel him unless he betrays Rancho. Not wanting to disappoint his family or to betray Rancho, Raju attempts suicide but survives and is paralyzed and near catatonic for months, leading Virus to revoke the expulsion. After Raju recovers, he succeeds in the interview and gets a job, and Farhan convinces his father to let him become a photographer, who finally gives his blessing to Farhan.\"\"\")\n",
    "\n",
    "print(result)\n"
   ]
  },
  {
   "cell_type": "code",
   "execution_count": null,
   "id": "b6b414dd",
   "metadata": {},
   "outputs": [],
   "source": [
    "class Student(BaseModel):\n",
    "    name: str = 'Sourav'\n",
    "    age: Optional[int] = None\n",
    "    email: EmailStr\n",
    "    cgpa:float = Field(gt=0, lt=10, default=5.0, description=\"The decimal value representing the cgpa of a student.\")\n"
   ]
  },
  {
   "cell_type": "code",
   "execution_count": null,
   "id": "1c86b0ca",
   "metadata": {},
   "outputs": [],
   "source": [
    "new_student = {\n",
    "    'name': 'Goyal Sahab',\n",
    "    'email': 'goyalsourav935@gmail.com',\n",
    "    'cgpa': '8.1'\n",
    "}\n"
   ]
  },
  {
   "cell_type": "code",
   "execution_count": null,
   "id": "9d7547be",
   "metadata": {},
   "outputs": [],
   "source": [
    "student = Student(**new_student)\n"
   ]
  },
  {
   "cell_type": "code",
   "execution_count": null,
   "id": "bc5db3c3",
   "metadata": {},
   "outputs": [
    {
     "name": "stdout",
     "output_type": "stream",
     "text": [
      "name='Goyal Sahab' age=None email='goyalsourav935@gmail.com' cgpa=8.1\n"
     ]
    }
   ],
   "source": [
    "print(student)\n"
   ]
  },
  {
   "cell_type": "code",
   "execution_count": null,
   "id": "f21a7199",
   "metadata": {},
   "outputs": [],
   "source": []
  }
 ],
 "metadata": {
  "kernelspec": {
   "display_name": ".venv",
   "language": "python",
   "name": "python3"
  },
  "language_info": {
   "codemirror_mode": {
    "name": "ipython",
    "version": 3
   },
   "file_extension": ".py",
   "mimetype": "text/x-python",
   "name": "python",
   "nbconvert_exporter": "python",
   "pygments_lexer": "ipython3",
   "version": "3.12.5"
  }
 },
 "nbformat": 4,
 "nbformat_minor": 5
}
