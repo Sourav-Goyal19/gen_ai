{
 "cells": [
  {
   "cell_type": "code",
   "execution_count": 1,
   "id": "aa0292c0",
   "metadata": {},
   "outputs": [
    {
     "data": {
      "text/plain": [
       "True"
      ]
     },
     "execution_count": 1,
     "metadata": {},
     "output_type": "execute_result"
    }
   ],
   "source": [
    "import os\n",
    "from dotenv import load_dotenv\n",
    "from typing import TypedDict, Annotated, Optional\n",
    "from pydantic import BaseModel, EmailStr, Field\n",
    "\n",
    "load_dotenv()\n"
   ]
  },
  {
   "cell_type": "code",
   "execution_count": 2,
   "id": "8b404180",
   "metadata": {},
   "outputs": [],
   "source": [
    "from langchain_google_genai import ChatGoogleGenerativeAI\n",
    "from langchain_core.output_parsers import PydanticOutputParser\n",
    "from langchain_core.prompts import ChatPromptTemplate\n"
   ]
  },
  {
   "cell_type": "code",
   "execution_count": 3,
   "id": "f2b3dd45",
   "metadata": {},
   "outputs": [],
   "source": [
    "model = ChatGoogleGenerativeAI(\n",
    "    model=\"gemini-1.5-flash\",\n",
    "    api_key=os.getenv(\"GOOGLE_API_KEY\")\n",
    ")\n"
   ]
  },
  {
   "cell_type": "code",
   "execution_count": 4,
   "id": "8c0b4907",
   "metadata": {},
   "outputs": [],
   "source": [
    "class Movie(BaseModel):\n",
    "    summary: str = Field(description=\"A summary of a movie script. Summary must be of 50 to 100 words.\")\n",
    "    actors: list[str] = Field(description=\"A list of actors name that played some role in a movie. Names should be an actor 'character' name with that whose played in that movie.\")\n"
   ]
  },
  {
   "cell_type": "code",
   "execution_count": 5,
   "id": "07c24595",
   "metadata": {},
   "outputs": [],
   "source": [
    "parser = PydanticOutputParser(pydantic_object=Movie)\n"
   ]
  },
  {
   "cell_type": "code",
   "execution_count": 6,
   "id": "09c24614",
   "metadata": {},
   "outputs": [],
   "source": [
    "prompt = ChatPromptTemplate.from_messages([\n",
    "    (\"system\", \"You are a helpful movie assistant. Format instructions: {format_instructions}\"),\n",
    "    (\"human\", \"{query}\")\n",
    "])\n"
   ]
  },
  {
   "cell_type": "code",
   "execution_count": 7,
   "id": "d9981f11",
   "metadata": {},
   "outputs": [],
   "source": [
    "chain = prompt | model | parser\n"
   ]
  },
  {
   "cell_type": "code",
   "execution_count": 9,
   "id": "7dc523f7",
   "metadata": {},
   "outputs": [
    {
     "name": "stdout",
     "output_type": "stream",
     "text": [
      "summary=\"Five-year-old Krishna Mehra, orphaned son of scientists Dr. Rohit Mehra and Nisha Mehra, possesses inherited superhuman abilities. His grandmother, Sonia, hides him in a remote village to protect him.  As Krishna grows, his powers manifest, causing isolation.  Two decades later, he meets Priya and Honey, who witness his abilities.  They invite him to Singapore to create a TV program, but Sonia reveals Rohit's story: he had superpowers, was working on a future-seeing computer, and died mysteriously.  Krishna, understanding Sonia's fears, promises to conceal his powers and goes to Singapore.\" actors=['Krishna Mehra', 'Priya', 'Honey', 'Sonia Mehra', 'Bahadur', 'Father Robericks', 'Dr. Rohit Mehra', 'Nisha Mehra', 'Dr. Siddhant Arya']\n"
     ]
    }
   ],
   "source": [
    "result = chain.invoke(input={\n",
    "    \"query\": \"\"\"    \n",
    "    Krishna Mehra, a five-year-old orphaned son of the deceased couple scientist Dr. Rohit Mehra and Nisha Mehra, lives in the small town of Kasauli with his grandmother Sonia. Krishna undergoes an intelligence quotient test by his school principal Father Robericks, who suspects that Krishna has biologically inherited Rohit's superhuman abilities gifted to him by Jadoo due to Krishna answering all the questions flawlessly. Shocked at learning this, Sonia takes the young Krishna to a remote mountain village in North India to conceal his unique abilities, not wanting to lose Krishna the same way she lost Rohit and Nisha. There she takes charge of his basic education by herself. As he grows up, his unique abilities starts developing more, leading Krishna to be isolated by his peers and him feeling suffocated by the isolatio; he copes with it by befriending animals and performing superhuman acts in the village which often leads to messy situations and reprimands by Sonia.\n",
    "\n",
    "    Two decades later, Krishna, now a village youngster, meets vacationing girls Priya and Honey, who are camping with their group near his home via Krishna's tourist guide friend Bahadur. After Krishna saves Priya from a hang glider accident, initially he and Bahadur play a prank with her group about him being a ghost, Kalicharan, but end it when the group plan to return early, having falling to the prank. Eventually Krishna and Priya become friends and grow close just before Priya and Honey depart for their home in Singapore. Before leaving, Priya and Honey had first-hand experience of some of the special abilities that he exhibits, like talking to animals and superhuman strength. After returning to Singapore, Priya and Honey are fired by their boss for taking a non-permitted 5-day extension of vacation.\n",
    "\n",
    "    In an attempt to keep their jobs, Honey suggests inviting Krishna to Singapore and making a television program about him. Priya, aware of Krishna's love for her, initially gets reluctant to play with his feelings and use his naiveness, but eventually invites him to join her in Singapore. However, Sonia protests this leading Krishna who is unaware of Rohit's story to question her possessiveness towards him and the reason behind her isolating him from the world. Thus Sonia states that the people there will only wish to exploit his abilities and misuse his innocence and finally reveals Krishna about the story of his father Rohit and his adventures with Jadoo and how Rohit became a renowned scientist, married Nisha and was invited to Singapore and hired by a scientist Dr. Siddhant Arya to help create a computer to see the future in order to prevent wars and help prepare against natural disasters. On the night of Krishna's birth, Rohit contacted his mother to inform her that his superpowers were being misused and that he is returning back as soon as possible but failed and reportedly died in a laboratory accident that night, but his corpse was never recovered. Nisha dies shortly after as she was unable to bear the shock of Rohit's death. After learning this, Krishna feels guilty for never understanding Sonia's fears and why she isolated him from the world and promises her that he will never reveal his powers and she permits him to go to Singapore, aware of his feelings towards Priya.\n",
    "    \"\"\",\n",
    "    \"format_instructions\": parser.get_format_instructions()\n",
    "})\n",
    "\n",
    "print(result)\n"
   ]
  },
  {
   "cell_type": "code",
   "execution_count": null,
   "id": "dfb51a19",
   "metadata": {},
   "outputs": [],
   "source": []
  }
 ],
 "metadata": {
  "kernelspec": {
   "display_name": ".venv",
   "language": "python",
   "name": "python3"
  },
  "language_info": {
   "codemirror_mode": {
    "name": "ipython",
    "version": 3
   },
   "file_extension": ".py",
   "mimetype": "text/x-python",
   "name": "python",
   "nbconvert_exporter": "python",
   "pygments_lexer": "ipython3",
   "version": "3.12.5"
  }
 },
 "nbformat": 4,
 "nbformat_minor": 5
}
