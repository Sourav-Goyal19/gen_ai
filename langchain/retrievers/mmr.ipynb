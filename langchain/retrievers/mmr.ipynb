{
 "cells": [
  {
   "cell_type": "code",
   "execution_count": null,
   "id": "cb1d8695",
   "metadata": {},
   "outputs": [
    {
     "data": {
      "text/plain": [
       "True"
      ]
     },
     "execution_count": 13,
     "metadata": {},
     "output_type": "execute_result"
    }
   ],
   "source": [
    "# mmr = Maximal Marginal Relevance\n",
    "# it is used to get the diverse but relevant information from the vector db\n",
    "import os\n",
    "from dotenv import load_dotenv\n",
    "\n",
    "load_dotenv()\n"
   ]
  },
  {
   "cell_type": "code",
   "execution_count": null,
   "id": "a2b557a0",
   "metadata": {},
   "outputs": [],
   "source": [
    "from langchain_google_genai import ChatGoogleGenerativeAI\n",
    "from langchain_core.prompts import ChatPromptTemplate\n",
    "from langchain_core.output_parsers import StrOutputParser\n",
    "from langchain_qdrant import QdrantVectorStore\n",
    "from langchain_cohere import CohereEmbeddings\n"
   ]
  },
  {
   "cell_type": "code",
   "execution_count": null,
   "id": "b0261e91",
   "metadata": {},
   "outputs": [],
   "source": [
    "llm = ChatGoogleGenerativeAI(\n",
    "    api_key=os.getenv(\"GOOGLE_API_KEY\"),\n",
    "    model=\"gemini-2.0-flash\"\n",
    ")\n"
   ]
  },
  {
   "cell_type": "code",
   "execution_count": null,
   "id": "150b103a",
   "metadata": {},
   "outputs": [],
   "source": [
    "parser = StrOutputParser()\n"
   ]
  },
  {
   "cell_type": "code",
   "execution_count": null,
   "id": "7b1a6728",
   "metadata": {},
   "outputs": [],
   "source": [
    "prompt = ChatPromptTemplate.from_messages([\n",
    "    (\"system\", \"You are a helpful assistant that helps users to solve their queries.\"),\n",
    "    (\"human\", \"{query}\")\n",
    "])\n"
   ]
  },
  {
   "cell_type": "code",
   "execution_count": null,
   "id": "47a21abe",
   "metadata": {},
   "outputs": [],
   "source": [
    "embedder = CohereEmbeddings(\n",
    "    cohere_api_key=os.getenv(\"COHERE_API_KEY\"),\n",
    "    model=\"embed-english-v3.0\"\n",
    ")\n"
   ]
  },
  {
   "cell_type": "code",
   "execution_count": null,
   "id": "ce2c5bd1",
   "metadata": {},
   "outputs": [],
   "source": [
    "vs = QdrantVectorStore.from_existing_collection(\n",
    "    collection_name=\"qdrant_basic_rag\",\n",
    "    url=\"http://localhost:6333\",\n",
    "    embedding=embedder\n",
    ")\n"
   ]
  },
  {
   "cell_type": "code",
   "execution_count": 28,
   "id": "8da4791e",
   "metadata": {},
   "outputs": [],
   "source": [
    "retriever = vs.as_retriever(\n",
    "    search_type=\"mmr\",\n",
    "    search_kwargs={\n",
    "        \"k\": 2,\n",
    "        \"lambda_mult\": 0.9\n",
    "    }\n",
    ")\n"
   ]
  },
  {
   "cell_type": "code",
   "execution_count": null,
   "id": "717d899b",
   "metadata": {},
   "outputs": [
    {
     "name": "stdout",
     "output_type": "stream",
     "text": [
      "const fs = require('fs') \n",
      "  \n",
      "fs.writeFileSync('notes.txt', 'I live in Philadelphia') \n",
      "The script above uses require to load in the fs module. This is a built-in Node.js module \n",
      "that provides functions you can use to manipulate the file system. The script uses \n",
      "writeFileSync to write a message to notes.txt. \n",
      "After you run the script, you’ll notice a new notes.txt file in your directory. Open it up and \n",
      "you’ll see, “I live in Philadelphia!”. \n",
      "Links \n",
      "• Node.js documentation\n",
      "------------------------------------------------------------------------------------------------------------------------------------------------------\n",
      "making http requests, creating web servers, and more! In this lesson, you’ll learn how to \n",
      "load in those core modules and use them in your code. \n",
      "Importing Node.js Core Modules \n",
      "To get started, let’s work with some built-in Node.js modules. These are modules that \n",
      "come with Node, so there’s no need to install them. \n",
      "The module system is built around the require function. This function is used to load in a \n",
      "module and get access to its contents. require is a global variable provided to all your \n",
      "Node.js scripts, so you can use it anywhere you like! \n",
      "Let’s look at an example. \n",
      "const fs = require('fs') \n",
      "  \n",
      "fs.writeFileSync('notes.txt', 'I live in Philadelphia') \n",
      "The script above uses require to load in the fs module. This is a built-in Node.js module\n",
      "------------------------------------------------------------------------------------------------------------------------------------------------------\n"
     ]
    }
   ],
   "source": [
    "result = retriever.invoke(\"fs module\")\n",
    "for doc in result:\n",
    "    print(doc.page_content)\n",
    "    print(\"-\"*150)\n"
   ]
  },
  {
   "cell_type": "code",
   "execution_count": null,
   "id": "736be006",
   "metadata": {},
   "outputs": [],
   "source": []
  }
 ],
 "metadata": {
  "kernelspec": {
   "display_name": ".venv",
   "language": "python",
   "name": "python3"
  },
  "language_info": {
   "codemirror_mode": {
    "name": "ipython",
    "version": 3
   },
   "file_extension": ".py",
   "mimetype": "text/x-python",
   "name": "python",
   "nbconvert_exporter": "python",
   "pygments_lexer": "ipython3",
   "version": "3.12.5"
  }
 },
 "nbformat": 4,
 "nbformat_minor": 5
}
