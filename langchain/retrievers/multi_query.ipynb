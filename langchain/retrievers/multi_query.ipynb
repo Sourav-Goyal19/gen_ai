{
 "cells": [
  {
   "cell_type": "code",
   "execution_count": null,
   "id": "ca8d3dd7",
   "metadata": {},
   "outputs": [
    {
     "data": {
      "text/plain": [
       "True"
      ]
     },
     "execution_count": 1,
     "metadata": {},
     "output_type": "execute_result"
    }
   ],
   "source": [
    "import os\n",
    "from dotenv import load_dotenv\n",
    "\n",
    "load_dotenv()\n"
   ]
  },
  {
   "cell_type": "code",
   "execution_count": null,
   "id": "bb9a4e05",
   "metadata": {},
   "outputs": [],
   "source": [
    "from langchain_google_genai import ChatGoogleGenerativeAI\n",
    "from langchain_core.prompts import ChatPromptTemplate\n",
    "from langchain_core.output_parsers import StrOutputParser\n",
    "from langchain.retrievers import MultiQueryRetriever\n",
    "from langchain_qdrant import QdrantVectorStore\n",
    "from langchain_cohere import CohereEmbeddings\n"
   ]
  },
  {
   "cell_type": "code",
   "execution_count": null,
   "id": "4b5bdf1d",
   "metadata": {},
   "outputs": [],
   "source": [
    "llm = ChatGoogleGenerativeAI(\n",
    "    api_key=os.getenv(\"GOOGLE_API_KEY\"),\n",
    "    model= \"gemini-1.5-flash\"\n",
    ")\n"
   ]
  },
  {
   "cell_type": "code",
   "execution_count": null,
   "id": "019a8887",
   "metadata": {},
   "outputs": [],
   "source": [
    "parser = StrOutputParser()\n"
   ]
  },
  {
   "cell_type": "code",
   "execution_count": 7,
   "id": "572a0a21",
   "metadata": {},
   "outputs": [],
   "source": [
    "prompt = ChatPromptTemplate.from_messages([\n",
    "    (\"system\", \"You are a helpful assistant that helps users to solve their queries.\"),\n",
    "    (\"human\", \"{query}\")\n",
    "])\n"
   ]
  },
  {
   "cell_type": "code",
   "execution_count": null,
   "id": "c5f31de4",
   "metadata": {},
   "outputs": [],
   "source": [
    "embedder = CohereEmbeddings(\n",
    "    cohere_api_key= os.getenv(\"COHERE_API_KEY\"),\n",
    "    model=\"embed-english-v3.0\"\n",
    ")\n"
   ]
  },
  {
   "cell_type": "code",
   "execution_count": null,
   "id": "30caa362",
   "metadata": {},
   "outputs": [],
   "source": [
    "vs = QdrantVectorStore.from_existing_collection(\n",
    "    collection_name=\"qdrant_basic_rag\",\n",
    "    url=\"http://localhost:6333\",\n",
    "    embedding=embedder\n",
    ")\n"
   ]
  },
  {
   "cell_type": "code",
   "execution_count": null,
   "id": "1d80ffb7",
   "metadata": {},
   "outputs": [],
   "source": [
    "similarity_retriever = vs.as_retriever(\n",
    "    search_type=\"similarity\",\n",
    "    search_kwargs={\n",
    "        \"k\": 3\n",
    "    })\n"
   ]
  },
  {
   "cell_type": "code",
   "execution_count": null,
   "id": "583ccedc",
   "metadata": {},
   "outputs": [],
   "source": [
    "multi_query_retriever = MultiQueryRetriever.from_llm(\n",
    "    retriever=vs.as_retriever(search_kwargs={\n",
    "        \"k\": 3\n",
    "    }),\n",
    "    llm=llm\n",
    ")\n"
   ]
  },
  {
   "cell_type": "code",
   "execution_count": null,
   "id": "476be639",
   "metadata": {},
   "outputs": [
    {
     "name": "stdout",
     "output_type": "stream",
     "text": [
      "Version 1.0 79 \n",
      "npm i bcryptjs@2.4.3 \n",
      "The hash method can be used to hash the plain text password. The example below \n",
      "hashes the password “Red12345!”. \n",
      "const password = 'Red12345!' \n",
      "const hashedPassword = await bcrypt.hash(password, 8) \n",
      "// The hashed password is what would be stored in the database \n",
      "The compare method is used to compare a plain text password against a previously \n",
      "hashed password. This would be useful when logging in. The user logging in provides the \n",
      "plain text password for their account. The application fetches the hashed password from \n",
      "the database for that user. compare is then called to confirm it’s a match. \n",
      "const isMatch = await bcrypt.compare('red12345!', hashedPassword) \n",
      "console.log(isMatch) \n",
      "Documentation Links \n",
      "• npm: bcryptjs\n",
      "----------------------------------------------------------------------------------------------------\n",
      "const isMatch = await bcrypt.compare('red12345!', hashedPassword) \n",
      "console.log(isMatch) \n",
      "Documentation Links \n",
      "• npm: bcryptjs \n",
      "Lesson 3: Securely Storing Passwords: Part II \n",
      "In this lesson, you’ll learn how to use Mongoose middleware. Middleware will allow you to \n",
      "automatically hash a user’s password before the user is saved to the database. \n",
      "Mongoose Middleware \n",
      "Middleware allows you to register some code to run before or after a lifecycle event for \n",
      "your model. As an example, you could use middleware to register some code to run just \n",
      "after a user is deleted. You could also use middleware to register some code to run just \n",
      "before the user is saved. This can be used to hash passwords just before saving users to \n",
      "the database.\n",
      "----------------------------------------------------------------------------------------------------\n",
      "Version 1.0 80 \n",
      "userSchema.pre('save', async function (next) { \n",
      "    const user = this \n",
      " \n",
      "    if (user.isModified('password')) { \n",
      "        user.password = await bcrypt.hash(user.password, 8) \n",
      "    } \n",
      " \n",
      "    next() \n",
      "}) \n",
      "Documentation Links \n",
      "• Mongoose middleware \n",
      "Lesson 4: Logging in Users \n",
      "In this lesson, you’ll set up the ability for users to log into their existing accounts. \n",
      "Logging in Users \n",
      "Logging in a user is a two-step process. The user provides their email and password, and \n",
      "the first thing to do is fetch the user by their email. From there, bcrypt is used to verify the \n",
      "password provided matches the hashed password stored in the database. If either step \n",
      "fails, the users won’t be able to log in. If both steps succeed, then you know the user is \n",
      "who they say they are.\n",
      "----------------------------------------------------------------------------------------------------\n",
      "****************************************************************************************************\n",
      "Version 1.0 79 \n",
      "npm i bcryptjs@2.4.3 \n",
      "The hash method can be used to hash the plain text password. The example below \n",
      "hashes the password “Red12345!”. \n",
      "const password = 'Red12345!' \n",
      "const hashedPassword = await bcrypt.hash(password, 8) \n",
      "// The hashed password is what would be stored in the database \n",
      "The compare method is used to compare a plain text password against a previously \n",
      "hashed password. This would be useful when logging in. The user logging in provides the \n",
      "plain text password for their account. The application fetches the hashed password from \n",
      "the database for that user. compare is then called to confirm it’s a match. \n",
      "const isMatch = await bcrypt.compare('red12345!', hashedPassword) \n",
      "console.log(isMatch) \n",
      "Documentation Links \n",
      "• npm: bcryptjs\n",
      "----------------------------------------------------------------------------------------------------\n",
      "const isMatch = await bcrypt.compare('red12345!', hashedPassword) \n",
      "console.log(isMatch) \n",
      "Documentation Links \n",
      "• npm: bcryptjs \n",
      "Lesson 3: Securely Storing Passwords: Part II \n",
      "In this lesson, you’ll learn how to use Mongoose middleware. Middleware will allow you to \n",
      "automatically hash a user’s password before the user is saved to the database. \n",
      "Mongoose Middleware \n",
      "Middleware allows you to register some code to run before or after a lifecycle event for \n",
      "your model. As an example, you could use middleware to register some code to run just \n",
      "after a user is deleted. You could also use middleware to register some code to run just \n",
      "before the user is saved. This can be used to hash passwords just before saving users to \n",
      "the database.\n",
      "----------------------------------------------------------------------------------------------------\n",
      "Version 1.0 80 \n",
      "userSchema.pre('save', async function (next) { \n",
      "    const user = this \n",
      " \n",
      "    if (user.isModified('password')) { \n",
      "        user.password = await bcrypt.hash(user.password, 8) \n",
      "    } \n",
      " \n",
      "    next() \n",
      "}) \n",
      "Documentation Links \n",
      "• Mongoose middleware \n",
      "Lesson 4: Logging in Users \n",
      "In this lesson, you’ll set up the ability for users to log into their existing accounts. \n",
      "Logging in Users \n",
      "Logging in a user is a two-step process. The user provides their email and password, and \n",
      "the first thing to do is fetch the user by their email. From there, bcrypt is used to verify the \n",
      "password provided matches the hashed password stored in the database. If either step \n",
      "fails, the users won’t be able to log in. If both steps succeed, then you know the user is \n",
      "who they say they are.\n",
      "----------------------------------------------------------------------------------------------------\n",
      "In this lesson, you’ll learn how to securely store user passwords by hashing and salting the \n",
      "password before storing it in the database. \n",
      "Hashing Passwords \n",
      "Storing plain text passwords is a bad idea. Most folks reuse password for multiple \n",
      "accounts online. That means if your database gets compromised, the hacker can reuse \n",
      "those credentials on other sites such as credit cards or bank accounts. We don’t want to \n",
      "leave our users open to further attacks. \n",
      "The solution is to hash passwords using a secure one-way hashing algorithm. Users \n",
      "passwords will stay hidden and secure, even if the database is compromised. \n",
      "Hashing Passwords with Bcrypt \n",
      "First up, install the library.\n",
      "----------------------------------------------------------------------------------------------------\n"
     ]
    }
   ],
   "source": [
    "results = similarity_retriever.invoke(\"bcryptjs\")\n",
    "for doc in results:\n",
    "    print(doc.page_content)\n",
    "    print(\"-\"*100)\n",
    "print(\"*\"*100);\n",
    "results = multi_query_retriever.invoke(\"bcryptjs\")\n",
    "for doc in results:\n",
    "    print(doc.page_content)\n",
    "    print(\"-\"*100)\n"
   ]
  },
  {
   "cell_type": "code",
   "execution_count": null,
   "id": "27b61204",
   "metadata": {},
   "outputs": [],
   "source": []
  }
 ],
 "metadata": {
  "kernelspec": {
   "display_name": ".venv",
   "language": "python",
   "name": "python3"
  },
  "language_info": {
   "codemirror_mode": {
    "name": "ipython",
    "version": 3
   },
   "file_extension": ".py",
   "mimetype": "text/x-python",
   "name": "python",
   "nbconvert_exporter": "python",
   "pygments_lexer": "ipython3",
   "version": "3.12.5"
  }
 },
 "nbformat": 4,
 "nbformat_minor": 5
}
