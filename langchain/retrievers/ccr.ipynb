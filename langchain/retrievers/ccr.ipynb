{
 "cells": [
  {
   "cell_type": "code",
   "execution_count": 1,
   "id": "ca8d3dd7",
   "metadata": {},
   "outputs": [
    {
     "data": {
      "text/plain": [
       "True"
      ]
     },
     "execution_count": 1,
     "metadata": {},
     "output_type": "execute_result"
    }
   ],
   "source": [
    "#ccr = Contextual Compression Retriever\n",
    "#it is a retriever the improves retrieval quality by compressing documents after retrieval - keeping only the relevant content based on the user's query\n",
    "\n",
    "import os\n",
    "from dotenv import load_dotenv\n",
    "\n",
    "load_dotenv()\n"
   ]
  },
  {
   "cell_type": "code",
   "execution_count": 9,
   "id": "bb9a4e05",
   "metadata": {},
   "outputs": [],
   "source": [
    "from langchain_qdrant import QdrantVectorStore\n",
    "from langchain_cohere import CohereEmbeddings\n",
    "from langchain_core.prompts import ChatPromptTemplate\n",
    "from langchain_core.output_parsers import StrOutputParser\n",
    "from langchain_google_genai import ChatGoogleGenerativeAI\n",
    "from langchain.retrievers import ContextualCompressionRetriever\n",
    "from langchain.retrievers.document_compressors import LLMChainExtractor\n"
   ]
  },
  {
   "cell_type": "code",
   "execution_count": 3,
   "id": "4b5bdf1d",
   "metadata": {},
   "outputs": [],
   "source": [
    "llm = ChatGoogleGenerativeAI(\n",
    "    api_key=os.getenv(\"GOOGLE_API_KEY\"),\n",
    "    model= \"gemini-1.5-flash\"\n",
    ")\n"
   ]
  },
  {
   "cell_type": "code",
   "execution_count": 4,
   "id": "019a8887",
   "metadata": {},
   "outputs": [],
   "source": [
    "parser = StrOutputParser()\n"
   ]
  },
  {
   "cell_type": "code",
   "execution_count": 5,
   "id": "572a0a21",
   "metadata": {},
   "outputs": [],
   "source": [
    "prompt = ChatPromptTemplate.from_messages([\n",
    "    (\"system\", \"You are a helpful assistant that helps users to solve their queries.\"),\n",
    "    (\"human\", \"{query}\")\n",
    "])\n"
   ]
  },
  {
   "cell_type": "code",
   "execution_count": 6,
   "id": "c5f31de4",
   "metadata": {},
   "outputs": [],
   "source": [
    "embedder = CohereEmbeddings(\n",
    "    cohere_api_key= os.getenv(\"COHERE_API_KEY\"),\n",
    "    model=\"embed-english-v3.0\"\n",
    ")\n"
   ]
  },
  {
   "cell_type": "code",
   "execution_count": 7,
   "id": "30caa362",
   "metadata": {},
   "outputs": [],
   "source": [
    "vs = QdrantVectorStore.from_existing_collection(\n",
    "    collection_name=\"qdrant_basic_rag\",\n",
    "    url=\"http://localhost:6333\",\n",
    "    embedding=embedder\n",
    ")\n"
   ]
  },
  {
   "cell_type": "code",
   "execution_count": 14,
   "id": "1d80ffb7",
   "metadata": {},
   "outputs": [],
   "source": [
    "similarity_retriever = vs.as_retriever()\n"
   ]
  },
  {
   "cell_type": "code",
   "execution_count": null,
   "id": "5fe502b8",
   "metadata": {},
   "outputs": [],
   "source": [
    "compressor = LLMChainExtractor.from_llm(llm=llm)\n"
   ]
  },
  {
   "cell_type": "code",
   "execution_count": null,
   "id": "583ccedc",
   "metadata": {},
   "outputs": [],
   "source": [
    "contextual_compression_retriever = ContextualCompressionRetriever(\n",
    "    base_retriever=similarity_retriever,\n",
    "    base_compressor=compressor\n",
    ")\n"
   ]
  },
  {
   "cell_type": "code",
   "execution_count": 17,
   "id": "476be639",
   "metadata": {},
   "outputs": [
    {
     "name": "stdout",
     "output_type": "stream",
     "text": [
      "Version 1.0 79 \n",
      "npm i bcryptjs@2.4.3 \n",
      "The hash method can be used to hash the plain text password. The example below \n",
      "hashes the password “Red12345!”. \n",
      "const password = 'Red12345!' \n",
      "const hashedPassword = await bcrypt.hash(password, 8) \n",
      "// The hashed password is what would be stored in the database \n",
      "The compare method is used to compare a plain text password against a previously \n",
      "hashed password. This would be useful when logging in. The user logging in provides the \n",
      "plain text password for their account. The application fetches the hashed password from \n",
      "the database for that user. compare is then called to confirm it’s a match. \n",
      "const isMatch = await bcrypt.compare('red12345!', hashedPassword) \n",
      "console.log(isMatch) \n",
      "Documentation Links \n",
      "• npm: bcryptjs\n",
      "----------------------------------------------------------------------------------------------------\n",
      "Section 12: API Authentication and Security ...................................................................... 78 \n",
      "Lesson 1: Section Intro ..................................................................................................................... 78 \n",
      "Lesson 2: Securely Storing Passwords: Part I ........................................................................... 78 \n",
      "Hashing Passwords with Bcrypt ................................................................................................... 78 \n",
      "Lesson 3: Securely Storing Passwords: Part II .......................................................................... 79 \n",
      "Lesson 4: Logging in Users ............................................................................................................ 80\n",
      "----------------------------------------------------------------------------------------------------\n",
      "const isMatch = await bcrypt.compare('red12345!', hashedPassword) \n",
      "console.log(isMatch) \n",
      "Documentation Links \n",
      "• npm: bcryptjs \n",
      "Lesson 3: Securely Storing Passwords: Part II \n",
      "In this lesson, you’ll learn how to use Mongoose middleware. Middleware will allow you to \n",
      "automatically hash a user’s password before the user is saved to the database. \n",
      "Mongoose Middleware \n",
      "Middleware allows you to register some code to run before or after a lifecycle event for \n",
      "your model. As an example, you could use middleware to register some code to run just \n",
      "after a user is deleted. You could also use middleware to register some code to run just \n",
      "before the user is saved. This can be used to hash passwords just before saving users to \n",
      "the database.\n",
      "----------------------------------------------------------------------------------------------------\n",
      "Seeding Database \n",
      "Jest provides lifecycle functions that you can use to configure your test suite. There are \n",
      "four: \n",
      "1. beforeEach - Run some code before each test case \n",
      "2. afterEach - Run some code after each test case \n",
      "3. before - Run some code once before the tests run \n",
      "4. after - Run some code once after the tests run \n",
      "beforeEach works great for adding test data to the database. The beforeEach call below \n",
      "removes all users and then adds a single test user into the database. By having this run \n",
      "before each test case, it ensures that the tests run in a consistent environment each time \n",
      "they execute.\n",
      "----------------------------------------------------------------------------------------------------\n",
      "****************************************************************************************************\n",
      "The hash method can be used to hash the plain text password. The compare method is used to compare a plain text password against a previously hashed password. This would be useful when logging in.\n",
      "----------------------------------------------------------------------------------------------------\n",
      "Hashing Passwords with Bcrypt\n",
      "----------------------------------------------------------------------------------------------------\n"
     ]
    }
   ],
   "source": [
    "query = \"what is the use of bcyrpt\"\n",
    "results = similarity_retriever.invoke(query)\n",
    "for doc in results:\n",
    "    print(doc.page_content)\n",
    "    print(\"-\"*100)\n",
    "print(\"*\"*100);\n",
    "results = contextual_compression_retriever.invoke(query)\n",
    "for doc in results:\n",
    "    print(doc.page_content)\n",
    "    print(\"-\"*100)\n"
   ]
  },
  {
   "cell_type": "code",
   "execution_count": null,
   "id": "27b61204",
   "metadata": {},
   "outputs": [],
   "source": []
  }
 ],
 "metadata": {
  "kernelspec": {
   "display_name": ".venv",
   "language": "python",
   "name": "python3"
  },
  "language_info": {
   "codemirror_mode": {
    "name": "ipython",
    "version": 3
   },
   "file_extension": ".py",
   "mimetype": "text/x-python",
   "name": "python",
   "nbconvert_exporter": "python",
   "pygments_lexer": "ipython3",
   "version": "3.12.5"
  }
 },
 "nbformat": 4,
 "nbformat_minor": 5
}
