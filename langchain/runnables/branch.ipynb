{
 "cells": [
  {
   "cell_type": "code",
   "execution_count": 1,
   "id": "0c01a368",
   "metadata": {},
   "outputs": [
    {
     "data": {
      "text/plain": [
       "True"
      ]
     },
     "execution_count": 1,
     "metadata": {},
     "output_type": "execute_result"
    }
   ],
   "source": [
    "import os\n",
    "from dotenv import load_dotenv\n",
    "from typing import List\n",
    "from pydantic import BaseModel, EmailStr, Field\n",
    "\n",
    "load_dotenv()\n"
   ]
  },
  {
   "cell_type": "code",
   "execution_count": 8,
   "id": "ab324cdc",
   "metadata": {},
   "outputs": [],
   "source": [
    "from langchain_google_genai import ChatGoogleGenerativeAI\n",
    "from langchain_core.output_parsers import PydanticOutputParser, StrOutputParser\n",
    "from langchain_core.prompts import ChatPromptTemplate\n",
    "from langchain_core.runnables import RunnableSequence, RunnableParallel, RunnablePassthrough, RunnableBranch\n"
   ]
  },
  {
   "cell_type": "code",
   "execution_count": 3,
   "id": "019776ad",
   "metadata": {},
   "outputs": [],
   "source": [
    "llm = ChatGoogleGenerativeAI(\n",
    "    model=\"gemini-1.5-flash\",\n",
    "    api_key=os.getenv(\"GOOGLE_API_KEY\")\n",
    ")\n"
   ]
  },
  {
   "cell_type": "code",
   "execution_count": 4,
   "id": "ff0c2073",
   "metadata": {},
   "outputs": [],
   "source": [
    "prompt1 = ChatPromptTemplate.from_messages([\n",
    "    (\"system\", \"You are a helpful assistant that helps users to solve their queries. \"),\n",
    "    (\"human\", \"{query1}\")\n",
    "])\n"
   ]
  },
  {
   "cell_type": "code",
   "execution_count": 5,
   "id": "4d035fc0",
   "metadata": {},
   "outputs": [],
   "source": [
    "prompt2 = ChatPromptTemplate.from_messages([\n",
    "    (\"system\", \"You are a helpful assistant that helps users to solve their queries. \"),\n",
    "    (\"human\", \"{query2}\")\n",
    "])\n"
   ]
  },
  {
   "cell_type": "code",
   "execution_count": 6,
   "id": "bcf66c50",
   "metadata": {},
   "outputs": [],
   "source": [
    "parser = StrOutputParser()\n"
   ]
  },
  {
   "cell_type": "code",
   "execution_count": 7,
   "id": "b3e0a00c",
   "metadata": {},
   "outputs": [],
   "source": [
    "report_gen_chain = RunnableSequence(prompt1 | llm | parser)\n"
   ]
  },
  {
   "cell_type": "code",
   "execution_count": null,
   "id": "18582f15",
   "metadata": {},
   "outputs": [],
   "source": [
    "branch_chain = RunnableBranch(\n",
    "    (lambda x: len(x.split()) > 100, RunnableSequence(prompt2 | llm | parser)),\n",
    "    RunnablePassthrough()\n",
    ")\n"
   ]
  },
  {
   "cell_type": "code",
   "execution_count": null,
   "id": "c807798c",
   "metadata": {},
   "outputs": [],
   "source": [
    "final_chain = RunnableSequence(report_gen_chain | branch_chain)\n"
   ]
  },
  {
   "cell_type": "code",
   "execution_count": 15,
   "id": "39a527ac",
   "metadata": {},
   "outputs": [
    {
     "name": "stdout",
     "output_type": "stream",
     "text": [
      "This is a good, comprehensive overview of the movie industry. Here are some suggestions to make it even better:\n",
      "\n",
      "**Enhancements and Additions:**\n",
      "\n",
      "* **I. Historical Overview:**  Consider adding specific examples within each era. For instance, under \"The Rise of Hollywood,\" mention specific studios (e.g., Paramount, Warner Bros.), key figures (e.g., D.W. Griffith), and influential films (e.g., *Birth of a Nation*, *Citizen Kane*).  Similarly, provide specific examples of auteur films from the New Hollywood era.  For the Blockbuster era, mention specific franchises that defined it (e.g., *Star Wars*, *Indiana Jones*).  Finally, in the Streaming Revolution, mention specific examples of how streaming changed the industry (e.g., Netflix's original programming, bypassing theatrical releases).\n",
      "\n",
      "* **II. The Movie Production Process:** This section could benefit from a more detailed breakdown of each stage. For example:\n",
      "    * **Development:**  Elaborate on script development (e.g., writers' rooms, rewrites), securing financing (e.g., studio funding, independent financing, crowdfunding), and the role of producers.\n",
      "    * **Pre-production:**  Expand on casting (e.g., auditions, casting directors), location scouting (e.g., permits, logistics), set design (e.g., art department, construction), and storyboarding (e.g., its purpose in visualizing the film).\n",
      "    * **Production:**  Discuss different shooting styles (e.g., location shooting, studio shooting), the roles of various crew members (e.g., cinematographer, gaffer, sound recordist), and the challenges of filmmaking.\n",
      "    * **Post-production:**  Detail the various aspects of editing (e.g., assembly, rough cut, final cut), sound design (e.g., Foley artists, ADR), visual effects (e.g., CGI, practical effects), and the role of a composer.\n",
      "    * **Distribution and Marketing:**  Explain different distribution channels (e.g., theatrical release, VOD, DVD, Blu-ray), marketing strategies (e.g., trailers, posters, social media campaigns), and the role of film festivals.\n",
      "\n",
      "* **III. Economic Impact:**  Quantify the economic impact with statistics whenever possible.  For example, cite the annual revenue generated by the industry globally, the number of jobs created, and the economic contribution of film tourism.  Mention the impact on related industries like merchandise sales and tourism.\n",
      "\n",
      "* **IV. The Evolving Landscape:**  Expand on the challenges and opportunities. For example:\n",
      "    * **Streaming Services:** Discuss the impact on theatrical releases, the rise of original streaming content, and the resulting competition between streaming platforms.\n",
      "    * **Globalization:**  Explain how international co-productions work, the challenges of translating and dubbing films, and the importance of understanding diverse cultural contexts.\n",
      "    * **Technological Advancements:**  Provide concrete examples of how VR and AI are being used in filmmaking (e.g., virtual production, AI-powered editing tools).\n",
      "    * **Content Diversity and Representation:** Discuss the ongoing efforts to improve representation of diverse groups both in front of and behind the camera.  Mention specific examples of films that have pushed for better representation.\n",
      "    * **Theatrical vs. Streaming Debate:** Analyze the arguments for and against theatrical releases, considering factors like the cinematic experience, revenue models, and audience reach.\n",
      "\n",
      "* **Add a section on Film Genres:**  A brief overview of major film genres (e.g., action, comedy, drama, horror, science fiction) and their evolution would enrich the report.\n",
      "\n",
      "* **Add a section on Film Criticism and Awards:**  Include a brief discussion on the role of film critics in shaping public opinion and the influence of major film awards (e.g., Oscars, Cannes Film Festival).\n",
      "\n",
      "\n",
      "By incorporating these suggestions, you can transform your already solid report into a truly comprehensive and insightful analysis of the movie industry. Remember to cite your sources to enhance credibility.\n"
     ]
    }
   ],
   "source": [
    "result = final_chain.invoke(input={\n",
    "    'query1': \"Write a detailed report on movies.\",\n",
    "    'query2': \"Summarize the report under 100 words.\"\n",
    "})\n",
    "print(result)\n"
   ]
  },
  {
   "cell_type": "code",
   "execution_count": null,
   "id": "c9b366a7",
   "metadata": {},
   "outputs": [],
   "source": []
  }
 ],
 "metadata": {
  "kernelspec": {
   "display_name": ".venv",
   "language": "python",
   "name": "python3"
  },
  "language_info": {
   "codemirror_mode": {
    "name": "ipython",
    "version": 3
   },
   "file_extension": ".py",
   "mimetype": "text/x-python",
   "name": "python",
   "nbconvert_exporter": "python",
   "pygments_lexer": "ipython3",
   "version": "3.12.5"
  }
 },
 "nbformat": 4,
 "nbformat_minor": 5
}
