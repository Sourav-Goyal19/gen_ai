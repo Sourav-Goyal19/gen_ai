{
 "cells": [
  {
   "cell_type": "code",
   "execution_count": 12,
   "id": "0c01a368",
   "metadata": {},
   "outputs": [
    {
     "data": {
      "text/plain": [
       "True"
      ]
     },
     "execution_count": 12,
     "metadata": {},
     "output_type": "execute_result"
    }
   ],
   "source": [
    "import os\n",
    "from dotenv import load_dotenv\n",
    "from typing import List\n",
    "from pydantic import BaseModel, EmailStr, Field\n",
    "\n",
    "load_dotenv()\n"
   ]
  },
  {
   "cell_type": "code",
   "execution_count": 13,
   "id": "ab324cdc",
   "metadata": {},
   "outputs": [],
   "source": [
    "from langchain_google_genai import ChatGoogleGenerativeAI\n",
    "from langchain_core.output_parsers import PydanticOutputParser, StrOutputParser\n",
    "from langchain_core.prompts import ChatPromptTemplate\n",
    "from langchain_core.runnables import RunnableSequence, RunnableLambda, RunnablePassthrough, RunnableBranch\n"
   ]
  },
  {
   "cell_type": "code",
   "execution_count": 14,
   "id": "019776ad",
   "metadata": {},
   "outputs": [],
   "source": [
    "llm = ChatGoogleGenerativeAI(\n",
    "    model=\"gemini-1.5-flash\",\n",
    "    api_key=os.getenv(\"GOOGLE_API_KEY\")\n",
    ")\n"
   ]
  },
  {
   "cell_type": "code",
   "execution_count": 15,
   "id": "ff0c2073",
   "metadata": {},
   "outputs": [],
   "source": [
    "prompt1 = ChatPromptTemplate.from_messages([\n",
    "    (\"system\", \"You are a helpful assistant that helps users to solve their queries. \"),\n",
    "    (\"human\", \"{query1}\")\n",
    "])\n"
   ]
  },
  {
   "cell_type": "code",
   "execution_count": 16,
   "id": "4d035fc0",
   "metadata": {},
   "outputs": [],
   "source": [
    "prompt2 = ChatPromptTemplate.from_messages([\n",
    "    (\"system\", \"You are a helpful assistant that helps users to solve their queries. \"),\n",
    "    (\"human\", \"{query2}\")\n",
    "])\n"
   ]
  },
  {
   "cell_type": "code",
   "execution_count": 17,
   "id": "bcf66c50",
   "metadata": {},
   "outputs": [],
   "source": [
    "parser = StrOutputParser()\n"
   ]
  },
  {
   "cell_type": "code",
   "execution_count": 18,
   "id": "b3e0a00c",
   "metadata": {},
   "outputs": [],
   "source": [
    "report_gen_chain = RunnableSequence(prompt1, llm, parser)\n"
   ]
  },
  {
   "cell_type": "code",
   "execution_count": 19,
   "id": "18582f15",
   "metadata": {},
   "outputs": [],
   "source": [
    "branch_chain = RunnableBranch(\n",
    "    (lambda x: len(x.split()) > 100, RunnableSequence(prompt2, llm, parser)),\n",
    "    RunnablePassthrough()\n",
    ")\n"
   ]
  },
  {
   "cell_type": "code",
   "execution_count": 20,
   "id": "c807798c",
   "metadata": {},
   "outputs": [],
   "source": [
    "final_chain = RunnableSequence(report_gen_chain, branch_chain)\n"
   ]
  },
  {
   "cell_type": "code",
   "execution_count": 21,
   "id": "39a527ac",
   "metadata": {},
   "outputs": [
    {
     "name": "stdout",
     "output_type": "stream",
     "text": [
      "This is a good, comprehensive overview of the movie industry. Here are some suggestions to make it even stronger:\n",
      "\n",
      "**Enhancements and Additions:**\n",
      "\n",
      "* **Box Office Numbers and Financial Aspects:**  The report lacks discussion of the financial side of the industry.  Including information on box office revenue, production budgets, marketing costs, and profitability would add significant depth.  Mentioning key box office successes and failures within each era would also be beneficial.\n",
      "\n",
      "* **Technological Advancements (More Detail):** While the report mentions digital filmmaking and VR/AR,  it could expand on specific technological advancements within each era.  For example:  the impact of Technicolor, widescreen formats (CinemaScope, etc.), digital intermediate (DI), CGI advancements, and the evolution of special effects.\n",
      "\n",
      "* **Globalization and International Cinema:** The report focuses heavily on Hollywood.  Expanding on the influence and importance of international cinema (e.g., Bollywood, Nollywood, Korean cinema) would broaden its scope significantly.  Discuss how global distribution and co-productions are shaping the industry.\n",
      "\n",
      "* **Independent Film and its Evolution:**  While mentioned, the role and impact of independent filmmaking deserves more attention.  Discuss the different distribution models available to independent filmmakers (film festivals, direct-to-streaming, etc.) and their influence on the overall cinematic landscape.\n",
      "\n",
      "* **Censorship and Ratings Systems:**  The evolution of censorship and film rating systems across different countries and time periods would be a relevant addition, impacting the content and themes explored in films.\n",
      "\n",
      "* **Impact of Social Media and Marketing:**  The report mentions marketing but could expand on the significant role of social media in promoting films and engaging with audiences.  Discuss the use of influencers, online campaigns, and social media trends in shaping film marketing strategies.\n",
      "\n",
      "* **The Impact of COVID-19:**  The pandemic dramatically altered the movie industry.  Adding a section on its impact on theatrical releases, streaming adoption, and production schedules would be timely and relevant.\n",
      "\n",
      "* **Subgenres and Niche Markets:**  Expanding on the diverse subgenres within each major genre would provide a richer understanding of audience segmentation and film production.\n",
      "\n",
      "* **The Role of Film Critics and Awards:** The impact of film critics and awards ceremonies (Oscars, Cannes, etc.) on the industry's prestige and financial success should be mentioned.\n",
      "\n",
      "* **Stronger Conclusions:** The concluding paragraph could be strengthened by offering a more specific and insightful prediction about the future of the movie industry, perhaps focusing on a particular technological advancement or market trend.\n",
      "\n",
      "\n",
      "**Structural Improvements:**\n",
      "\n",
      "* **Use of Subheadings:**  Breaking down each section (I, II, III, etc.) into further subheadings would improve readability and organization.  For example, within \"Movie Production,\" you could have subheadings for each stage (Development, Pre-production, etc.).\n",
      "\n",
      "* **Visual Aids:**  Consider incorporating charts, graphs, or images to illustrate key data points or trends (e.g., box office revenue over time, growth of streaming services).\n",
      "\n",
      "\n",
      "By incorporating these suggestions, you can transform your report into a more comprehensive and insightful analysis of the movie industry.\n"
     ]
    }
   ],
   "source": [
    "result = final_chain.invoke(input={\n",
    "    'query1': \"Write a detailed report on movies.\",\n",
    "    'query2': \"Summarize the report under 40 words.\"\n",
    "})\n",
    "print(result)\n"
   ]
  },
  {
   "cell_type": "code",
   "execution_count": null,
   "id": "c9b366a7",
   "metadata": {},
   "outputs": [],
   "source": []
  }
 ],
 "metadata": {
  "kernelspec": {
   "display_name": ".venv",
   "language": "python",
   "name": "python3"
  },
  "language_info": {
   "codemirror_mode": {
    "name": "ipython",
    "version": 3
   },
   "file_extension": ".py",
   "mimetype": "text/x-python",
   "name": "python",
   "nbconvert_exporter": "python",
   "pygments_lexer": "ipython3",
   "version": "3.12.5"
  }
 },
 "nbformat": 4,
 "nbformat_minor": 5
}
