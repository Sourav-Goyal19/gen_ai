{
 "cells": [
  {
   "cell_type": "code",
   "execution_count": 1,
   "id": "0c01a368",
   "metadata": {},
   "outputs": [
    {
     "data": {
      "text/plain": [
       "True"
      ]
     },
     "execution_count": 1,
     "metadata": {},
     "output_type": "execute_result"
    }
   ],
   "source": [
    "import os\n",
    "from dotenv import load_dotenv\n",
    "from typing import List\n",
    "from pydantic import BaseModel, EmailStr, Field\n",
    "\n",
    "load_dotenv()\n"
   ]
  },
  {
   "cell_type": "code",
   "execution_count": 4,
   "id": "ab324cdc",
   "metadata": {},
   "outputs": [],
   "source": [
    "from langchain_google_genai import ChatGoogleGenerativeAI\n",
    "from langchain_core.output_parsers import PydanticOutputParser, StrOutputParser\n",
    "from langchain_core.prompts import ChatPromptTemplate\n",
    "from langchain_core.runnables import RunnableSequence, RunnableParallel\n"
   ]
  },
  {
   "cell_type": "code",
   "execution_count": 5,
   "id": "019776ad",
   "metadata": {},
   "outputs": [],
   "source": [
    "llm = ChatGoogleGenerativeAI(\n",
    "    model=\"gemini-1.5-flash\",\n",
    "    api_key=os.getenv(\"GOOGLE_API_KEY\")\n",
    ")\n"
   ]
  },
  {
   "cell_type": "code",
   "execution_count": 6,
   "id": "ff0c2073",
   "metadata": {},
   "outputs": [],
   "source": [
    "prompt1 = ChatPromptTemplate.from_messages([\n",
    "    (\"system\", \"You are a helpful assistant that helps users to solve their queries. \"),\n",
    "    (\"human\", \"{query1}\")\n",
    "])\n"
   ]
  },
  {
   "cell_type": "code",
   "execution_count": 7,
   "id": "4d035fc0",
   "metadata": {},
   "outputs": [],
   "source": [
    "prompt2 = ChatPromptTemplate.from_messages([\n",
    "    (\"system\", \"You are a helpful assistant that helps users to solve their queries. \"),\n",
    "    (\"human\", \"{query2}\")\n",
    "])\n"
   ]
  },
  {
   "cell_type": "code",
   "execution_count": 8,
   "id": "bcf66c50",
   "metadata": {},
   "outputs": [],
   "source": [
    "parser = StrOutputParser()\n"
   ]
  },
  {
   "cell_type": "code",
   "execution_count": 9,
   "id": "b3e0a00c",
   "metadata": {},
   "outputs": [],
   "source": [
    "chain = RunnableParallel({\n",
    "    'tweet': RunnableSequence(prompt1 | llm | parser),\n",
    "    'linkedin': RunnableSequence(prompt2 | llm | parser)\n",
    "})\n"
   ]
  },
  {
   "cell_type": "code",
   "execution_count": 11,
   "id": "c807798c",
   "metadata": {},
   "outputs": [],
   "source": [
    "post = \"\"\"Alongside my teammates — Abhijith Sogal and Nikhil Kottoli — i had recently participated in the Polkadot AssetHub Hackathon where our project was awarded 🏆 3rd place.\n",
    " \n",
    "It was my first Web3 hackathon, and what started with curiosity and confusion turned into something we are genuinely proud pulling off .\n",
    "After a 36-hour sprint filled with late-night problem-solving and continuous learning, we built:\n",
    "\n",
    "Polkaflow -\n",
    "An AI-powered, no-code smart contract builder designed for the Polkadot ecosystem.\n",
    "\n",
    "Some key Features of our project:\n",
    "\n",
    "1. Visual Drag-and-Drop Builder - A no-code interface similar to Zapier that translates user flows into smart contracts.\n",
    "2. Hybrid Solidity → Rust Compiler - Converts high gas-cost Solidity logic into Rust for optimized, cross-chain smart contract deployment.\n",
    "3. AI-Powered Smart Contract Generation - From text prompts to flowcharts to deployable code.\n",
    "4. In-Browser Code Editor - Allows real-time smart contract editing and debugging.\n",
    "5. Web2 & Web3 Integrations - Telegram, email, and more for alerts and automation.\n",
    "6. One-Click Deployment - Deploy directly to AssetHub via PolkaVM.\n",
    "7. Reusable Node Library - 32+ nodes covering common smart contract logic and use cases.\"\"\"\n"
   ]
  },
  {
   "cell_type": "code",
   "execution_count": 12,
   "id": "39a527ac",
   "metadata": {},
   "outputs": [
    {
     "name": "stdout",
     "output_type": "stream",
     "text": [
      "{'tweet': 'Huge thanks to my amazing teammates, Abhijith Sogal & Nikhil Kottoli!  We just took 3rd place in the Polkadot AssetHub Hackathon with Polkaflow, our AI-powered, no-code smart contract builder! 🎉  36 hours of coding magic turned curiosity into a prize-winning project.  #Polkadot #AssetHub #Hackathon #Web3 #AI #SmartContracts #NoCode #Polkaflow', 'linkedin': \"**Option 1 (Concise):**\\n\\nThrilled to share that my team (Abhijith Sogal & Nikhil Kottoli) and I secured 3rd place at the Polkadot AssetHub Hackathon!  🏆  In just 36 hours, we built Polkaflow – an AI-powered, no-code smart contract builder for Polkadot.  This was my first Web3 hackathon, and the experience was incredible!  #Polkadot #AssetHub #Hackathon #Web3 #NoCode #AI #SmartContracts\\n\\n\\n**Option 2 (More Detailed):**\\n\\nHuge shoutout to my amazing teammates, Abhijith Sogal and Nikhil Kottoli! We just finished the Polkadot AssetHub Hackathon, and our project, Polkaflow, took 3rd place! 🎉  This was my first Web3 hackathon, and it was an intense but incredibly rewarding 36-hour sprint.  We built an AI-powered, no-code smart contract builder with features like a drag-and-drop interface, a hybrid Solidity/Rust compiler, and one-click deployment to AssetHub via PolkaVM.  Polkaflow simplifies smart contract development, making it accessible to a wider audience.  Learn more about Polkaflow [link to project if available].  #Polkadot #AssetHub #Hackathon #Web3 #NoCode #AI #SmartContracts #Blockchain\\n\\n\\n**Option 3 (Focus on Skills & Impact):**\\n\\nLevel up! 🚀  My first Web3 hackathon resulted in a 3rd-place win at the Polkadot AssetHub Hackathon with my incredible teammates, Abhijith Sogal and Nikhil Kottoli.  We developed Polkaflow, an AI-powered, no-code smart contract builder designed to democratize smart contract development on Polkadot.  Key features include a visual drag-and-drop interface, AI-powered code generation, and seamless deployment.  This project honed my skills in [mention specific skills like AI, Solidity, Rust, Web3 development etc.], and I'm excited to see where we take Polkaflow next. #Polkadot #AssetHub #Hackathon #Web3 #NoCode #AI #SmartContracts #Blockchain #SoftwareEngineering\\n\\n\\n**Remember to:**\\n\\n* **Add a picture:** A photo of the team at the hackathon or a screenshot of the Polkaflow interface would significantly enhance the post.\\n* **Include a link:** If you have a website, GitHub repository, or any other relevant link for Polkaflow, include it in your post.\\n* **Use relevant hashtags:**  This will increase the visibility of your post.\\n\\n\\nChoose the option that best suits your style and the platform's audience.  Good luck!\"}\n"
     ]
    }
   ],
   "source": [
    "result = chain.invoke(input={\n",
    "    'query1': f\"Generate a tweet on this: {post}\",\n",
    "    'query2': f\"Generate a linkedin post on this: {post}\"\n",
    "})\n",
    "print(result)\n"
   ]
  },
  {
   "cell_type": "code",
   "execution_count": null,
   "id": "c9b366a7",
   "metadata": {},
   "outputs": [],
   "source": []
  }
 ],
 "metadata": {
  "kernelspec": {
   "display_name": ".venv",
   "language": "python",
   "name": "python3"
  },
  "language_info": {
   "codemirror_mode": {
    "name": "ipython",
    "version": 3
   },
   "file_extension": ".py",
   "mimetype": "text/x-python",
   "name": "python",
   "nbconvert_exporter": "python",
   "pygments_lexer": "ipython3",
   "version": "3.12.5"
  }
 },
 "nbformat": 4,
 "nbformat_minor": 5
}
