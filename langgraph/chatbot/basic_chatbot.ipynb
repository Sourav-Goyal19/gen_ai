{
 "cells": [
  {
   "cell_type": "code",
   "execution_count": null,
   "id": "3d63949d",
   "metadata": {},
   "outputs": [
    {
     "data": {
      "text/plain": [
       "True"
      ]
     },
     "execution_count": 7,
     "metadata": {},
     "output_type": "execute_result"
    }
   ],
   "source": [
    "import os\n",
    "from dotenv import load_dotenv\n",
    "from typing import TypedDict, Annotated\n",
    "\n",
    "load_dotenv()\n"
   ]
  },
  {
   "cell_type": "code",
   "execution_count": null,
   "id": "a7440789",
   "metadata": {},
   "outputs": [],
   "source": [
    "from langchain_groq import ChatGroq\n",
    "from langchain_deepseek import ChatDeepSeek\n",
    "from langgraph.graph import StateGraph, START, END\n",
    "from langgraph.graph.message import add_messages\n",
    "from langchain_core.messages import BaseMessage, HumanMessage\n",
    "from langchain_core.prompts import ChatPromptTemplate\n",
    "from langchain_google_genai import ChatGoogleGenerativeAI\n",
    "from langgraph.checkpoint.memory import MemorySaver\n"
   ]
  },
  {
   "cell_type": "code",
   "execution_count": null,
   "id": "ccf5f5e7",
   "metadata": {},
   "outputs": [],
   "source": [
    "LLMS = {}\n",
    "\n",
    "LLMS['gemini'] = ChatGoogleGenerativeAI(\n",
    "    api_key = os.getenv(\"GOOGLE_API_KEY\"),\n",
    "    model = 'gemini-1.5-flash'\n",
    ")\n",
    "\n",
    "LLMS['deepseek'] = ChatDeepSeek(\n",
    "    api_key=os.getenv(\"OPENROUTER_API_KEY\"),\n",
    "    api_base=os.getenv(\"OPENROUTER_BASE_URL\"),\n",
    "    model=\"deepseek/deepseek-chat-v3-0324:free\"\n",
    ")\n",
    "\n",
    "LLMS['moonshotai'] = ChatGroq(\n",
    "    api_key = os.getenv(\"GROQ_API_KEY\"),\n",
    "    model = \"moonshotai/kimi-k2-instruct\"\n",
    ")\n"
   ]
  },
  {
   "cell_type": "code",
   "execution_count": null,
   "id": "c75b80fe",
   "metadata": {},
   "outputs": [],
   "source": [
    "llm = LLMS['gemini']\n"
   ]
  },
  {
   "cell_type": "code",
   "execution_count": null,
   "id": "9f06d5e2",
   "metadata": {},
   "outputs": [],
   "source": [
    "class ChatState(TypedDict):\n",
    "    messages: Annotated[list[BaseMessage], add_messages]\n"
   ]
  },
  {
   "cell_type": "code",
   "execution_count": null,
   "id": "676ab1bc",
   "metadata": {},
   "outputs": [],
   "source": [
    "def chat_node(state: ChatState):\n",
    "    messages = state['messages'];\n",
    "    response = llm.invoke(messages);\n",
    "    state['messages'] = [response]\n",
    "    \n",
    "    return state\n"
   ]
  },
  {
   "cell_type": "code",
   "execution_count": null,
   "id": "4c5edba3",
   "metadata": {},
   "outputs": [],
   "source": [
    "graph = StateGraph(ChatState)\n",
    "\n",
    "graph.add_node('chat_node', chat_node)\n",
    "\n",
    "graph.add_edge(START, \"chat_node\")\n",
    "graph.add_edge(\"chat_node\", END)\n",
    "\n",
    "checkpointer = MemorySaver()\n",
    "\n",
    "chatbot = graph.compile(checkpointer=checkpointer)\n"
   ]
  },
  {
   "cell_type": "code",
   "execution_count": null,
   "id": "1e2c8403",
   "metadata": {},
   "outputs": [],
   "source": [
    "thread_id = 1;\n",
    "config = {\n",
    "    \"configurable\": {\n",
    "        \"thread_id\": thread_id\n",
    "    }\n",
    "}\n",
    "\n",
    "while True:\n",
    "    \n",
    "    human_message = input(\">>>\");\n",
    "    \n",
    "    if human_message.strip().lower() in ['quit', 'exit', 'bye']:\n",
    "        print(\"User Pressed\", human_message)\n",
    "        break;\n",
    "    \n",
    "    print(\"User Message:\", human_message)\n",
    "    \n",
    "    initial_state = {\n",
    "        'messages': [HumanMessage(content=human_message)]\n",
    "    }\n",
    "    \n",
    "    state = chatbot.invoke(initial_state, config=config)\n",
    "    \n",
    "    print(\"AI Message:\", state['messages'][-1].content)\n"
   ]
  }
 ],
 "metadata": {
  "kernelspec": {
   "display_name": ".venv (3.12.5)",
   "language": "python",
   "name": "python3"
  },
  "language_info": {
   "codemirror_mode": {
    "name": "ipython",
    "version": 3
   },
   "file_extension": ".py",
   "mimetype": "text/x-python",
   "name": "python",
   "nbconvert_exporter": "python",
   "pygments_lexer": "ipython3",
   "version": "3.12.5"
  }
 },
 "nbformat": 4,
 "nbformat_minor": 5
}
