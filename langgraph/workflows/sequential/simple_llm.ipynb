{
 "cells": [
  {
   "cell_type": "code",
   "execution_count": 1,
   "id": "b38d1d73",
   "metadata": {},
   "outputs": [
    {
     "data": {
      "text/plain": [
       "True"
      ]
     },
     "execution_count": 1,
     "metadata": {},
     "output_type": "execute_result"
    }
   ],
   "source": [
    "import os\n",
    "from dotenv import load_dotenv\n",
    "from typing import TypedDict\n",
    "\n",
    "load_dotenv()\n"
   ]
  },
  {
   "cell_type": "code",
   "execution_count": 10,
   "id": "d2243cea",
   "metadata": {},
   "outputs": [],
   "source": [
    "from langgraph.graph import StateGraph, START, END\n",
    "from langchain_deepseek import ChatDeepSeek\n",
    "from langchain_groq import ChatGroq\n",
    "from langchain_google_genai import ChatGoogleGenerativeAI\n",
    "from langchain_core.prompts import ChatPromptTemplate\n",
    "from langchain_core.output_parsers import StrOutputParser\n"
   ]
  },
  {
   "cell_type": "code",
   "execution_count": 60,
   "id": "69ecaf9c",
   "metadata": {},
   "outputs": [],
   "source": [
    "LLMS = {}\n",
    "\n",
    "LLMS['gemini'] = ChatGoogleGenerativeAI(\n",
    "    api_key = os.getenv(\"GOOGLE_API_KEY\"),\n",
    "    model = 'gemini-1.5-flash'\n",
    ")\n",
    "\n",
    "LLMS['deepseek'] = ChatDeepSeek(\n",
    "    api_key=os.getenv(\"OPENROUTER_API_KEY\"),\n",
    "    api_base=os.getenv(\"OPENROUTER_BASE_URL\"),\n",
    "    model=\"deepseek/deepseek-chat-v3-0324:free\"\n",
    ")\n",
    "\n",
    "LLMS['moonshotai'] = ChatGroq(\n",
    "    api_key = os.getenv(\"GROQ_API_KEY\"),\n",
    "    model = \"moonshotai/kimi-k2-instruct\"\n",
    ")\n"
   ]
  },
  {
   "cell_type": "code",
   "execution_count": 61,
   "id": "276ac295",
   "metadata": {},
   "outputs": [],
   "source": [
    "llm = LLMS['moonshotai']\n"
   ]
  },
  {
   "cell_type": "code",
   "execution_count": null,
   "id": "706621b5",
   "metadata": {},
   "outputs": [],
   "source": [
    "class LLMState(TypedDict):\n",
    "    query: str\n",
    "    answer: str\n"
   ]
  },
  {
   "cell_type": "code",
   "execution_count": null,
   "id": "fca9688d",
   "metadata": {},
   "outputs": [],
   "source": [
    "\n",
    "query_answer_prompt = ChatPromptTemplate.from_messages([\n",
    "    (\"system\", \"\"\"\n",
    "    You are a helpful assistant. You help users to solve their query. You answer in a polite manner.\n",
    "    Write like a confident, clear thinking human speaking to another smart human.\n",
    "    Avoid robotic phrases like 'in today's fast-paced world', 'leveraging synergies', or 'furthermore'.\n",
    "    Skip unnecessary dashes (-), quotation marks (“”), and corporate buzzwords like 'cutting-edge', 'robust', or 'seamless experience'.\n",
    "    No Al tone. No fluff. No filler.\n",
    "    Use natural transitions like 'here's the thing', 'let's break it down', or 'what this really means is...'\n",
    "    Keep sentences varied in length and rhythm, like how real people speak or write.\n",
    "    Prioritize clarity, personality, and usefulness. Every sentence should feel intentional, not generated.\n",
    "    Sometimes try to use emoji to let user feel good.\n",
    "    \"\"\"),\n",
    "    (\"human\", \"{query}\")\n",
    "])\n"
   ]
  },
  {
   "cell_type": "code",
   "execution_count": null,
   "id": "72b0e530",
   "metadata": {},
   "outputs": [],
   "source": [
    "def query_answer(state: LLMState) -> LLMState:\n",
    "    query = state['query']\n",
    "    chain = query_answer_prompt | llm | StrOutputParser()\n",
    "    answer = chain.invoke(input={\n",
    "        'query': query\n",
    "    })\n",
    "    state['answer'] = answer\n",
    "    \n",
    "    return state\n"
   ]
  },
  {
   "cell_type": "code",
   "execution_count": null,
   "id": "92e94d26",
   "metadata": {},
   "outputs": [],
   "source": [
    "graph = StateGraph(LLMState)\n",
    "\n",
    "graph.add_node('query_answer', query_answer)\n",
    "\n",
    "graph.add_edge(START, 'query_answer')\n",
    "graph.add_edge('query_answer', END)\n",
    "\n",
    "workflow = graph.compile()\n"
   ]
  },
  {
   "cell_type": "code",
   "execution_count": null,
   "id": "e5f3fae2",
   "metadata": {},
   "outputs": [
    {
     "name": "stdout",
     "output_type": "stream",
     "text": [
      "{'query': 'Hey there dude!', 'answer': 'Yo! 😄 What’s on your mind today?'}\n"
     ]
    }
   ],
   "source": [
    "final_state = workflow.invoke({\n",
    "    'query': \"Hey there dude!\"\n",
    "})\n",
    "print(final_state)\n"
   ]
  }
 ],
 "metadata": {
  "kernelspec": {
   "display_name": ".venv (3.12.5)",
   "language": "python",
   "name": "python3"
  },
  "language_info": {
   "codemirror_mode": {
    "name": "ipython",
    "version": 3
   },
   "file_extension": ".py",
   "mimetype": "text/x-python",
   "name": "python",
   "nbconvert_exporter": "python",
   "pygments_lexer": "ipython3",
   "version": "3.12.5"
  }
 },
 "nbformat": 4,
 "nbformat_minor": 5
}
