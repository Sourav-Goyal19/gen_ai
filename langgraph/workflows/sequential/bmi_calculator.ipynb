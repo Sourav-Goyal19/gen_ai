{
 "cells": [
  {
   "cell_type": "code",
   "execution_count": null,
   "id": "25b72d5c",
   "metadata": {},
   "outputs": [],
   "source": [
    "from langgraph.graph import StateGraph, START, END\n",
    "from typing import TypedDict\n"
   ]
  },
  {
   "cell_type": "code",
   "execution_count": 11,
   "id": "dc0dd782",
   "metadata": {},
   "outputs": [],
   "source": [
    "class BMIState(TypedDict):\n",
    "    weight_kg : float\n",
    "    height_m: float\n",
    "    bmi: float\n",
    "    category: str\n"
   ]
  },
  {
   "cell_type": "code",
   "execution_count": 12,
   "id": "9e647fd3",
   "metadata": {},
   "outputs": [],
   "source": [
    "def calculate_bmi(state: BMIState) -> BMIState:\n",
    "    weight = state['weight_kg']\n",
    "    height = state['height_m']\n",
    "    result = weight/(height**2);\n",
    "    state['bmi'] = round(result, 2);\n",
    "    return state\n"
   ]
  },
  {
   "cell_type": "code",
   "execution_count": null,
   "id": "a5f1ac3f",
   "metadata": {},
   "outputs": [],
   "source": [
    "def label_bmi(state: BMIState) -> BMIState:\n",
    "    bmi = state['bmi']\n",
    "    \n",
    "    if bmi < 18.5:\n",
    "        state['category'] = 'UnderWeight'\n",
    "    elif 18.5 <= bmi < 25:\n",
    "        state['category'] = 'Normal'\n",
    "    elif 25 <= bmi < 30:\n",
    "        state['category'] = 'OverWeight'\n",
    "    else:\n",
    "        state['category'] = 'Obese'\n",
    "        \n",
    "    return state\n"
   ]
  },
  {
   "cell_type": "code",
   "execution_count": 20,
   "id": "d394df9a",
   "metadata": {},
   "outputs": [],
   "source": [
    "graph = StateGraph(BMIState);\n",
    "\n",
    "graph.add_node('calculate_bmi', calculate_bmi)\n",
    "graph.add_node('label_bmi', label_bmi);\n",
    "\n",
    "graph.add_edge(START, 'calculate_bmi')\n",
    "graph.add_edge('calculate_bmi', 'label_bmi')\n",
    "graph.add_edge('label_bmi', END)\n",
    "\n",
    "workflow = graph.compile();\n"
   ]
  },
  {
   "cell_type": "code",
   "execution_count": 25,
   "id": "7d92e3c9",
   "metadata": {},
   "outputs": [
    {
     "name": "stdout",
     "output_type": "stream",
     "text": [
      "{'weight_kg': 80, 'height_m': 2.01, 'bmi': 19.8, 'category': 'Normal'}\n"
     ]
    }
   ],
   "source": [
    "final_state = workflow.invoke({\n",
    "    'weight_kg': 80,\n",
    "    'height_m': 2.01\n",
    "})\n",
    "\n",
    "print(final_state)\n"
   ]
  }
 ],
 "metadata": {
  "kernelspec": {
   "display_name": ".venv (3.12.5)",
   "language": "python",
   "name": "python3"
  },
  "language_info": {
   "codemirror_mode": {
    "name": "ipython",
    "version": 3
   },
   "file_extension": ".py",
   "mimetype": "text/x-python",
   "name": "python",
   "nbconvert_exporter": "python",
   "pygments_lexer": "ipython3",
   "version": "3.12.5"
  }
 },
 "nbformat": 4,
 "nbformat_minor": 5
}
