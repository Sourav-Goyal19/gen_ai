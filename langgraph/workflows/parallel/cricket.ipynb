{
 "cells": [
  {
   "cell_type": "code",
   "execution_count": null,
   "id": "2e2ebdb2",
   "metadata": {},
   "outputs": [
    {
     "data": {
      "text/plain": [
       "True"
      ]
     },
     "execution_count": 3,
     "metadata": {},
     "output_type": "execute_result"
    }
   ],
   "source": [
    "import os\n",
    "from dotenv import load_dotenv\n",
    "from typing import TypedDict\n",
    "\n",
    "load_dotenv()\n"
   ]
  },
  {
   "cell_type": "code",
   "execution_count": null,
   "id": "1d9d71b0",
   "metadata": {},
   "outputs": [],
   "source": [
    "from langgraph.graph import StateGraph, START, END\n"
   ]
  },
  {
   "cell_type": "code",
   "execution_count": null,
   "id": "d1ae706f",
   "metadata": {},
   "outputs": [],
   "source": [
    "class BatsmanState(TypedDict):\n",
    "    runs: int\n",
    "    balls: int\n",
    "    fours: int\n",
    "    sixes: int\n",
    "    sr: float # strike rate\n",
    "    bpb: float # balls per boundary\n",
    "    bp: float # boundary percent\n",
    "    summary: str\n"
   ]
  },
  {
   "cell_type": "code",
   "execution_count": null,
   "id": "224c38ce",
   "metadata": {},
   "outputs": [],
   "source": [
    "def calculate_sr(state: BatsmanState) -> BatsmanState:\n",
    "    runs = state['runs']\n",
    "    balls = state['balls']\n",
    "    strike_rate = (runs/balls) * 100\n",
    "    \n",
    "    return {'sr': strike_rate}\n"
   ]
  },
  {
   "cell_type": "code",
   "execution_count": null,
   "id": "d9884e65",
   "metadata": {},
   "outputs": [],
   "source": [
    "def calculate_bpb(state: BatsmanState) -> BatsmanState:\n",
    "    balls = state['balls']\n",
    "    fours = state['fours']\n",
    "    sixes = state['sixes']\n",
    "    balls_per_boundary = balls/(fours + sixes)\n",
    "    \n",
    "    return {'bpb': balls_per_boundary}\n"
   ]
  },
  {
   "cell_type": "code",
   "execution_count": null,
   "id": "c8cbc206",
   "metadata": {},
   "outputs": [],
   "source": [
    "def calculate_bp(state: BatsmanState) -> BatsmanState:\n",
    "    fours = state['fours']\n",
    "    sixes = state['sixes']\n",
    "    runs = state['runs']\n",
    "    total_boundary_run = (fours * 4) + (sixes * 6)\n",
    "    boundary_percent = (total_boundary_run/runs) * 100\n",
    "    \n",
    "    return {'bp': round(boundary_percent, 2)}\n"
   ]
  },
  {
   "cell_type": "code",
   "execution_count": null,
   "id": "22aec624",
   "metadata": {},
   "outputs": [],
   "source": [
    "def generate_summary(state: BatsmanState):\n",
    "    summary = f\"\"\"\n",
    "    Strike Rate - {state['sr']}\n",
    "    Balls Per Boundary - {state['bpb']}\n",
    "    Boundary Percent - {state['bp']}%\n",
    "    \"\"\"\n",
    "    \n",
    "    return {'summary': summary}\n"
   ]
  },
  {
   "cell_type": "code",
   "execution_count": null,
   "id": "897de099",
   "metadata": {},
   "outputs": [],
   "source": [
    "graph = StateGraph(BatsmanState);\n",
    "\n",
    "graph.add_node('calculate_sr', calculate_sr)\n",
    "graph.add_node('calculate_bpb', calculate_bpb)\n",
    "graph.add_node('calculate_bp', calculate_bp)\n",
    "graph.add_node('generate_summary', generate_summary)\n",
    "\n",
    "graph.add_edge(START, 'calculate_sr')\n",
    "graph.add_edge(START, 'calculate_bpb')\n",
    "graph.add_edge(START, 'calculate_bp')\n",
    "graph.add_edge('calculate_sr', 'generate_summary')\n",
    "graph.add_edge('calculate_bpb', 'generate_summary')\n",
    "graph.add_edge('calculate_bp', 'generate_summary')\n",
    "graph.add_edge('generate_summary', END)\n",
    "\n",
    "workflow = graph.compile()\n"
   ]
  },
  {
   "cell_type": "code",
   "execution_count": null,
   "id": "d7c601ff",
   "metadata": {},
   "outputs": [],
   "source": [
    "initial_state = {\n",
    "    'runs': 108,\n",
    "    'balls': 50,\n",
    "    'fours': 6,\n",
    "    'sixes': 4,\n",
    "}\n",
    "\n",
    "final_state = workflow.invoke(initial_state)\n"
   ]
  },
  {
   "cell_type": "code",
   "execution_count": null,
   "id": "9d9c271e",
   "metadata": {},
   "outputs": [
    {
     "name": "stdout",
     "output_type": "stream",
     "text": [
      "\n",
      "    Strike Rate - 216.0\n",
      "    Balls Per Boundary - 5.0\n",
      "    Boundary Percent - 44.44%\n",
      "    \n"
     ]
    }
   ],
   "source": [
    "print(final_state['summary'])\n"
   ]
  }
 ],
 "metadata": {
  "kernelspec": {
   "display_name": ".venv (3.12.5)",
   "language": "python",
   "name": "python3"
  },
  "language_info": {
   "codemirror_mode": {
    "name": "ipython",
    "version": 3
   },
   "file_extension": ".py",
   "mimetype": "text/x-python",
   "name": "python",
   "nbconvert_exporter": "python",
   "pygments_lexer": "ipython3",
   "version": "3.12.5"
  }
 },
 "nbformat": 4,
 "nbformat_minor": 5
}
