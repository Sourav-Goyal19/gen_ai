{
 "cells": [
  {
   "cell_type": "code",
   "execution_count": 41,
   "id": "571f7596",
   "metadata": {},
   "outputs": [
    {
     "data": {
      "text/plain": [
       "True"
      ]
     },
     "execution_count": 41,
     "metadata": {},
     "output_type": "execute_result"
    }
   ],
   "source": [
    "import os\n",
    "from dotenv import load_dotenv\n",
    "from typing import TypedDict, Annotated, operator\n",
    "from pydantic import BaseModel, Field\n",
    "\n",
    "load_dotenv()\n"
   ]
  },
  {
   "cell_type": "code",
   "execution_count": 42,
   "id": "6e1f01d7",
   "metadata": {},
   "outputs": [],
   "source": [
    "from langchain_groq import ChatGroq\n",
    "from langchain_deepseek import ChatDeepSeek\n",
    "from langgraph.graph import StateGraph, START, END\n",
    "from langchain_core.prompts import ChatPromptTemplate\n",
    "from langchain_google_genai import ChatGoogleGenerativeAI\n",
    "from langchain_core.output_parsers import JsonOutputParser\n"
   ]
  },
  {
   "cell_type": "code",
   "execution_count": 43,
   "id": "2ef24f16",
   "metadata": {},
   "outputs": [],
   "source": [
    "LLMS = {}\n",
    "\n",
    "LLMS['gemini'] = ChatGoogleGenerativeAI(\n",
    "    api_key = os.getenv(\"GOOGLE_API_KEY\"),\n",
    "    model = 'gemini-1.5-flash'\n",
    ")\n",
    "\n",
    "LLMS['deepseek'] = ChatDeepSeek(\n",
    "    api_key=os.getenv(\"OPENROUTER_API_KEY\"),\n",
    "    api_base=os.getenv(\"OPENROUTER_BASE_URL\"),\n",
    "    model=\"deepseek/deepseek-chat-v3-0324:free\"\n",
    ")\n",
    "\n",
    "LLMS['moonshotai'] = ChatGroq(\n",
    "    api_key = os.getenv(\"GROQ_API_KEY\"),\n",
    "    model = \"moonshotai/kimi-k2-instruct\"\n",
    ")\n"
   ]
  },
  {
   "cell_type": "code",
   "execution_count": 44,
   "id": "2ec42c6f",
   "metadata": {},
   "outputs": [],
   "source": [
    "llm  = LLMS['moonshotai']\n"
   ]
  },
  {
   "cell_type": "code",
   "execution_count": 45,
   "id": "e7aad579",
   "metadata": {},
   "outputs": [],
   "source": [
    "class FeedbackOutputFormat(BaseModel):\n",
    "    feedback: str = Field(description=\"Feedback Text\")\n",
    "    score: int = Field(description=\"Feedback score out of 10\", ge=0, le=10)\n"
   ]
  },
  {
   "cell_type": "code",
   "execution_count": 46,
   "id": "9988af8b",
   "metadata": {},
   "outputs": [],
   "source": [
    "parser = JsonOutputParser(pydantic_object=FeedbackOutputFormat)\n"
   ]
  },
  {
   "cell_type": "code",
   "execution_count": 67,
   "id": "be7295a7",
   "metadata": {},
   "outputs": [],
   "source": [
    "class EssayState(TypedDict):\n",
    "    essay_text: str\n",
    "    cot_feedback: str # clarity of thought\n",
    "    aod_feedback: str # analysis of depth\n",
    "    lang_feedback: str # grammatical check\n",
    "    overall_feedback: str\n",
    "    indiviual_scores: Annotated[list[int], operator.add]\n",
    "    avg_score: float\n"
   ]
  },
  {
   "cell_type": "code",
   "execution_count": 48,
   "id": "09b5bff5",
   "metadata": {},
   "outputs": [],
   "source": [
    "cot_prompt = ChatPromptTemplate.from_messages([\n",
    "    (\"system\", \"\"\"\n",
    "    You are an expert writing evaluator. Your task is to assess an essay only based on clarity of thought.\n",
    "\n",
    "    This means you are judging:\n",
    "\n",
    "    - How clearly the writer presents their ideas\n",
    "    - Whether their reasoning is easy to follow\n",
    "    - If the structure supports understanding\n",
    "    - Whether the language helps or hinders comprehension\n",
    "    - Ignore grammar, vocabulary variety, spelling, tone, creativity, or originality unless - they directly affect clarity.\n",
    "\n",
    "    Your response must include:\n",
    "\n",
    "    A short, honest paragraph of feedback explaining how clear the essay was and why. Point out specific strengths or weak spots in the writer's thinking or organization.\n",
    "\n",
    "    A clarity score out of 10, where:\n",
    "    10 = exceptionally clear and easy to follow from start to finish\n",
    "    5 = mixed clarity; some parts are well explained, others are confusing\n",
    "    1 = very difficult to follow or understand the writer's reasoning\n",
    "\n",
    "    Use straightforward, supportive language. You're not here to judge—you're here to help the writer improve their clarity of thought.\n",
    "    \n",
    "    # Output Instructions\n",
    "    Here are your output format instructions: {format_instructions}\n",
    "    \"\"\"),\n",
    "    (\"human\", \"Evaulate the below essay: {essay_text}\")\n",
    "])\n"
   ]
  },
  {
   "cell_type": "code",
   "execution_count": null,
   "id": "57b7f540",
   "metadata": {},
   "outputs": [],
   "source": [
    "def evaluate_cot(state: EssayState):\n",
    "    essay_text = state['essay_text']\n",
    "    cot_chain = cot_prompt | llm | parser\n",
    "    cot_result = cot_chain.invoke(input={\n",
    "        'essay_text': essay_text,\n",
    "        \"format_instructions\": parser.get_format_instructions(),\n",
    "    })\n",
    "    \n",
    "    return {\n",
    "        'cot_feedback': cot_result['feedback'],\n",
    "        'indiviual_scores': [cot_result['score']]\n",
    "    }\n"
   ]
  },
  {
   "cell_type": "code",
   "execution_count": 50,
   "id": "6493211e",
   "metadata": {},
   "outputs": [],
   "source": [
    "aod_prompt = ChatPromptTemplate.from_messages([\n",
    "    (\"system\", \"\"\"\n",
    "    You are an expert writing evaluator. Your task is to assess an essay only based on its depth of analysis.\n",
    "\n",
    "    This means you are judging:\n",
    "    - How deeply the writer explores their ideas\n",
    "    - Whether they go beyond surface-level points\n",
    "    - If they consider complexities, implications, or counterarguments\n",
    "    - How well they support their ideas with reasoning or evidence (not just if it's present, but if it's thoughtful)\n",
    "    - Ignore grammar, style, structure, vocabulary, and clarity unless they directly affect the analytical depth.\n",
    "\n",
    "    Your response must include:\n",
    "    - A short, honest paragraph of feedback explaining how deep or shallow the analysis was and why. Highlight moments where the writer shows insight—or misses opportunities to dig deeper.\n",
    "\n",
    "    A depth-of-analysis score out of 10, where:\n",
    "    - 10 = highly insightful, nuanced thinking throughout\n",
    "    - 5 = some analysis, but often surface-level or underdeveloped\n",
    "    - 1 = mostly summary or vague opinions with little real analysis\n",
    "\n",
    "    Use constructive, human language. Be clear, specific, and helpful—this is about guiding the writer to think more deeply.\n",
    "    \n",
    "    # Output Instructions\n",
    "    Here are your output format instructions: {format_instructions}\n",
    "    \"\"\"),\n",
    "    (\"human\", \"Evaulate the below essay: {essay_text}\")\n",
    "])\n"
   ]
  },
  {
   "cell_type": "code",
   "execution_count": null,
   "id": "edf943e9",
   "metadata": {},
   "outputs": [],
   "source": [
    "def evaluate_aod(state: EssayState):\n",
    "    essay_text = state['essay_text']\n",
    "    aod_chain = aod_prompt | llm | parser\n",
    "    aod_result = aod_chain.invoke(input={\n",
    "        'essay_text': essay_text,\n",
    "        \"format_instructions\": parser.get_format_instructions(),\n",
    "    })\n",
    "    \n",
    "    return {\n",
    "        'aod_feedback': aod_result['feedback'],\n",
    "        'indiviual_scores': [aod_result['score']]\n",
    "    }\n"
   ]
  },
  {
   "cell_type": "code",
   "execution_count": 52,
   "id": "b721bf47",
   "metadata": {},
   "outputs": [],
   "source": [
    "lang_prompt = ChatPromptTemplate.from_messages([\n",
    "    (\"system\", \"\"\"\n",
    "    You are an expert writing evaluator. Your task is to assess an essay only based on its use of language.\n",
    "\n",
    "    This includes:\n",
    "    - Grammar and sentence correctness\n",
    "    - Sentence structure and variety\n",
    "    - Word choice and vocabulary precision\n",
    "    - Writing style and fluency\n",
    "    - Ignore the clarity of ideas, depth of analysis, or content accuracy unless they directly impact how the language reads or functions.\n",
    "\n",
    "    Your response must include:\n",
    "    - A short, honest paragraph of feedback explaining how well the language works overall. Highlight strengths and point out any patterns of error, awkward phrasing, or flat style.\n",
    "\n",
    "    A language score out of 10, where:\n",
    "    - 10 = polished, fluent, and highly effective language use throughout\n",
    "    - 5 = readable but inconsistent; some awkward phrasing, limited variety, or recurring mistakes\n",
    "    - 1 = major language issues make it hard to read or understand\n",
    "\n",
    "    Use supportive and specific language. You're here to help the writer strengthen their writing tools, not just point out flaws.\n",
    "    \n",
    "    # Output Instructions\n",
    "    Here are your output format instructions: {format_instructions}\n",
    "    \"\"\"),\n",
    "    (\"human\", \"Evaulate the below essay: {essay_text}\")\n",
    "])\n"
   ]
  },
  {
   "cell_type": "code",
   "execution_count": null,
   "id": "167c33ee",
   "metadata": {},
   "outputs": [],
   "source": [
    "def evaluate_lang(state: EssayState):\n",
    "    essay_text = state['essay_text']\n",
    "    lang_chain = lang_prompt | llm | parser\n",
    "    lang_result = lang_chain.invoke(input={\n",
    "        'essay_text': essay_text,\n",
    "        \"format_instructions\": parser.get_format_instructions(),\n",
    "    })\n",
    "    \n",
    "    return {\n",
    "        'lang_feedback': lang_result['feedback'],\n",
    "        'indiviual_scores': [lang_result['score']]\n",
    "    }\n"
   ]
  },
  {
   "cell_type": "code",
   "execution_count": 59,
   "id": "7ca680c8",
   "metadata": {},
   "outputs": [],
   "source": [
    "overall_prompt = ChatPromptTemplate.from_messages([\n",
    "    (\"system\", \"\"\"\n",
    "    You are a skilled writing evaluator. You've already been given three separate pieces of feedback on an essay, each focused on a specific area:\n",
    "\n",
    "    - Clarity of Thought\n",
    "    - Analysis of Depth\n",
    "    - Language - grammar, style, structure, vocabulary\n",
    "\n",
    "    Your job is to:\n",
    "    - Write a final summary paragraph that combines insights from all three areas. Highlight the overall strengths and areas to improve, without repeating all the details.\n",
    "    - Provide an average score out of 10, calculated from the three scores. This is the final rating for the essay.\n",
    "\n",
    "    The tone should be clear, helpful, and human — encouraging but honest. Don't fluff. Keep it focused and practical.\n",
    "    # Output Instructions\n",
    "    Here are your output format instructions: {format_instructions}\n",
    "    \"\"\"),\n",
    "    (\"human\", \"\"\"\n",
    "    Here are all the feedbacks:\n",
    "    Clarity of Thought Feedback - {cot_feedback}\n",
    "    Analysis of Depth Feedback - {aod_feedback}\n",
    "    Language Feedback - {lang_feedback}\n",
    "    All Feedback Scores - {all_scores}\n",
    "    \"\"\")\n",
    "])\n"
   ]
  },
  {
   "cell_type": "code",
   "execution_count": 60,
   "id": "622594bf",
   "metadata": {},
   "outputs": [],
   "source": [
    "def overall_feedback(state: EssayState):\n",
    "    cot_feedback = state['cot_feedback']\n",
    "    aod_feedback = state['aod_feedback']\n",
    "    lang_feedback = state['lang_feedback']\n",
    "    indiviual_scores = state['indiviual_scores']\n",
    "    overall_chain = overall_prompt | llm | parser\n",
    "    overall_result = overall_chain.invoke(input={\n",
    "        'cot_feedback': cot_feedback,\n",
    "        'aod_feedback': aod_feedback,\n",
    "        'lang_feedback': lang_feedback,\n",
    "        'all_scores': indiviual_scores,\n",
    "        \"format_instructions\": parser.get_format_instructions(),\n",
    "    })\n",
    "    \n",
    "    return {\n",
    "        'overall_feedback': overall_result['feedback'], \n",
    "        'avg_score': overall_result['score']\n",
    "    }\n"
   ]
  },
  {
   "cell_type": "code",
   "execution_count": null,
   "id": "b51e3020",
   "metadata": {},
   "outputs": [],
   "source": [
    "graph = StateGraph(EssayState)\n",
    "\n",
    "graph.add_node(\"evaluate_cot\", evaluate_cot)\n",
    "graph.add_node(\"evaluate_aod\", evaluate_aod)\n",
    "graph.add_node(\"evaluate_lang\", evaluate_lang)\n",
    "graph.add_node(\"overall_feedback\", overall_feedback)\n",
    "\n",
    "graph.add_edge(START, 'evaluate_cot')\n",
    "graph.add_edge(START, 'evaluate_aod')\n",
    "graph.add_edge(START, 'evaluate_lang')\n",
    "graph.add_edge('evaluate_cot', 'overall_feedback')\n",
    "graph.add_edge('evaluate_aod', 'overall_feedback')\n",
    "graph.add_edge('evaluate_lang', 'overall_feedback')\n",
    "graph.add_edge(\"overall_feedback\", END)\n",
    "\n",
    "workflow = graph.compile()\n"
   ]
  },
  {
   "cell_type": "code",
   "execution_count": null,
   "id": "8e668552",
   "metadata": {},
   "outputs": [],
   "source": [
    "initial_state = {\n",
    "    'essay_text': \"\"\"\n",
    "    \"Technology Cannot Replace Manpower\"\n",
    "    In today's digital age, technology has transformed how we work, communicate, and live. From AI-driven tools to automation, machines now perform tasks once handled by humans. However, despite its growing role, technology cannot fully replace manpower. This statement highlights the enduring importance of human intelligence, creativity, ethics, and emotional depth.\n",
    "\n",
    "    Technology excels at repetitive, data-driven, or hazardous tasks. In industries like manufacturing, banking, and agriculture, machines improve speed and accuracy. Yet, these functions are often limited to predefined roles. For example, while robots can assist in surgeries or chatbots handle customer service, they lack empathy, ethical judgment, and adaptability.\n",
    "\n",
    "    Human qualities such as emotional intelligence, moral reasoning, and creativity remain irreplaceable. A teacher's mentorship, a doctor's intuition, a judge's sense of justice, or a caregiver's compassion cannot be replicated by any machine. In crises like natural disasters or conflicts, human presence and decision-making are essential.\n",
    "\n",
    "    Moreover, technology often complements manpower rather than replaces it. In education, healthcare, and governance, digital tools support human roles but do not eliminate them. Machines assist, but humans give purpose and direction.\n",
    "\n",
    "    In countries like India, where large populations depend on labor-intensive sectors, complete automation is neither practical nor desirable. Replacing manpower could worsen unemployment and inequality. Instead, upskilling and combining technology with human effort is the way forward.\n",
    "\n",
    "    Ethically, over-dependence on machines risks dehumanizing work. Algorithms can be biased, and machines lack accountability. Therefore, human oversight remains critical.\n",
    "\n",
    "    In conclusion, while technology can enhance human capability, it cannot substitute the depth of human experience, emotion, and ethical judgment. The future lies in a balanced partnership—where machines support, but people lead.\n",
    "    \"\"\"\n",
    "}\n"
   ]
  },
  {
   "cell_type": "code",
   "execution_count": null,
   "id": "6e045f99",
   "metadata": {},
   "outputs": [],
   "source": [
    "final_state = workflow.invoke(initial_state)\n"
   ]
  },
  {
   "cell_type": "code",
   "execution_count": null,
   "id": "d1ca5914",
   "metadata": {},
   "outputs": [
    {
     "name": "stdout",
     "output_type": "stream",
     "text": [
      "The argument is easy to follow: the writer states that technology can’t replace manpower, then lists why (machines lack empathy, creativity, ethics), shows how technology actually complements rather than replaces people, and ends with a clear conclusion. Each paragraph has a single main idea, and the examples (robots in surgery, teachers, doctors, judges) help make the reasoning concrete. The only mild confusion comes in paragraph three, where the examples are bundled together; separating them into individual sentences would sharpen the point. Overall, the logical flow and signposting keep the reader oriented throughout.\n",
      "****************************************************************************************************\n",
      "The essay identifies the central tension—technology’s efficiency versus uniquely human capacities—but mostly stays on the well-worn surface of the debate. It lists the usual examples (robots in surgery, chatbots in customer service, teachers’ mentorship) without probing why empathy or moral reasoning are so hard to encode, or how exactly human intuition in a doctor differs from an AI’s probabilistic diagnosis. When it claims that machines \"lack ethical judgment,\" it never explores the deeper question of what ethical judgment entails (contextual nuance, moral responsibility, the ability to revise one’s stance in light of new evidence). The point about India is promising—mass unemployment and inequality—but the writer stops at asserting that full automation is \"neither practical nor desirable\" rather than investigating how automation might shift labor markets or what kinds of new human roles could emerge. Similarly, the ethical warning about algorithmic bias is raised but not analyzed: no discussion of real cases, mechanisms of bias, or why human accountability is more trustworthy. The essay is coherent and touches on relevant themes, yet it repeatedly names complexities without excavating them.\n",
      "****************************************************************************************************\n",
      "The prose is clear, grammatically solid, and free of major errors, which makes the piece easy to read straight through. Sentences are generally well-constructed, though the rhythm grows predictable: many follow the same subject–verb–object pattern and hover around the same length, giving the style a measured but somewhat flat cadence. Vocabulary is serviceable but leans on common abstract nouns—“technology,” “human,” “ethics,” “creativity”—without much variation or fresh phrasing to sustain energy. Transitional words (“Moreover,” “However,” “Instead”) appear frequently, yet the links between paragraphs feel mechanical rather than fluid. Occasional redundancies (“cannot fully replace manpower,” “cannot substitute the depth of human experience”) slightly blunt the impact. To sharpen the language, try varying sentence length, inserting a vivid verb or image, and pruning repeated ideas.\n",
      "****************************************************************************************************\n",
      "Your essay is a lucid, well-structured defense of the irreplaceable human element in an automated world; readers will never lose the thread of your argument or doubt your thesis. Where it still has room to grow is in pushing past familiar examples and slogans—ask the harder questions about why empathy resists codification, what “ethical judgment” actually entails, or how labour markets might evolve rather than simply shrink. At the sentence level, tidy grammar and clear transitions keep the piece readable, but a touch of varied rhythm, sharper word choice, and tighter editing would give the prose the same spark that your ideas deserve. Tackle the deeper analysis and give the language more life, and you’ll move from competent to compelling.\n",
      "****************************************************************************************************\n",
      "7\n",
      "[5, 9, 7]\n"
     ]
    }
   ],
   "source": [
    "print(final_state['cot_feedback'])\n",
    "print(\"*\"*100)\n",
    "print(final_state['aod_feedback'])\n",
    "print(\"*\"*100)\n",
    "print(final_state['lang_feedback'])\n",
    "print(\"*\"*100)\n",
    "print(final_state['overall_feedback'])\n",
    "print(\"*\"*100)\n",
    "print(final_state['avg_score'])\n",
    "print(final_state['indiviual_scores'])\n"
   ]
  }
 ],
 "metadata": {
  "kernelspec": {
   "display_name": ".venv (3.12.5)",
   "language": "python",
   "name": "python3"
  },
  "language_info": {
   "codemirror_mode": {
    "name": "ipython",
    "version": 3
   },
   "file_extension": ".py",
   "mimetype": "text/x-python",
   "name": "python",
   "nbconvert_exporter": "python",
   "pygments_lexer": "ipython3",
   "version": "3.12.5"
  }
 },
 "nbformat": 4,
 "nbformat_minor": 5
}
