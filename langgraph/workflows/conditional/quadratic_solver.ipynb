{
 "cells": [
  {
   "cell_type": "code",
   "execution_count": null,
   "id": "5df4e4b8",
   "metadata": {},
   "outputs": [],
   "source": [
    "import math\n",
    "from typing import TypedDict, Literal\n"
   ]
  },
  {
   "cell_type": "code",
   "execution_count": null,
   "id": "4d26b494",
   "metadata": {},
   "outputs": [],
   "source": [
    "from langgraph.graph import StateGraph, START, END\n"
   ]
  },
  {
   "cell_type": "code",
   "execution_count": null,
   "id": "bd1ec6c6",
   "metadata": {},
   "outputs": [],
   "source": [
    "class QuadraticState(TypedDict):\n",
    "    a: int\n",
    "    b: int\n",
    "    c: int\n",
    "    equation: str\n",
    "    discriminant: float\n",
    "    first_root: float | None\n",
    "    second_root: float | None\n",
    "    answer: str\n"
   ]
  },
  {
   "cell_type": "code",
   "execution_count": null,
   "id": "c0e550f5",
   "metadata": {},
   "outputs": [],
   "source": [
    "def show_equation(state: QuadraticState) -> QuadraticState:\n",
    "    a = state['a']\n",
    "    b = state['b']\n",
    "    if b > 0:\n",
    "        b = f\"+{b}\";\n",
    "    c = state['c']\n",
    "    if c > 0:\n",
    "        c = f\"+{c}\";\n",
    "    equation = f\"{a}x^2{b}x{c}\"\n",
    "    \n",
    "    return {'equation': equation};\n"
   ]
  },
  {
   "cell_type": "code",
   "execution_count": null,
   "id": "c41a0dd2",
   "metadata": {},
   "outputs": [],
   "source": [
    "def find_discriminant(state: QuadraticState):\n",
    "    a, b, c = state['a'], state['b'], state['c']\n",
    "    discriminant = (b**2) - 4 * a * c;\n",
    "    \n",
    "    return {'discriminant': discriminant}\n"
   ]
  },
  {
   "cell_type": "code",
   "execution_count": null,
   "id": "4b9dce96",
   "metadata": {},
   "outputs": [],
   "source": [
    "def no_roots(state: QuadraticState):\n",
    "    state['first_root'] = None\n",
    "    state['second_root'] = None\n",
    "    state['answer'] = \"No roots found\"\n",
    "    \n",
    "    return state;\n"
   ]
  },
  {
   "cell_type": "code",
   "execution_count": null,
   "id": "4a6205df",
   "metadata": {},
   "outputs": [],
   "source": [
    "def common_roots(state: QuadraticState):\n",
    "    a, b = state['a'], state['b']\n",
    "    state['first_root'] = state['second_root'] = (-b)/(2*a);\n",
    "    state['answer'] = f\"Roots are common, i.e., {state['first_root']}\"\n",
    "    \n",
    "    return state;\n"
   ]
  },
  {
   "cell_type": "code",
   "execution_count": null,
   "id": "d3211e00",
   "metadata": {},
   "outputs": [],
   "source": [
    "def real_roots(state: QuadraticState):\n",
    "    a, b = state['a'], state['b']\n",
    "    discriminant = state['discriminant'];\n",
    "    first_root = ((-b) + (math.sqrt(discriminant))) / (2*a)\n",
    "    second_root = ((-b) - (math.sqrt(discriminant))) / (2*a)\n",
    "    state['first_root'] = round(first_root, 2)\n",
    "    state['second_root'] = round(second_root, 2)\n",
    "    state['answer'] = f'Real roots are {state[\"first_root\"]} and {state[\"second_root\"]}'\n",
    "    \n",
    "    return state\n"
   ]
  },
  {
   "cell_type": "code",
   "execution_count": null,
   "id": "e8209fb7",
   "metadata": {},
   "outputs": [],
   "source": [
    "def check_condition(state: QuadraticState) -> Literal['no_roots', 'common_roots', 'real_roots']:\n",
    "    if state['discriminant'] < 0:\n",
    "        return \"no_roots\"\n",
    "    elif state['discriminant'] == 0:\n",
    "        return \"common_roots\"\n",
    "    else:\n",
    "        return \"real_roots\"\n"
   ]
  },
  {
   "cell_type": "code",
   "execution_count": null,
   "id": "384bce5b",
   "metadata": {},
   "outputs": [],
   "source": [
    "graph = StateGraph(QuadraticState)\n",
    "\n",
    "graph.add_node('show_equation', show_equation)\n",
    "graph.add_node('find_discriminant', find_discriminant)\n",
    "graph.add_node('no_roots', no_roots)\n",
    "graph.add_node('common_roots', common_roots)\n",
    "graph.add_node('real_roots', real_roots)\n",
    "\n",
    "graph.add_edge(START, 'show_equation')\n",
    "graph.add_edge('show_equation', 'find_discriminant')\n",
    "graph.add_conditional_edges('find_discriminant', check_condition)\n",
    "graph.add_edge('no_roots', END)\n",
    "graph.add_edge('common_roots', END)\n",
    "graph.add_edge('real_roots', END)\n",
    "\n",
    "workflow = graph.compile()\n"
   ]
  },
  {
   "cell_type": "code",
   "execution_count": null,
   "id": "5ba45ac2",
   "metadata": {},
   "outputs": [],
   "source": [
    "initial_state = {\n",
    "    'a': 2,\n",
    "    'b': -8,\n",
    "    'c': 6,\n",
    "}\n",
    "\n",
    "final_state = workflow.invoke(initial_state)\n"
   ]
  },
  {
   "cell_type": "code",
   "execution_count": null,
   "id": "196bb49b",
   "metadata": {},
   "outputs": [
    {
     "data": {
      "text/plain": [
       "{'a': 2,\n",
       " 'b': -8,\n",
       " 'c': 6,\n",
       " 'equation': '2x^2-8x+6',\n",
       " 'discriminant': 16,\n",
       " 'first_root': 3.0,\n",
       " 'second_root': 1.0,\n",
       " 'answer': 'Real roots are 3.0 and 1.0'}"
      ]
     },
     "execution_count": 40,
     "metadata": {},
     "output_type": "execute_result"
    }
   ],
   "source": [
    "final_state\n"
   ]
  }
 ],
 "metadata": {
  "kernelspec": {
   "display_name": ".venv (3.12.5)",
   "language": "python",
   "name": "python3"
  },
  "language_info": {
   "codemirror_mode": {
    "name": "ipython",
    "version": 3
   },
   "file_extension": ".py",
   "mimetype": "text/x-python",
   "name": "python",
   "nbconvert_exporter": "python",
   "pygments_lexer": "ipython3",
   "version": "3.12.5"
  }
 },
 "nbformat": 4,
 "nbformat_minor": 5
}
